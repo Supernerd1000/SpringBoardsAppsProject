{
 "cells": [
  {
   "cell_type": "markdown",
   "metadata": {
    "colab_type": "text",
    "id": "i2RUFW7TFcuh"
   },
   "source": [
    "# Springboard Apps project - Tier 3 - Complete\n",
    "\n",
    "Welcome to the Apps project! To give you a taste of your future career, we're going to walk through exactly the kind of notebook that you'd write as a data scientist. In the process, we'll be sure to signpost the general framework for our investigation - the Data Science Pipeline - as well as give reasons for why we're doing what we're doing. We're also going to apply some of the skills and knowledge you've built up in the previous unit when reading Professor Spiegelhalter's *The Art of Statistics* (hereinafter *AoS*). \n",
    "\n",
    "So let's get cracking!\n",
    "\n",
    "**Brief**\n",
    "\n",
    "Did Apple Store apps receive better reviews than Google Play apps?\n",
    "\n",
    "## Stages of the project\n",
    "\n",
    "1. Sourcing and loading \n",
    "    * Load the two datasets\n",
    "    * Pick the columns that we are going to work with \n",
    "    * Subsetting the data on this basis \n",
    " \n",
    " \n",
    "2. Cleaning, transforming and visualizing\n",
    "    * Check the data types and fix them\n",
    "    * Add a `platform` column to both the `Apple` and the `Google` dataframes\n",
    "    * Changing the column names to prepare for a join \n",
    "    * Join the two data sets\n",
    "    * Eliminate the `NaN` values\n",
    "    * Filter only those apps that have been reviewed at least once\n",
    "    * Summarize the data visually and analytically (by the column `platform`)  \n",
    "  \n",
    "  \n",
    "3. Modelling \n",
    "    * Hypothesis formulation\n",
    "    * Getting the distribution of the data\n",
    "    * Permutation test \n",
    "\n",
    "\n",
    "4. Evaluating and concluding \n",
    "    * What is our conclusion?\n",
    "    * What is our decision?\n",
    "    * Other models we could have used. \n",
    "    "
   ]
  },
  {
   "cell_type": "markdown",
   "metadata": {
    "colab_type": "text",
    "id": "QLUAXtl1Fcuk"
   },
   "source": [
    "## Importing the libraries\n",
    "\n",
    "In this case we are going to import pandas, numpy, scipy, random and matplotlib.pyplot"
   ]
  },
  {
   "cell_type": "code",
   "execution_count": 15,
   "metadata": {
    "colab": {},
    "colab_type": "code",
    "id": "XeXJOlGiFcum"
   },
   "outputs": [],
   "source": [
    "import pandas as pd\n",
    "import numpy as np\n",
    "import matplotlib.pyplot as plt\n",
    "# scipi is a library for statistical tests and visualizations \n",
    "from scipy import stats\n",
    "# random enables us to generate random numbers\n",
    "import random"
   ]
  },
  {
   "cell_type": "markdown",
   "metadata": {
    "colab_type": "text",
    "id": "zVD7NlPAFcup"
   },
   "source": [
    "## Stage 1 -  Sourcing and loading data"
   ]
  },
  {
   "cell_type": "markdown",
   "metadata": {
    "colab_type": "text",
    "id": "KU8bdbImFcuq"
   },
   "source": [
    "### 1a. Source and load the data\n",
    "Let's download the data from Kaggle. Kaggle is a fantastic resource: a kind of social medium for data scientists, it boasts projects, datasets and news on the freshest libraries and technologies all in one place. The data from the Apple Store can be found [here](https://www.kaggle.com/ramamet4/app-store-apple-data-set-10k-apps) and the data from Google Store can be found [here](https://www.kaggle.com/lava18/google-play-store-apps).\n",
    "Download the datasets and save them in your working directory."
   ]
  },
  {
   "cell_type": "code",
   "execution_count": 16,
   "metadata": {
    "colab": {},
    "colab_type": "code",
    "id": "laM1PB76Fcur"
   },
   "outputs": [
    {
     "name": "stdout",
     "output_type": "stream",
     "text": [
      "                                                 App        Category  Rating  \\\n",
      "0     Photo Editor & Candy Camera & Grid & ScrapBook  ART_AND_DESIGN     4.1   \n",
      "1                                Coloring book moana  ART_AND_DESIGN     3.9   \n",
      "2  U Launcher Lite – FREE Live Cool Themes, Hide ...  ART_AND_DESIGN     4.7   \n",
      "\n",
      "  Reviews  Size    Installs  Type Price Content Rating  \\\n",
      "0     159   19M     10,000+  Free     0       Everyone   \n",
      "1     967   14M    500,000+  Free     0       Everyone   \n",
      "2   87510  8.7M  5,000,000+  Free     0       Everyone   \n",
      "\n",
      "                      Genres      Last Updated Current Ver   Android Ver  \n",
      "0               Art & Design   January 7, 2018       1.0.0  4.0.3 and up  \n",
      "1  Art & Design;Pretend Play  January 15, 2018       2.0.0  4.0.3 and up  \n",
      "2               Art & Design    August 1, 2018       1.2.4  4.0.3 and up  \n"
     ]
    }
   ],
   "source": [
    "# Now that the files are saved, we want to load them into Python using read_csv and pandas.\n",
    "\n",
    "# Create a variable called google, and store in it the path of the csv file that contains your google dataset. \n",
    "# If your dataset is in the same folder as this notebook, the path will simply be the name of the file. \n",
    "google = 'googleplaystore.csv'\n",
    "\n",
    "# Read the csv file into a data frame called Google using the read_csv() pandas method.\n",
    "Google = pd.read_csv(google)\n",
    "\n",
    "# Using the head() pandas method, observe the first three entries.\n",
    "print(Google.head(3))"
   ]
  },
  {
   "cell_type": "code",
   "execution_count": 17,
   "metadata": {
    "colab": {},
    "colab_type": "code",
    "id": "3AW8EA1wFcuu"
   },
   "outputs": [
    {
     "name": "stdout",
     "output_type": "stream",
     "text": [
      "   Unnamed: 0         id                                       track_name  \\\n",
      "0           1  281656475                                  PAC-MAN Premium   \n",
      "1           2  281796108                        Evernote - stay organized   \n",
      "2           3  281940292  WeatherBug - Local Weather, Radar, Maps, Alerts   \n",
      "\n",
      "   size_bytes currency  price  rating_count_tot  rating_count_ver  \\\n",
      "0   100788224      USD   3.99             21292                26   \n",
      "1   158578688      USD   0.00            161065                26   \n",
      "2   100524032      USD   0.00            188583              2822   \n",
      "\n",
      "   user_rating  user_rating_ver    ver cont_rating   prime_genre  \\\n",
      "0          4.0              4.5  6.3.5          4+         Games   \n",
      "1          4.0              3.5  8.2.2          4+  Productivity   \n",
      "2          3.5              4.5  5.0.0          4+       Weather   \n",
      "\n",
      "   sup_devices.num  ipadSc_urls.num  lang.num  vpp_lic  \n",
      "0               38                5        10        1  \n",
      "1               37                5        23        1  \n",
      "2               37                5         3        1  \n"
     ]
    }
   ],
   "source": [
    "# Create a variable called apple, and store in it the path of the csv file that contains your apple dataset. \n",
    "apple = 'AppleStore.csv'\n",
    "\n",
    "# Read the csv file into a pandas DataFrame object called Apple.\n",
    "Apple = pd.read_csv(apple)\n",
    "\n",
    "# Observe the first three entries like you did with your other data. \n",
    "print(Apple.head(3))"
   ]
  },
  {
   "cell_type": "markdown",
   "metadata": {
    "colab_type": "text",
    "id": "vljOHKNTFcuw"
   },
   "source": [
    "### 1b. Pick the columns we'll work with\n",
    "\n",
    "From the documentation of these datasets, we can infer that the most appropriate columns to answer the brief are:\n",
    "\n",
    "1. Google:\n",
    "    * `Category` # Do we need this?\n",
    "    * `Rating`\n",
    "    * `Reviews`\n",
    "    * `Price` (maybe)\n",
    "2. Apple:    \n",
    "    * `prime_genre` # Do we need this?\n",
    "    * `user_rating` \n",
    "    * `rating_count_tot`\n",
    "    * `price` (maybe)"
   ]
  },
  {
   "cell_type": "markdown",
   "metadata": {
    "colab_type": "text",
    "id": "uf69AeTvFcux"
   },
   "source": [
    "### 1c. Subsetting accordingly\n",
    "\n",
    "Let's select only those columns that we want to work with from both datasets. We'll overwrite the subsets in the original variables."
   ]
  },
  {
   "cell_type": "code",
   "execution_count": 18,
   "metadata": {
    "colab": {},
    "colab_type": "code",
    "id": "LNSDXyjdFcuy"
   },
   "outputs": [
    {
     "name": "stdout",
     "output_type": "stream",
     "text": [
      "         Category  Rating Reviews Price\n",
      "0  ART_AND_DESIGN     4.1     159     0\n",
      "1  ART_AND_DESIGN     3.9     967     0\n",
      "2  ART_AND_DESIGN     4.7   87510     0\n"
     ]
    }
   ],
   "source": [
    "# Subset our DataFrame object Google by selecting just the variables ['Category', 'Rating', 'Reviews', 'Price']\n",
    "\n",
    "Google = Google[['Category', 'Rating', 'Reviews', 'Price']]\n",
    "\n",
    "\n",
    "\n",
    "# Check the first three entries\n",
    "\n",
    "print(Google.head(3))"
   ]
  },
  {
   "cell_type": "code",
   "execution_count": 19,
   "metadata": {
    "colab": {},
    "colab_type": "code",
    "id": "AVCtENPtFcu0"
   },
   "outputs": [
    {
     "name": "stdout",
     "output_type": "stream",
     "text": [
      "    prime_genre  user_rating  rating_count_tot  price\n",
      "0         Games          4.0             21292   3.99\n",
      "1  Productivity          4.0            161065   0.00\n",
      "2       Weather          3.5            188583   0.00\n"
     ]
    }
   ],
   "source": [
    "# Do the same with our Apple object, selecting just the variables ['prime_genre', 'user_rating', 'rating_count_tot', 'price']\n",
    "Apple = Apple[['prime_genre', 'user_rating', 'rating_count_tot', 'price']]\n",
    "\n",
    "# Let's check the first three entries\n",
    "print(Apple.head(3))"
   ]
  },
  {
   "cell_type": "markdown",
   "metadata": {
    "colab_type": "text",
    "id": "wwK2wH-rFcu2"
   },
   "source": [
    "## Stage 2 -  Cleaning, transforming and visualizing"
   ]
  },
  {
   "cell_type": "markdown",
   "metadata": {
    "colab_type": "text",
    "id": "NsoE5x0JFcu3"
   },
   "source": [
    "### 2a. Check the data types for both Apple and Google, and fix them\n",
    "\n",
    "Types are crucial for data science in Python. Let's determine whether the variables we selected in the previous section belong to the types they should do, or whether there are any errors here. "
   ]
  },
  {
   "cell_type": "code",
   "execution_count": 20,
   "metadata": {
    "colab": {},
    "colab_type": "code",
    "id": "ymw10SaWFcu4"
   },
   "outputs": [
    {
     "data": {
      "text/plain": [
       "prime_genre          object\n",
       "user_rating         float64\n",
       "rating_count_tot      int64\n",
       "price               float64\n",
       "dtype: object"
      ]
     },
     "execution_count": 20,
     "metadata": {},
     "output_type": "execute_result"
    }
   ],
   "source": [
    "# Using the dtypes feature of pandas DataFrame objects, check out the data types within our Apple dataframe.\n",
    "# Are they what you expect?\n",
    "Apple.dtypes"
   ]
  },
  {
   "cell_type": "markdown",
   "metadata": {
    "colab_type": "text",
    "id": "VAiM6jIxFcu6"
   },
   "source": [
    "This is looking healthy. But what about our Google data frame?"
   ]
  },
  {
   "cell_type": "code",
   "execution_count": 21,
   "metadata": {
    "colab": {},
    "colab_type": "code",
    "id": "kmP8MhqyFcu7"
   },
   "outputs": [
    {
     "data": {
      "text/plain": [
       "Category     object\n",
       "Rating      float64\n",
       "Reviews      object\n",
       "Price        object\n",
       "dtype: object"
      ]
     },
     "execution_count": 21,
     "metadata": {},
     "output_type": "execute_result"
    }
   ],
   "source": [
    "# Using the same dtypes feature, check out the data types of our Google dataframe. \n",
    "Google.dtypes"
   ]
  },
  {
   "cell_type": "markdown",
   "metadata": {
    "colab_type": "text",
    "id": "O-dxAy0WFcu9"
   },
   "source": [
    "Weird. The data type for the column 'Price' is 'object', not a numeric data type like a float or an integer. Let's investigate the unique values of this column. "
   ]
  },
  {
   "cell_type": "code",
   "execution_count": 22,
   "metadata": {
    "colab": {},
    "colab_type": "code",
    "id": "Hu08K9y7Fcu9"
   },
   "outputs": [
    {
     "data": {
      "text/plain": [
       "array(['0', '$4.99', '$3.99', '$6.99', '$1.49', '$2.99', '$7.99', '$5.99',\n",
       "       '$3.49', '$1.99', '$9.99', '$7.49', '$0.99', '$9.00', '$5.49',\n",
       "       '$10.00', '$24.99', '$11.99', '$79.99', '$16.99', '$14.99',\n",
       "       '$1.00', '$29.99', '$12.99', '$2.49', '$10.99', '$1.50', '$19.99',\n",
       "       '$15.99', '$33.99', '$74.99', '$39.99', '$3.95', '$4.49', '$1.70',\n",
       "       '$8.99', '$2.00', '$3.88', '$25.99', '$399.99', '$17.99',\n",
       "       '$400.00', '$3.02', '$1.76', '$4.84', '$4.77', '$1.61', '$2.50',\n",
       "       '$1.59', '$6.49', '$1.29', '$5.00', '$13.99', '$299.99', '$379.99',\n",
       "       '$37.99', '$18.99', '$389.99', '$19.90', '$8.49', '$1.75',\n",
       "       '$14.00', '$4.85', '$46.99', '$109.99', '$154.99', '$3.08',\n",
       "       '$2.59', '$4.80', '$1.96', '$19.40', '$3.90', '$4.59', '$15.46',\n",
       "       '$3.04', '$4.29', '$2.60', '$3.28', '$4.60', '$28.99', '$2.95',\n",
       "       '$2.90', '$1.97', '$200.00', '$89.99', '$2.56', '$30.99', '$3.61',\n",
       "       '$394.99', '$1.26', 'Everyone', '$1.20', '$1.04'], dtype=object)"
      ]
     },
     "execution_count": 22,
     "metadata": {},
     "output_type": "execute_result"
    }
   ],
   "source": [
    "# Use the unique() pandas method on the Price column to check its unique values. \n",
    "Google['Price'].unique()"
   ]
  },
  {
   "cell_type": "markdown",
   "metadata": {
    "colab_type": "text",
    "id": "w_7nkogFFcu_"
   },
   "source": [
    "Aha! Fascinating. There are actually two issues here. \n",
    "\n",
    "- Firstly, there's a price called `Everyone`. That is a massive mistake! \n",
    "- Secondly, there are dollar symbols everywhere! \n",
    "\n",
    "\n",
    "Let's address the first issue first. Let's check the datapoints that have the price value `Everyone`"
   ]
  },
  {
   "cell_type": "code",
   "execution_count": 23,
   "metadata": {
    "colab": {},
    "colab_type": "code",
    "id": "E75WWmhdFcvA"
   },
   "outputs": [
    {
     "data": {
      "text/html": [
       "<div>\n",
       "<style scoped>\n",
       "    .dataframe tbody tr th:only-of-type {\n",
       "        vertical-align: middle;\n",
       "    }\n",
       "\n",
       "    .dataframe tbody tr th {\n",
       "        vertical-align: top;\n",
       "    }\n",
       "\n",
       "    .dataframe thead th {\n",
       "        text-align: right;\n",
       "    }\n",
       "</style>\n",
       "<table border=\"1\" class=\"dataframe\">\n",
       "  <thead>\n",
       "    <tr style=\"text-align: right;\">\n",
       "      <th></th>\n",
       "      <th>Category</th>\n",
       "      <th>Rating</th>\n",
       "      <th>Reviews</th>\n",
       "      <th>Price</th>\n",
       "    </tr>\n",
       "  </thead>\n",
       "  <tbody>\n",
       "    <tr>\n",
       "      <th>10472</th>\n",
       "      <td>1.9</td>\n",
       "      <td>19.0</td>\n",
       "      <td>3.0M</td>\n",
       "      <td>Everyone</td>\n",
       "    </tr>\n",
       "  </tbody>\n",
       "</table>\n",
       "</div>"
      ],
      "text/plain": [
       "      Category  Rating Reviews     Price\n",
       "10472      1.9    19.0    3.0M  Everyone"
      ]
     },
     "execution_count": 23,
     "metadata": {},
     "output_type": "execute_result"
    }
   ],
   "source": [
    "# Let's check which data points have the value 'Everyone' for the 'Price' column by subsetting our Google dataframe.\n",
    "\n",
    "\n",
    "# Subset the Google dataframe on the price column. \n",
    "# To be sure: you want to pick out just those rows whose value for the 'Price' column is just 'Everyone'. \n",
    "Google[Google['Price'] == \"Everyone\"]"
   ]
  },
  {
   "cell_type": "markdown",
   "metadata": {
    "colab_type": "text",
    "id": "ezfLshdRFcvC"
   },
   "source": [
    "Thankfully, it's just one row. We've gotta get rid of it. "
   ]
  },
  {
   "cell_type": "code",
   "execution_count": 24,
   "metadata": {
    "colab": {},
    "colab_type": "code",
    "id": "DBmjUQUkFcvD"
   },
   "outputs": [
    {
     "data": {
      "text/plain": [
       "array(['0', '$4.99', '$3.99', '$6.99', '$1.49', '$2.99', '$7.99', '$5.99',\n",
       "       '$3.49', '$1.99', '$9.99', '$7.49', '$0.99', '$9.00', '$5.49',\n",
       "       '$10.00', '$24.99', '$11.99', '$79.99', '$16.99', '$14.99',\n",
       "       '$1.00', '$29.99', '$12.99', '$2.49', '$10.99', '$1.50', '$19.99',\n",
       "       '$15.99', '$33.99', '$74.99', '$39.99', '$3.95', '$4.49', '$1.70',\n",
       "       '$8.99', '$2.00', '$3.88', '$25.99', '$399.99', '$17.99',\n",
       "       '$400.00', '$3.02', '$1.76', '$4.84', '$4.77', '$1.61', '$2.50',\n",
       "       '$1.59', '$6.49', '$1.29', '$5.00', '$13.99', '$299.99', '$379.99',\n",
       "       '$37.99', '$18.99', '$389.99', '$19.90', '$8.49', '$1.75',\n",
       "       '$14.00', '$4.85', '$46.99', '$109.99', '$154.99', '$3.08',\n",
       "       '$2.59', '$4.80', '$1.96', '$19.40', '$3.90', '$4.59', '$15.46',\n",
       "       '$3.04', '$4.29', '$2.60', '$3.28', '$4.60', '$28.99', '$2.95',\n",
       "       '$2.90', '$1.97', '$200.00', '$89.99', '$2.56', '$30.99', '$3.61',\n",
       "       '$394.99', '$1.26', '$1.20', '$1.04'], dtype=object)"
      ]
     },
     "execution_count": 24,
     "metadata": {},
     "output_type": "execute_result"
    }
   ],
   "source": [
    "# Let's eliminate that row. \n",
    "\n",
    "# Subset our Google dataframe to pick out just those rows whose value for the 'Price' column is NOT 'Everyone'. \n",
    "# Reassign that subset to the Google variable. \n",
    "# You can do this in two lines or one. Your choice! \n",
    "Google = Google[Google.Price != 'Everyone']\n",
    "\n",
    "# Check again the unique values of Google\n",
    "Google['Price'].unique()"
   ]
  },
  {
   "cell_type": "markdown",
   "metadata": {
    "colab_type": "text",
    "id": "T43TB4qFFcvF"
   },
   "source": [
    "Our second problem remains: I'm seeing dollar symbols when I close my eyes! (And not in a good way). \n",
    "\n",
    "This is a problem because Python actually considers these values strings. So we can't do mathematical and statistical operations on them until we've made them into numbers. "
   ]
  },
  {
   "cell_type": "code",
   "execution_count": 25,
   "metadata": {
    "colab": {},
    "colab_type": "code",
    "id": "W87gVS9BFcvG"
   },
   "outputs": [],
   "source": [
    "# Let's create a variable called nosymb.\n",
    "# This variable will take the Price column of Google and apply the str.replace() method. \n",
    "\n",
    "\n",
    "nosymb = Google['Price'].apply(lambda x:x.replace(\"$\",\"\"))\n",
    "\n",
    "Google['Price'] = pd.to_numeric(nosymb)\n",
    "\n",
    "\n",
    "# Now we need to do two things:\n",
    "# i. Make the values in the nosymb variable numeric using the to_numeric() pandas method.\n",
    "# ii. Assign this new set of numeric, dollar-sign-less values to Google['Price']. \n",
    "# You can do this in one line if you wish.\n",
    "\n",
    "\n"
   ]
  },
  {
   "cell_type": "markdown",
   "metadata": {
    "colab_type": "text",
    "id": "LxpJQ9yyFcvI"
   },
   "source": [
    "Now let's check the data types for our Google dataframe again, to verify that the 'Price' column really is numeric now."
   ]
  },
  {
   "cell_type": "code",
   "execution_count": 26,
   "metadata": {
    "colab": {},
    "colab_type": "code",
    "id": "Fn5Gt-QbFcvI"
   },
   "outputs": [
    {
     "data": {
      "text/plain": [
       "Category     object\n",
       "Rating      float64\n",
       "Reviews      object\n",
       "Price       float64\n",
       "dtype: object"
      ]
     },
     "execution_count": 26,
     "metadata": {},
     "output_type": "execute_result"
    }
   ],
   "source": [
    "# Use the function dtypes. \n",
    "Google.dtypes"
   ]
  },
  {
   "cell_type": "markdown",
   "metadata": {
    "colab_type": "text",
    "id": "FgfuiVo0FcvK"
   },
   "source": [
    "Notice that the column `Reviews` is still an object column. We actually need this column to be a numeric column, too. "
   ]
  },
  {
   "cell_type": "code",
   "execution_count": 29,
   "metadata": {},
   "outputs": [
    {
     "data": {
      "text/plain": [
       "0           159\n",
       "1           967\n",
       "2         87510\n",
       "3        215644\n",
       "4           967\n",
       "5           167\n",
       "6           178\n",
       "7         36815\n",
       "8         13791\n",
       "9           121\n",
       "10        13880\n",
       "11         8788\n",
       "12        44829\n",
       "13         4326\n",
       "14         1518\n",
       "15           55\n",
       "16         3632\n",
       "17           27\n",
       "18       194216\n",
       "19       224399\n",
       "20          450\n",
       "21          654\n",
       "22         7699\n",
       "23           61\n",
       "24          118\n",
       "25          192\n",
       "26        20260\n",
       "27          203\n",
       "28          136\n",
       "29          223\n",
       "          ...  \n",
       "10811         4\n",
       "10812        80\n",
       "10813        20\n",
       "10814       785\n",
       "10815      5775\n",
       "10816         2\n",
       "10817       885\n",
       "10818        96\n",
       "10819        52\n",
       "10820        22\n",
       "10821         6\n",
       "10822         0\n",
       "10823         1\n",
       "10824        67\n",
       "10825         7\n",
       "10826     88486\n",
       "10827       117\n",
       "10828       291\n",
       "10829       603\n",
       "10830       881\n",
       "10831        38\n",
       "10832      1195\n",
       "10833        44\n",
       "10834         7\n",
       "10835         0\n",
       "10836        38\n",
       "10837         4\n",
       "10838         3\n",
       "10839       114\n",
       "10840    398307\n",
       "Name: Reviews, Length: 10840, dtype: int64"
      ]
     },
     "execution_count": 29,
     "metadata": {},
     "output_type": "execute_result"
    }
   ],
   "source": [
    "Google['Reviews']"
   ]
  },
  {
   "cell_type": "code",
   "execution_count": 30,
   "metadata": {
    "colab": {},
    "colab_type": "code",
    "id": "MiVEWsWBFcvL"
   },
   "outputs": [],
   "source": [
    "# Convert the 'Reviews' column to a numeric data type. \n",
    "Google['Reviews'] = pd.to_numeric(Google['Reviews'].replace())"
   ]
  },
  {
   "cell_type": "code",
   "execution_count": 32,
   "metadata": {
    "colab": {},
    "colab_type": "code",
    "id": "wWJdXXTTFcvN"
   },
   "outputs": [
    {
     "name": "stdout",
     "output_type": "stream",
     "text": [
      "0           159\n",
      "1           967\n",
      "2         87510\n",
      "3        215644\n",
      "4           967\n",
      "5           167\n",
      "6           178\n",
      "7         36815\n",
      "8         13791\n",
      "9           121\n",
      "10        13880\n",
      "11         8788\n",
      "12        44829\n",
      "13         4326\n",
      "14         1518\n",
      "15           55\n",
      "16         3632\n",
      "17           27\n",
      "18       194216\n",
      "19       224399\n",
      "20          450\n",
      "21          654\n",
      "22         7699\n",
      "23           61\n",
      "24          118\n",
      "25          192\n",
      "26        20260\n",
      "27          203\n",
      "28          136\n",
      "29          223\n",
      "          ...  \n",
      "10811         4\n",
      "10812        80\n",
      "10813        20\n",
      "10814       785\n",
      "10815      5775\n",
      "10816         2\n",
      "10817       885\n",
      "10818        96\n",
      "10819        52\n",
      "10820        22\n",
      "10821         6\n",
      "10822         0\n",
      "10823         1\n",
      "10824        67\n",
      "10825         7\n",
      "10826     88486\n",
      "10827       117\n",
      "10828       291\n",
      "10829       603\n",
      "10830       881\n",
      "10831        38\n",
      "10832      1195\n",
      "10833        44\n",
      "10834         7\n",
      "10835         0\n",
      "10836        38\n",
      "10837         4\n",
      "10838         3\n",
      "10839       114\n",
      "10840    398307\n",
      "Name: Reviews, Length: 10840, dtype: int64\n"
     ]
    },
    {
     "data": {
      "text/plain": [
       "Category     object\n",
       "Rating      float64\n",
       "Reviews       int64\n",
       "Price       float64\n",
       "dtype: object"
      ]
     },
     "execution_count": 32,
     "metadata": {},
     "output_type": "execute_result"
    }
   ],
   "source": [
    "\n",
    "print(Google['Reviews'])\n",
    "# Let's check the data types of Google again\n",
    "Google.dtypes"
   ]
  },
  {
   "cell_type": "markdown",
   "metadata": {
    "colab_type": "text",
    "id": "OiLm2GEKFcvP"
   },
   "source": [
    "### 2b. Add a `platform` column to both the `Apple` and the `Google` dataframes\n",
    "Let's add a new column to both dataframe objects called `platform`: all of its values in the Google dataframe will be just 'google', and all of its values for the Apple dataframe will be just 'apple'. \n",
    "\n",
    "The reason we're making this column is so that we can ultimately join our Apple and Google data together, and actually test out some hypotheses to solve the problem in our brief. "
   ]
  },
  {
   "cell_type": "code",
   "execution_count": 33,
   "metadata": {
    "colab": {},
    "colab_type": "code",
    "id": "mF-sOcx2FcvQ"
   },
   "outputs": [],
   "source": [
    "# Create a column called 'platform' in both the Apple and Google dataframes. \n",
    "# Add the value 'apple' and the value 'google' as appropriate. \n",
    "Apple['platform']='apple'\n",
    "Google['platform']='google'"
   ]
  },
  {
   "cell_type": "markdown",
   "metadata": {
    "colab_type": "text",
    "id": "EJcry17IFcvS"
   },
   "source": [
    "### 2c. Changing the column names to prepare for our join of the two datasets \n",
    "Since the easiest way to join two datasets is if they have both:\n",
    "- the same number of columns\n",
    "- the same column names\n",
    "we need to rename the columns of `Apple` so that they're the same as the ones of `Google`, or vice versa.\n",
    "\n",
    "In this case, we're going to change the `Apple` columns names to the names of the `Google` columns. \n",
    "\n",
    "This is an important step to unify the two datasets!"
   ]
  },
  {
   "cell_type": "code",
   "execution_count": 44,
   "metadata": {
    "colab": {},
    "colab_type": "code",
    "id": "bdt9XH2KFcvT"
   },
   "outputs": [
    {
     "name": "stdout",
     "output_type": "stream",
     "text": [
      "       Category  Rating  Reviews  Price platform\n",
      "0         Games     4.0    21292   3.99    apple\n",
      "1  Productivity     4.0   161065   0.00    apple\n",
      "2       Weather     3.5   188583   0.00    apple\n",
      "3      Shopping     4.0   262241   0.00    apple\n",
      "4     Reference     4.5   985920   0.00    apple\n",
      "         Category  Rating  Reviews  Price platform\n",
      "0  ART_AND_DESIGN     4.1      159    0.0   google\n",
      "1  ART_AND_DESIGN     3.9      967    0.0   google\n",
      "2  ART_AND_DESIGN     4.7    87510    0.0   google\n",
      "3  ART_AND_DESIGN     4.5   215644    0.0   google\n",
      "4  ART_AND_DESIGN     4.3      967    0.0   google\n"
     ]
    }
   ],
   "source": [
    "# Create a variable called old_names where you'll store the column names of the Apple dataframe. \n",
    "# Use the feature .columns.\n",
    "#old_names = Apple.columns\n",
    "\n",
    "\n",
    "# Create a variable called new_names where you'll store the column names of the Google dataframe. \n",
    "#new_names = Google.columns\n",
    "\n",
    "\n",
    "# Use the rename() DataFrame method to change the columns names. \n",
    "'''Apple.rename(columns = {'user_rating':'Rating', 'rating_count_tot':'Reviews', \n",
    "                              'price':'Price', 'prime_genre':'Category'}, inplace = True) '''\n",
    "old_names = Apple.columns\n",
    "new_names = Google.columns\n",
    "\n",
    "for idx, old_name in enumerate(old_names):\n",
    "    Apple.rename(columns = {old_name:new_names[idx]}, inplace=True)\n",
    "    \n",
    "print(Apple.head())\n",
    "print(Google.head())"
   ]
  },
  {
   "cell_type": "markdown",
   "metadata": {
    "colab_type": "text",
    "id": "qewPiLrRFcvX"
   },
   "source": [
    "### 2d. Join the two datasets \n",
    "Let's combine the two datasets into a single data frame called `df`."
   ]
  },
  {
   "cell_type": "code",
   "execution_count": 45,
   "metadata": {
    "colab": {},
    "colab_type": "code",
    "id": "jq6fGfvyFcvY"
   },
   "outputs": [
    {
     "data": {
      "text/html": [
       "<div>\n",
       "<style scoped>\n",
       "    .dataframe tbody tr th:only-of-type {\n",
       "        vertical-align: middle;\n",
       "    }\n",
       "\n",
       "    .dataframe tbody tr th {\n",
       "        vertical-align: top;\n",
       "    }\n",
       "\n",
       "    .dataframe thead th {\n",
       "        text-align: right;\n",
       "    }\n",
       "</style>\n",
       "<table border=\"1\" class=\"dataframe\">\n",
       "  <thead>\n",
       "    <tr style=\"text-align: right;\">\n",
       "      <th></th>\n",
       "      <th>Category</th>\n",
       "      <th>Rating</th>\n",
       "      <th>Reviews</th>\n",
       "      <th>Price</th>\n",
       "      <th>platform</th>\n",
       "    </tr>\n",
       "  </thead>\n",
       "  <tbody>\n",
       "    <tr>\n",
       "      <th>10204</th>\n",
       "      <td>FAMILY</td>\n",
       "      <td>3.4</td>\n",
       "      <td>121</td>\n",
       "      <td>0.00</td>\n",
       "      <td>google</td>\n",
       "    </tr>\n",
       "    <tr>\n",
       "      <th>6519</th>\n",
       "      <td>Games</td>\n",
       "      <td>4.5</td>\n",
       "      <td>63</td>\n",
       "      <td>6.99</td>\n",
       "      <td>apple</td>\n",
       "    </tr>\n",
       "    <tr>\n",
       "      <th>1067</th>\n",
       "      <td>Games</td>\n",
       "      <td>4.5</td>\n",
       "      <td>11190</td>\n",
       "      <td>1.99</td>\n",
       "      <td>apple</td>\n",
       "    </tr>\n",
       "    <tr>\n",
       "      <th>8378</th>\n",
       "      <td>GAME</td>\n",
       "      <td>4.4</td>\n",
       "      <td>10786</td>\n",
       "      <td>0.00</td>\n",
       "      <td>google</td>\n",
       "    </tr>\n",
       "    <tr>\n",
       "      <th>6662</th>\n",
       "      <td>Games</td>\n",
       "      <td>0.0</td>\n",
       "      <td>0</td>\n",
       "      <td>0.99</td>\n",
       "      <td>apple</td>\n",
       "    </tr>\n",
       "    <tr>\n",
       "      <th>8366</th>\n",
       "      <td>SHOPPING</td>\n",
       "      <td>4.7</td>\n",
       "      <td>10318</td>\n",
       "      <td>0.00</td>\n",
       "      <td>google</td>\n",
       "    </tr>\n",
       "    <tr>\n",
       "      <th>7547</th>\n",
       "      <td>TOOLS</td>\n",
       "      <td>3.4</td>\n",
       "      <td>2889</td>\n",
       "      <td>0.00</td>\n",
       "      <td>google</td>\n",
       "    </tr>\n",
       "    <tr>\n",
       "      <th>2538</th>\n",
       "      <td>Education</td>\n",
       "      <td>4.5</td>\n",
       "      <td>1424</td>\n",
       "      <td>0.00</td>\n",
       "      <td>apple</td>\n",
       "    </tr>\n",
       "    <tr>\n",
       "      <th>1382</th>\n",
       "      <td>HEALTH_AND_FITNESS</td>\n",
       "      <td>4.4</td>\n",
       "      <td>141163</td>\n",
       "      <td>0.00</td>\n",
       "      <td>google</td>\n",
       "    </tr>\n",
       "    <tr>\n",
       "      <th>769</th>\n",
       "      <td>Shopping</td>\n",
       "      <td>4.5</td>\n",
       "      <td>1026</td>\n",
       "      <td>0.00</td>\n",
       "      <td>apple</td>\n",
       "    </tr>\n",
       "    <tr>\n",
       "      <th>3965</th>\n",
       "      <td>Book</td>\n",
       "      <td>5.0</td>\n",
       "      <td>207</td>\n",
       "      <td>3.99</td>\n",
       "      <td>apple</td>\n",
       "    </tr>\n",
       "    <tr>\n",
       "      <th>10624</th>\n",
       "      <td>BUSINESS</td>\n",
       "      <td>2.9</td>\n",
       "      <td>97</td>\n",
       "      <td>0.00</td>\n",
       "      <td>google</td>\n",
       "    </tr>\n",
       "  </tbody>\n",
       "</table>\n",
       "</div>"
      ],
      "text/plain": [
       "                 Category  Rating  Reviews  Price platform\n",
       "10204              FAMILY     3.4      121   0.00   google\n",
       "6519                Games     4.5       63   6.99    apple\n",
       "1067                Games     4.5    11190   1.99    apple\n",
       "8378                 GAME     4.4    10786   0.00   google\n",
       "6662                Games     0.0        0   0.99    apple\n",
       "8366             SHOPPING     4.7    10318   0.00   google\n",
       "7547                TOOLS     3.4     2889   0.00   google\n",
       "2538            Education     4.5     1424   0.00    apple\n",
       "1382   HEALTH_AND_FITNESS     4.4   141163   0.00   google\n",
       "769              Shopping     4.5     1026   0.00    apple\n",
       "3965                 Book     5.0      207   3.99    apple\n",
       "10624            BUSINESS     2.9       97   0.00   google"
      ]
     },
     "execution_count": 45,
     "metadata": {},
     "output_type": "execute_result"
    }
   ],
   "source": [
    "# Let's use the append() method to append Apple to Google. \n",
    "df=Google.append(Apple)\n",
    "\n",
    "# Using the sample() method with the number 12 passed to it, check 12 random points of your dataset.\n",
    "df.sample(12)"
   ]
  },
  {
   "cell_type": "markdown",
   "metadata": {
    "colab_type": "text",
    "id": "FjqsHugWFcvb"
   },
   "source": [
    "### 2e. Eliminate the NaN values\n",
    "\n",
    "As you can see there are some `NaN` values. We want to eliminate all these `NaN` values from the table."
   ]
  },
  {
   "cell_type": "code",
   "execution_count": 46,
   "metadata": {
    "colab": {},
    "colab_type": "code",
    "id": "Gp2q6GLyFcvb"
   },
   "outputs": [
    {
     "name": "stdout",
     "output_type": "stream",
     "text": [
      "(18037, 5)\n",
      "(16563, 5)\n"
     ]
    }
   ],
   "source": [
    "# Lets check first the dimesions of df before droping `NaN` values. Use the .shape feature. \n",
    "print(df.shape)\n",
    "\n",
    "# Use the dropna() method to eliminate all the NaN values, and overwrite the same dataframe with the result. \n",
    "df = df.dropna()\n",
    "\n",
    "# Check the new dimesions of our dataframe. \n",
    "print(df.shape)"
   ]
  },
  {
   "cell_type": "markdown",
   "metadata": {
    "colab_type": "text",
    "id": "qtfeQKtAFcvd"
   },
   "source": [
    "### 2f. Filter the data so that we only see whose apps that have been reviewed at least once\n",
    "\n",
    "Apps that haven't been reviewed yet can't help us solve our brief. \n",
    "\n",
    "So let's check to see if any apps have no reviews at all. "
   ]
  },
  {
   "cell_type": "code",
   "execution_count": 47,
   "metadata": {
    "colab": {},
    "colab_type": "code",
    "id": "Ge9OKXLNFcvd"
   },
   "outputs": [
    {
     "data": {
      "text/plain": [
       "Category    929\n",
       "Rating      929\n",
       "Reviews     929\n",
       "Price       929\n",
       "platform    929\n",
       "dtype: int64"
      ]
     },
     "execution_count": 47,
     "metadata": {},
     "output_type": "execute_result"
    }
   ],
   "source": [
    "# Subset your df to pick out just those rows whose value for 'Reviews' is equal to 0. \n",
    "# Do a count() on the result. \n",
    "df[df['Reviews']==0].count()"
   ]
  },
  {
   "cell_type": "markdown",
   "metadata": {
    "colab_type": "text",
    "id": "05f7H0kAFcvg"
   },
   "source": [
    "929 apps do not have reviews, we need to eliminate these points!"
   ]
  },
  {
   "cell_type": "code",
   "execution_count": 49,
   "metadata": {
    "colab": {},
    "colab_type": "code",
    "id": "pD8vmPjkFcvg"
   },
   "outputs": [
    {
     "name": "stdout",
     "output_type": "stream",
     "text": [
      "         Category  Rating  Reviews  Price platform\n",
      "0  ART_AND_DESIGN     4.1      159    0.0   google\n",
      "1  ART_AND_DESIGN     3.9      967    0.0   google\n",
      "2  ART_AND_DESIGN     4.7    87510    0.0   google\n",
      "3  ART_AND_DESIGN     4.5   215644    0.0   google\n",
      "4  ART_AND_DESIGN     4.3      967    0.0   google\n"
     ]
    }
   ],
   "source": [
    "# Eliminate the points that have 0 reviews.\n",
    "df = df[df.Reviews != 0]\n",
    "\n",
    "print(df.head())"
   ]
  },
  {
   "cell_type": "markdown",
   "metadata": {
    "colab_type": "text",
    "id": "ApnKES_bFcvi"
   },
   "source": [
    "### 2g. Summarize the data visually and analytically (by the column `platform`)"
   ]
  },
  {
   "cell_type": "markdown",
   "metadata": {
    "colab_type": "text",
    "id": "2smt9UocFcvj"
   },
   "source": [
    "What we need to solve our brief is a summary of the `Rating` column, but separated by the different platforms."
   ]
  },
  {
   "cell_type": "code",
   "execution_count": 58,
   "metadata": {
    "colab": {},
    "colab_type": "code",
    "id": "Vqckt347Fcvj"
   },
   "outputs": [
    {
     "name": "stdout",
     "output_type": "stream",
     "text": [
      "            Rating        Reviews     Price\n",
      "platform                                   \n",
      "apple     4.049697   14803.805520  1.821977\n",
      "google    4.191757  514049.836536  0.960928\n"
     ]
    }
   ],
   "source": [
    "# To summarize analytically, let's use the groupby() method on our df.\n",
    "gb = df.groupby('platform').mean()\n",
    "\n",
    "print(gb.head())\n",
    "\n"
   ]
  },
  {
   "cell_type": "markdown",
   "metadata": {
    "colab_type": "text",
    "id": "8f9TqMtKFcvl"
   },
   "source": [
    "Interesting! Our means of 4.049697 and 4.191757 don't **seem** all that different! Perhaps we've solved our brief already: there's no significant difference between Google Play app reviews and Apple Store app reviews. We have an ***observed difference*** here: which is simply (4.191757 - 4.049697) = 0.14206. This is just the actual difference that we observed between the mean rating for apps from Google Play, and the mean rating for apps from the Apple Store. Let's look at how we're going to use this observed difference to solve our problem using a statistical test. \n",
    "\n",
    "**Outline of our method:**\n",
    "1. We'll assume that platform (i.e, whether the app was Google or Apple) really doesn’t impact on ratings. \n",
    "\n",
    "\n",
    "2. Given this assumption, we should actually be able to get a difference in mean rating for Apple apps and mean rating for Google apps that's pretty similar to the one we actually got (0.14206) just by: \n",
    "a. shuffling the ratings column, \n",
    "b. keeping the platform column the same,\n",
    "c. calculating the difference between the mean rating for Apple and the mean rating for Google. \n",
    "\n",
    "\n",
    "3. We can make the shuffle more useful by doing it many times, each time calculating the mean rating for Apple apps and the mean rating for Google apps, and the difference between these means. \n",
    "\n",
    "\n",
    "4. We can then take the mean of all these differences, and this will be called our permutation difference. This permutation difference will be great indicator of what the difference would be if our initial assumption were true and platform really doesn’t impact on ratings. \n",
    "\n",
    "\n",
    "5. Now we do a comparison. If the observed difference looks just like the permutation difference, then we stick with the claim that actually, platform doesn’t impact on ratings. If instead, however, the permutation difference differs significantly from the observed difference, we'll conclude: something's going on; the platform does in fact impact on ratings. \n",
    "\n",
    "\n",
    "6. As for what the definition of *significantly* is, we'll get to that. But there’s a brief summary of what we're going to do. Exciting!\n",
    "\n",
    "If you want to look more deeply at the statistics behind this project, check out [this resource](https://www.springboard.com/archeio/download/4ea4d453b0b84014bcef287c50f47f00/)."
   ]
  },
  {
   "cell_type": "markdown",
   "metadata": {
    "colab_type": "text",
    "id": "d6EhTxArFcvm"
   },
   "source": [
    "Let's also get a **visual summary** of the `Rating` column, separated by the different platforms. \n",
    "\n",
    "A good tool to use here is the boxplot!"
   ]
  },
  {
   "cell_type": "code",
   "execution_count": 102,
   "metadata": {
    "colab": {},
    "colab_type": "code",
    "id": "hFKjrlWgFcvm"
   },
   "outputs": [
    {
     "data": {
      "text/plain": [
       "<matplotlib.axes._subplots.AxesSubplot at 0x7f0b6684a4d0>"
      ]
     },
     "execution_count": 102,
     "metadata": {},
     "output_type": "execute_result"
    },
    {
     "data": {
      "image/png": "[encoded data removed]",
      "text/plain": [
       "<Figure size 432x288 with 1 Axes>"
      ]
     },
     "metadata": {
      "needs_background": "light"
     },
     "output_type": "display_data"
    }
   ],
   "source": [
    "# Call the boxplot() method on our df.\n",
    "df.boxplot(column=['Rating'], by=['platform'], grid=False, rot=45, fontsize=15)"
   ]
  },
  {
   "cell_type": "markdown",
   "metadata": {
    "colab_type": "text",
    "id": "FqTlAjnmFcvo"
   },
   "source": [
    "Here we see the same information as in the analytical summary, but with a boxplot. Can you see how the boxplot is working here? If you need to revise your boxplots, check out this this [link](https://www.kaggle.com/ramamet4/app-store-apple-data-set-10k-apps). "
   ]
  },
  {
   "cell_type": "markdown",
   "metadata": {
    "colab_type": "text",
    "id": "O8L-s1fgFcvp"
   },
   "source": [
    "## Stage 3 - Modelling"
   ]
  },
  {
   "cell_type": "markdown",
   "metadata": {
    "colab_type": "text",
    "id": "5fbRq2MZFcvq"
   },
   "source": [
    "### 3a. Hypothesis formulation\n",
    "\n",
    "Our **Null hypothesis** is just:\n",
    "\n",
    "**H<sub>null</sub>**: the observed difference in the mean rating of Apple Store and Google Play apps is due to chance (and thus not due to the platform).\n",
    "\n",
    "The more interesting hypothesis is called the **Alternate hypothesis**:\n",
    "\n",
    "**H<sub>alternative</sub>**: the observed difference in the average ratings of apple and google users is not due to chance (and is actually due to platform)\n",
    "\n",
    "We're also going to pick a **significance level** of 0.05. "
   ]
  },
  {
   "cell_type": "markdown",
   "metadata": {
    "colab_type": "text",
    "id": "TjBqkabaFcvq"
   },
   "source": [
    "### 3b. Getting the distribution of the data\n",
    "Now that the hypotheses and significance level are defined, we can select a statistical test to determine which hypothesis to accept. \n",
    "\n",
    "There are many different statistical tests, all with different assumptions. You'll generate an excellent judgement about when to use which statistical tests over the Data Science Career Track course. But in general, one of the most important things to determine is the **distribution of the data**.   "
   ]
  },
  {
   "cell_type": "code",
   "execution_count": 103,
   "metadata": {
    "colab": {},
    "colab_type": "code",
    "id": "bFwVhkeWFcvr"
   },
   "outputs": [],
   "source": [
    "# Create a subset of the column 'Rating' by the different platforms.\n",
    "# Call the subsets 'apple' and 'google' \n",
    "apple = df['Rating'][df['platform']=='apple']\n",
    "google = df['Rating'][df['platform']=='google']"
   ]
  },
  {
   "cell_type": "code",
   "execution_count": 104,
   "metadata": {
    "colab": {},
    "colab_type": "code",
    "id": "oPPFpwPvFcvu"
   },
   "outputs": [
    {
     "name": "stdout",
     "output_type": "stream",
     "text": [
      "NormaltestResult(statistic=1778.9974234584017, pvalue=0.0)\n"
     ]
    }
   ],
   "source": [
    "# Using the stats.normaltest() method, get an indication of whether the apple data are normally distributed\n",
    "# Save the result in a variable called apple_normal, and print it out\n",
    "apple_normal = stats.normaltest(apple)\n",
    "\n",
    "print(apple_normal)"
   ]
  },
  {
   "cell_type": "code",
   "execution_count": 105,
   "metadata": {
    "colab": {},
    "colab_type": "code",
    "id": "rCdh8a8KFcvw"
   },
   "outputs": [
    {
     "name": "stdout",
     "output_type": "stream",
     "text": [
      "NormaltestResult(statistic=3678.6157187516856, pvalue=0.0)\n"
     ]
    }
   ],
   "source": [
    "# Do the same with the google data. \n",
    "google_normal = stats.normaltest(google)\n",
    "\n",
    "print(google_normal)"
   ]
  },
  {
   "cell_type": "markdown",
   "metadata": {
    "colab_type": "text",
    "id": "9gDqu21yFcv0"
   },
   "source": [
    "Since the null hypothesis of the normaltest() is that the data are normally distributed, the lower the p-value in the result of this test, the more likely the data are to be non-normal. \n",
    "\n",
    "Since the p-values is 0 for both tests, regardless of what we pick for the significance level, our conclusion is that the data are not normally distributed. \n",
    "\n",
    "We can actually also check out the distribution of the data visually with a histogram. A normal distribution has the following visual characteristics:\n",
    "    - symmetric\n",
    "    - unimodal (one hump)\n",
    "As well as a roughly identical mean, median and mode. "
   ]
  },
  {
   "cell_type": "code",
   "execution_count": 106,
   "metadata": {
    "colab": {},
    "colab_type": "code",
    "id": "P9tT9RjNFcv1"
   },
   "outputs": [
    {
     "data": {
      "text/plain": [
       "(array([  44.,   56.,  106.,  196.,    0.,  383.,  702., 1626., 2663.,\n",
       "         492.]),\n",
       " array([1. , 1.4, 1.8, 2.2, 2.6, 3. , 3.4, 3.8, 4.2, 4.6, 5. ]),\n",
       " <a list of 10 Patch objects>)"
      ]
     },
     "execution_count": 106,
     "metadata": {},
     "output_type": "execute_result"
    },
    {
     "data": {
      "image/png": "[encoded data removed]",
      "text/plain": [
       "<Figure size 432x288 with 1 Axes>"
      ]
     },
     "metadata": {
      "needs_background": "light"
     },
     "output_type": "display_data"
    }
   ],
   "source": [
    "# Create a histogram of the apple reviews distribution\n",
    "plt.hist(apple)"
   ]
  },
  {
   "cell_type": "code",
   "execution_count": 107,
   "metadata": {
    "colab": {},
    "colab_type": "code",
    "id": "8dE1uC5iFcv2"
   },
   "outputs": [
    {
     "data": {
      "text/plain": [
       "(array([  17.,   18.,   41.,   74.,  137.,  446.,  879., 1662., 4175.,\n",
       "        1917.]),\n",
       " array([1. , 1.4, 1.8, 2.2, 2.6, 3. , 3.4, 3.8, 4.2, 4.6, 5. ]),\n",
       " <a list of 10 Patch objects>)"
      ]
     },
     "execution_count": 107,
     "metadata": {},
     "output_type": "execute_result"
    },
    {
     "data": {
      "image/png": "[encoded data removed]",
      "text/plain": [
       "<Figure size 432x288 with 1 Axes>"
      ]
     },
     "metadata": {
      "needs_background": "light"
     },
     "output_type": "display_data"
    }
   ],
   "source": [
    "# Create a histogram of the google data\n",
    "plt.hist(google)"
   ]
  },
  {
   "cell_type": "markdown",
   "metadata": {
    "colab_type": "text",
    "id": "QhZV89FzFcv5"
   },
   "source": [
    "### 3c. Permutation test\n",
    "Since the data aren't normally distributed, we're using a *non-parametric* test here. This is simply a label for statistical tests used when the data aren't normally distributed. These tests are extraordinarily powerful due to how few assumptions we need to make.  \n",
    "\n",
    "Check out more about permutations [here.](http://rasbt.github.io/mlxtend/user_guide/evaluate/permutation_test/)"
   ]
  },
  {
   "cell_type": "code",
   "execution_count": 112,
   "metadata": {
    "colab": {},
    "colab_type": "code",
    "id": "bxNhQgpqFcv6"
   },
   "outputs": [
    {
     "data": {
      "text/html": [
       "<div>\n",
       "<style scoped>\n",
       "    .dataframe tbody tr th:only-of-type {\n",
       "        vertical-align: middle;\n",
       "    }\n",
       "\n",
       "    .dataframe tbody tr th {\n",
       "        vertical-align: top;\n",
       "    }\n",
       "\n",
       "    .dataframe thead th {\n",
       "        text-align: right;\n",
       "    }\n",
       "</style>\n",
       "<table border=\"1\" class=\"dataframe\">\n",
       "  <thead>\n",
       "    <tr style=\"text-align: right;\">\n",
       "      <th></th>\n",
       "      <th>count</th>\n",
       "      <th>mean</th>\n",
       "      <th>std</th>\n",
       "      <th>min</th>\n",
       "      <th>25%</th>\n",
       "      <th>50%</th>\n",
       "      <th>75%</th>\n",
       "      <th>max</th>\n",
       "    </tr>\n",
       "    <tr>\n",
       "      <th>platform</th>\n",
       "      <th></th>\n",
       "      <th></th>\n",
       "      <th></th>\n",
       "      <th></th>\n",
       "      <th></th>\n",
       "      <th></th>\n",
       "      <th></th>\n",
       "      <th></th>\n",
       "    </tr>\n",
       "  </thead>\n",
       "  <tbody>\n",
       "    <tr>\n",
       "      <th>apple</th>\n",
       "      <td>6268.0</td>\n",
       "      <td>4.13754</td>\n",
       "      <td>0.611847</td>\n",
       "      <td>1.0</td>\n",
       "      <td>4.0</td>\n",
       "      <td>4.3</td>\n",
       "      <td>4.5</td>\n",
       "      <td>5.0</td>\n",
       "    </tr>\n",
       "    <tr>\n",
       "      <th>google</th>\n",
       "      <td>9366.0</td>\n",
       "      <td>4.13297</td>\n",
       "      <td>0.613717</td>\n",
       "      <td>1.0</td>\n",
       "      <td>4.0</td>\n",
       "      <td>4.3</td>\n",
       "      <td>4.5</td>\n",
       "      <td>5.0</td>\n",
       "    </tr>\n",
       "  </tbody>\n",
       "</table>\n",
       "</div>"
      ],
      "text/plain": [
       "           count     mean       std  min  25%  50%  75%  max\n",
       "platform                                                    \n",
       "apple     6268.0  4.13754  0.611847  1.0  4.0  4.3  4.5  5.0\n",
       "google    9366.0  4.13297  0.613717  1.0  4.0  4.3  4.5  5.0"
      ]
     },
     "execution_count": 112,
     "metadata": {},
     "output_type": "execute_result"
    }
   ],
   "source": [
    "# Create a column called `Permutation1`, and assign to it the result of permuting (shuffling) the Rating column\n",
    "# This assignment will use our numpy object's random.permutation() method\n",
    "\n",
    "df['Permutation1'] = np.random.permutation(df['Rating'])\n",
    "\n",
    "\n",
    "# Call the describe() method on our permutation grouped by 'platform'. \n",
    "\n",
    "df.groupby(df['platform'])['Permutation1'].describe()\n",
    "\n",
    "\n"
   ]
  },
  {
   "cell_type": "code",
   "execution_count": 113,
   "metadata": {
    "colab": {},
    "colab_type": "code",
    "id": "AaGNfPGTFcv7"
   },
   "outputs": [
    {
     "data": {
      "text/html": [
       "<div>\n",
       "<style scoped>\n",
       "    .dataframe tbody tr th:only-of-type {\n",
       "        vertical-align: middle;\n",
       "    }\n",
       "\n",
       "    .dataframe tbody tr th {\n",
       "        vertical-align: top;\n",
       "    }\n",
       "\n",
       "    .dataframe thead th {\n",
       "        text-align: right;\n",
       "    }\n",
       "</style>\n",
       "<table border=\"1\" class=\"dataframe\">\n",
       "  <thead>\n",
       "    <tr style=\"text-align: right;\">\n",
       "      <th></th>\n",
       "      <th>count</th>\n",
       "      <th>mean</th>\n",
       "      <th>std</th>\n",
       "      <th>min</th>\n",
       "      <th>25%</th>\n",
       "      <th>50%</th>\n",
       "      <th>75%</th>\n",
       "      <th>max</th>\n",
       "    </tr>\n",
       "    <tr>\n",
       "      <th>platform</th>\n",
       "      <th></th>\n",
       "      <th></th>\n",
       "      <th></th>\n",
       "      <th></th>\n",
       "      <th></th>\n",
       "      <th></th>\n",
       "      <th></th>\n",
       "      <th></th>\n",
       "    </tr>\n",
       "  </thead>\n",
       "  <tbody>\n",
       "    <tr>\n",
       "      <th>apple</th>\n",
       "      <td>6268.0</td>\n",
       "      <td>4.049697</td>\n",
       "      <td>0.726943</td>\n",
       "      <td>1.0</td>\n",
       "      <td>4.0</td>\n",
       "      <td>4.5</td>\n",
       "      <td>4.5</td>\n",
       "      <td>5.0</td>\n",
       "    </tr>\n",
       "    <tr>\n",
       "      <th>google</th>\n",
       "      <td>9366.0</td>\n",
       "      <td>4.191757</td>\n",
       "      <td>0.515219</td>\n",
       "      <td>1.0</td>\n",
       "      <td>4.0</td>\n",
       "      <td>4.3</td>\n",
       "      <td>4.5</td>\n",
       "      <td>5.0</td>\n",
       "    </tr>\n",
       "  </tbody>\n",
       "</table>\n",
       "</div>"
      ],
      "text/plain": [
       "           count      mean       std  min  25%  50%  75%  max\n",
       "platform                                                     \n",
       "apple     6268.0  4.049697  0.726943  1.0  4.0  4.5  4.5  5.0\n",
       "google    9366.0  4.191757  0.515219  1.0  4.0  4.3  4.5  5.0"
      ]
     },
     "execution_count": 113,
     "metadata": {},
     "output_type": "execute_result"
    }
   ],
   "source": [
    "# Lets compare with the previous analytical summary:\n",
    "df.groupby(df['platform'])['Rating'].describe()"
   ]
  },
  {
   "cell_type": "code",
   "execution_count": 142,
   "metadata": {
    "colab": {},
    "colab_type": "code",
    "id": "aJPNpX0JFcv-"
   },
   "outputs": [
    {
     "name": "stdout",
     "output_type": "stream",
     "text": [
      "[-0.018120018489394596, -0.008586131646176831, -0.0172145655489766, -0.0017686036242094971, -0.006002927669102043, 0.012905060204318808, 0.009363141349155946, 0.0018798391062953002, 0.0011608029477274684, 0.020308469540671226, 0.007578866437157217, 0.008537581315247067, 0.00709950899811318, -0.003446354660866291, 0.0017999461997879607, -0.0029936281906559614, 0.0035842211117866896, 0.0073391877176360865, 0.016713288747837396, 0.014662704147481165, 0.00020208806963939452, 0.004516305021040168, -6.42216187189959e-05, 0.012692012453630497, 0.0005216596956696407, 0.0008146003528626267, -0.0019017584683895805, -0.005949665731431075, -0.006615439952327051, -0.01191500275065227, 0.003557590142951206, -0.019984186307900664, 0.012718643422467757, -0.014418313821217943, 0.01572794290091384, 0.009363141349155946, 0.0029983397973998294, 0.016393717121808926, 0.010295225258409424, 0.0017999461997870725, -0.014817778353752864, -0.014791147384918268, 0.0008944932593717425, -0.012713931815725665, -0.01566996935650078, 0.0026787681713695832, 0.007179401904619631, 0.001240695854235696, 0.0021461487946528024, 0.009389772317992318, 0.00864410519058989, 0.015861097745092145, -0.00581651088725188, 0.007019616091604952, -0.010423668495846528, 0.008937045847781988, -0.0036061404738800817, -0.0013158771540018321, -0.005709987011909057, 0.002199410732324658, 0.003477697236442978, -0.007813833549938032, 0.004809245678234042, 0.0025988752648613556, -0.009118751022892724, 0.005901115400500423, -0.0036061404738800817, 0.011919714357393474, -0.01388569444450205, -0.004724641164984611, 0.0026787681713695832, 0.012984953110826147, 0.0053152340861126746, -0.005523570230058894, -0.006482285108147856, -0.0023811159074336175, -0.01002420396330983, -0.0027273185022993474, -0.012367729220859047, -0.016309112608558607, 0.014742597053987616, 0.0199356359769709, 0.010747951728618865, 0.010055546538887405, 0.011174047229991935, 0.003371173361100155, 0.012345809858766543, 0.006700044465574706, 0.00616742508886059, 0.002412458483011193, -0.008639393583847799, -0.013938956382173018, -0.015643338387664407, -0.006189344450953982, -0.002274592032089906, -0.002114806219075227, -0.007760571612265288, -0.0033930927231944352, 0.015568157087898271, 0.01032185622724402, -0.006695332858833503, -0.0005702100265985166, -0.0033664617543589515, 0.0077919141878437514, -0.018120018489393708, -0.008239929051311101, -0.01319328925477059, 0.00046839775799778494, 0.014316501552616323, 0.008564212284081663, 0.003690744987131289, 0.013144738923839938, -0.0029669972218204776, -0.001662079748867562, -0.017267827486648457, -0.007227952235550283, 0.008271271626887788, 0.0011075410100565009, 0.005421757961456386, 0.0045695669587120236, -0.0016887107177030458, -0.010716609153040402, 0.004303257270352745, -0.005789879918416396, -0.017614030081515075, 0.0014803745737577145, 0.013624096362884863, -0.00477790310265469, -0.01361938475614366, 0.012026238232736297, 0.015381740306048108, -0.004511593414298076, -0.0104502994646829, -0.00917201296056458, -0.014311789945874231, -0.006349130263969549, -0.0030202591594923334, -0.0017686036242103853, -0.005949665731431075, 0.005688067649814776, -0.0070947973913702, 0.0051288173042634, 0.0027320301090405508, 0.007152770935783259, 0.01684644359201659, 0.006087532182351474, -0.012634038909218326, 0.009975653632380066, -0.0011028294033144093, 0.015594788056734643, 0.011040892385810963, 0.012825167297809692, -0.006136082513282126, -0.011169335623249843, 0.0063272109018743805, -0.009571477493101277, 0.004276626301517261, 0.010268594289574828, -0.007920357425280855, 0.01418334670843624, -0.007520892892745046, -0.008160036144803762, 0.0005482906645051244, -0.005390415385879699, -0.012048157594830577, 0.009443034255662397, 0.006433734777217204, -0.017241196517812973, 0.00350432820527935, -0.013486229911963576, -0.0005435790577630328, -0.009225274898235547, -0.0039523430687467, -0.001475662967015623, 0.009070200691962071, -0.006935011578356409, -0.005044212791013081, -0.006695332858833503, -0.005337153448207843, 0.004329888239188229, -0.01010409686981717, 0.018657349472851692, -0.0012359842474936045, 0.011067523354647335, -0.014817778353753752, 0.017139384249211354, 0.00539512699262179, 0.005315234086114451, -0.0008897816526287627, -0.014258528008202376, -0.01910536433631993, -0.007307845142057623, 0.0004950287268332687, 0.008324533564559644, -0.009811156212623295, 0.004729352771725814, -0.004245283725939686, 0.015381740306048108, -0.009837787181459667, 0.013730620238227687, -0.003393092723193547, 0.0036108520806221733, 0.0019331010439662677, -0.0009164126214642465, 0.009602820068677964, -0.004245283725938798, -0.005310522479372359, -0.005496939261221634, -0.024884284573688298, 0.004835876647069526, -0.0029137352841503983, -0.013752539600321079, -0.012580776971547358, -0.004112128881761379, 0.009469665224498769, -0.006935011578356409, 0.005608174743307437, 0.00896367681661836, -0.0036061404738800817, -0.004245283725939686, -0.006322499295133177, 0.005315234086115339, -0.007227952235550283, 0.01700622940503216, 0.005954377338173167, 0.01828451590914959, 0.01154688079369226, 0.019855743070462673, 0.002252672669996514, -0.0028871043153140263, -0.004564855351968156, 0.0031048636727417644, -0.005044212791014857, 0.005528281836799209, 0.009096831660797555, -0.015616707418828035, -0.012447622127366387, -0.009891049119129747, 0.006087532182351474, -0.01300687247291954, -0.01543029063697876, 0.009096831660798443, 0.0019863629816390116, -0.009891049119129747, 0.005874484431665827, -0.0021680681567470828, 0.003317911423428299, 0.012958322141989775, -0.0036327714427155655, 0.012026238232735409, 0.004809245678234042, -0.012687300846889293, -0.018359697208915726, 0.015248585461869801, 0.01008217750772289, 0.006380472839546236, 0.004329888239188229, -0.0002772693694046424, 0.0010809100412219053, 0.010774582697454349, 0.004170102426174438, -0.0005968409954357767, -0.01377917056915745, -6.422161871988408e-05, -0.0073611070797285905, 0.0056614366809784045, 0.003797268862472336, 0.005182079241935256, 0.010801213666290721, -0.008612762615011427, -0.004538224383132672, -0.023153271599361425, -0.013646015724979144, -0.009278536835906515, 0.00821800968921682, -0.0006234719642712605, 0.010055546538887405, -0.00650891607698334, -0.0011560913409871532, 0.0009211242282072263, -0.003978974037582184, -0.012341098252024452, -0.010237251713995477, -0.003899081131073956, 0.0021461487946536906, 0.012771905360138724, -0.002434377845104585, 0.006886461247427533, -0.0011028294033144093, -0.0009164126214642465, -0.0060828205756102705, -0.013459598943128093, -0.004085497912925007, 0.007791914187842863, -0.023925569695598448, 0.0050489243977560605, -0.006615439952326163, 0.009283248442648606, 0.004809245678234042, 0.003051601735070797, 0.0018532081374598164, -0.0031534140036724168, 0.007312556748798826, 0.0025988752648622437, 0.00616742508886059, 0.00417010242617355, 0.017086122311540386, 0.005794591525159376, 0.02294493545541698, 0.011786559513214279, -0.0017686036242094971, -0.010530192371190239, -0.005550201198896154, -0.0023278539697617617, -0.01396558735100939, -0.012367729220859935, -0.018386328177752098, -0.005257260541700504, 9.556419429657126e-05, -0.002008282343733292, -0.0057632489495809125, 0.010108808476559261, -0.0045914863208045276, -0.005230629572864132, -0.008479607770832231, -0.005203998604028648, -0.01130249046742815, -0.010636716246533062, 0.011147416261154675, 0.008297902595723272, -0.009464953617757565, -0.0018484965307177248, 0.015514895150226415, 0.0015336365114304584, -0.0070415354536992325, -0.012554146002710986, 0.015514895150227304, -0.0062692373574622096, -0.0015821868423593344, 0.006966354153933096, 0.015887728713928517, -0.013725908631486483, 0.004383150176860973, 0.014263239614944467, 0.009309879411484978, -0.001875127499554985, -0.0001973764628981911, 0.005581543774471065, 0.008910414878946504, 0.0006281835710115757, -0.0036860333803883094, 0.0025988752648613556, 0.011280571105335646, -0.0029936281906559614, 4.230225662471554e-05, 0.004409781145696456, 0.0108544756039608, 0.0047559837405630745, -0.01559007644999344, -0.00011748355639085162, 0.0008678622905335942, -0.003712664349223793, -6.42216187189959e-05, 0.006566889621397287, -0.009704632337279584, -0.013406337005457125, -0.012101419532502433, 0.016660026810167317, 0.004409781145696456, 0.002705399140205067, -0.0007832577772850513, 0.019296492724911296, -0.0022479610632544222, 0.01687307456085385, -0.01945156693118477, -0.006375761232804145, 0.012452333734108478, -0.019664614681871306, -0.008000250331788195, -0.009225274898236435, 0.00041513582032504104, 0.004649459865219363, 0.012931691173154292, 0.0024390894518475648, 0.001720053293279733, 0.006779937372082934, 0.00038850485148955727, 0.003211387548085476, 0.0122925479210938, -0.009731263306115956, -0.0032066759413433843, -0.0015821868423593344, -0.006136082513282126, 0.01000228460121555, 0.0063272109018743805, -0.015483552574649728, -0.010583454308860318, 0.008351164533396016, 0.006593520590233659, -0.00685511867184907, 0.0037972688624732243, -0.028053369865149946, -0.015403659668140612, 0.0060076392758450226, 0.006273948964202525, 0.0027586610778769227, 0.009443034255662397, -0.009012227147549012, 0.0006814455086843196, 0.0037972688624732243, -0.005443677323550666, -0.008239929051311101, 0.008510950346411583, 0.0023059346076683696, -0.0041653908194332345, -0.011009549810235164, -0.012793824722233005, -0.0034996165985363703, -0.006668701889998019, 0.004542935989875652, -0.0075741548304169015, -0.006668701889997131, 0.008937045847782876, -0.010290513651667332, 0.014156715739599868, -0.0017153416865394178, -0.005630094105400829, 0.0024923513895185323, 0.010561534946767814, -0.015563445481157068, -0.012074788563666061, -0.005443677323550666, 0.005235341179606223, 0.001240695854235696, 0.005128817304262512, -0.006961642547191893, -0.0030735210971650773, -0.010397037527010156, 0.010215332351902973, -0.01204815759482969, -0.013938956382173018, -0.004271914694776058, 0.009629451037514336, -0.0077073096745952085, 0.001906470075130784, -0.0057632489495809125, 0.0141034538019289, 0.001453743604923119, -0.005363784417044215, -0.0018751274995532086, -0.008239929051311101, -0.0019017584683904687, -0.013113396348263251, -0.016335743577395867, -0.0009430435903006185, -0.007148059329042056, 0.006939723185098501, -0.0023544849385981337, 0.0025722442960249836, 0.0005482906645051244, 0.0024657204206839367, -0.012207943407845256, -0.0004903171200911771, -0.006402392201639628, -0.012953610535247684, -0.015430290636976984, 0.014502918334467374, 0.019722588226283477, 0.004489674052203796, 0.0026787681713695832, 0.010481642040259587, 0.0108544756039608, -0.01660205326575337, -0.01660205326575337, -0.004032235975252263, -0.009731263306115956, -0.015803124200679086, 0.019349754662583152, -0.006322499295132289, -0.007760571612265288, 0.027791771783533648, 0.0028918159220552297, -0.0028072114088049105, -0.009651370399609505, 0.017645372657090874, 0.013437679581035589, 0.011999607263900813, -0.020223865027422683, -0.004112128881761379, -0.010876394966055969, 0.00709950899811318, -0.011701954999965736, 0.00606090121351599, -0.020330388902766394, -0.010583454308861207, 0.012905060204318808, -0.013379706036621641, 0.0028119230155487784, -0.011755216937636703, 0.0002287190384748783, -0.017960232676379917, 0.00701961609160584, 0.005421757961458162, -0.015377028699305129, -0.004511593414298076, 0.00813811678271037, -0.0005968409954348886, -0.006109451544446642, 0.002705399140205067, 0.007552235468321733, 0.0074723425618143935, 0.0005482906645042362, 0.012186024045751864, -0.00973126330611418, -0.002034913312569664, -0.003286568847851612, -0.00022400743173367488, -0.003233306910178868, 0.006726675434411078, 0.0007080764775189152, 0.014183346708437128, 0.0002553500073121384, -0.0057366179807445405, -0.009731263306115956, -0.009704632337279584, -0.004911057946835662, 0.009416403286827801, 0.012212655014588236, 0.014183346708437128, 0.006220687026531557, -0.01463136157190359, 0.012265916952258316, -0.006935011578356409, 0.003530959174115722, -0.007893726456445371, 0.01309147698616897, 0.008164747751546741, -0.012554146002711875, 0.002865184953220634, 0.008351164533396904, 0.008990307785454732, -0.0021680681567470828, 0.004143471457338066, -0.005390415385879699, 0.008084854845037626, -0.008239929051311101, 0.015967621620435857, -0.013646015724979144, -0.005869772824923736, 0.013783882175899542, 0.014982275773510523, -0.004698010196148239, 0.0052087102107707395, 0.01120067819882653, 0.008990307785453844, -0.007920357425281743, 0.0055282818368000974, -0.011701954999964848, 0.013890406051243254, -0.0027006875334638636, 0.004729352771725814, -0.006588808983489791, 9.556419429657126e-05, -0.000969674559135214, 0.001267326823072068, 0.0031314946415772482, -0.0028871043153140263, -0.009811156212624184, -0.0016354487800320783, -0.009145381991728208, -0.013965587351008502, 0.008351164533396016, -0.0070947973913702, -0.012980241504083168, 0.004835876647068638, 0.006992985122769468, 0.006673413496740999, -0.0005702100265994048, -0.00914538199172732, -0.007787202581100772, 0.01367735830055583, -0.020410281809274622, 0.003690744987130401, 0.005847853462830344, 0.0048891385847413815, -0.009145381991728208, 0.020042159852312835, 0.006380472839547124, -0.016495529390410546, 0.007232663842292375, 0.003158125610412732, -0.00685511867184907, -0.004032235975253151, -0.007068166422533828, 0.0040902095196670984, 0.007019616091604952, 0.004010316613159759, 0.02102750569923817, 0.0004950287268341569, -0.008133405175966502, -0.0064290231704768885, 0.02052151729135865, -0.0052838915105368756, 0.007179401904619631, -0.007174690297878428, -0.005257260541700504, -0.02432503422813692, -0.01969124565070768, 0.01058816591560241, -0.009571477493101277, -0.019611352744198562, 0.00962945103751256, 0.006913092216263017, 0.0030516017350699087, -0.0004636861512565815, -0.021342365718526324, -0.0033398307855216913, -0.0021680681567470828, -0.007893726456444483, -0.0006234719642703723, 0.012425702765273883, 0.00350432820527935, 0.015355109337211736, -0.012873717628740344, -0.019851031463722357, 0.013144738923839938, -0.013699277662651, 0.0040902095196670984, -0.006801856734177214, -0.010583454308860318, 0.021959589608491648, -0.0012892461851663484, 0.006433734777218092, -0.00256753268928378, 0.01101426141697548, -0.0028604733464776544, -0.008666024552683282, 0.009070200691962071, 0.010641427853275154, -0.008586131646175943, -0.0073611070797285905, -0.01199489565715961, 0.007259294811127859, -0.00232785396976265, 0.008351164533396016, 0.007765283219008268, 0.006220687026532445, -0.02738759564425397, -0.020064079214408892, -0.02062332955995938, 0.002865184953219746, -0.0029669972218204776, 0.0021727797634891743, -0.020996163123661482, -0.003792557255732021, 0.002332565576502965, 0.006753306403248338, 0.008910414878946504, 0.007525604499486249, 0.004622828896382991, 0.002305934607666593, -0.005789879918416396, -0.008026881300625455, -0.0034996165985372585, -0.008160036144801985, -0.025736475576435325, 0.020841088917388007, 0.00736581868647157, -0.013725908631486483, -0.009864418150294263, 0.0024657204206839367, 0.008857152941275537, 0.008830521972440053, -0.00523062957286502, -0.0002772693694046424, 0.01077458269745346, 0.0040902095196670984, 0.02472921036741571, -0.003579509505045486, 0.0036374830494594335, 0.007525604499485361, 0.0004950287268332687, 0.009709343944021676, 0.0019597320128026396, -0.0002506384005700468, 0.0009211242282072263, 0.016047514526942308, 0.003983685644323387, 0.012159393076915492, 0.005235341179606223, -0.0047779031026555785, -0.0027006875334638636, -0.020863008279482287, 0.002412458483012081, -0.014764516416082785, -0.0020349133125687757, -0.03111593128126522, -0.01239436018969542, -0.002940366252985882, -0.0022479610632553104, -0.008666024552683282, 0.001533636511428682, 0.013490941518705668, -0.008905703272206189, -0.01564333838766352, -0.005150736666356792, 0.013490941518705668, -0.010556823340025723, -0.012287836314353484, -0.006908380609520037, 0.009789236850528127, 0.01436976349028729, -0.010476930433518383, -0.007174690297878428, 0.0005749216333406082, -0.01841295914658847, 0.009150093598469411, -0.00685511867184907, 0.0012140648854002123, -0.011249228529757183, 0.016180669371121503, 0.0003618738826549617, -0.005949665731431963, 0.0006281835710115757, -0.005124105697522197, -0.004032235975253151, 0.010694689790946121, 0.0029450778597270855, -0.0028871043153140263, 0.015568157087900047, -0.002461008813940957, -0.0065888089834915675, 0.0025988752648622437, 0.02590097299619032, -0.0027539494711357193, 0.00667341349674011, 0.009869129757036355, 0.01197297629506533, 0.007019616091604952, 0.01101426141697548, -1.095968104714018e-05, -0.016309112608558607, -0.009811156212624184, -0.009385060711250226, -0.011755216937636703, 0.003690744987130401, 0.0039037927378151593, -0.01106281174790702, -0.02011734115207897, 0.009869129757037243, -0.009385060711250226, -0.021448889593870035, 0.0026521372025332113, -0.012634038909218326, 0.016233931308794247, -0.006322499295133177, -0.010157358807488137, -0.0034996165985381467, 0.009203355536141267, -0.004671379227312755, -0.007494261923908674, -0.007760571612265288, -0.014604730603068994, 0.02685968787428017, -0.0017153416865394178, -0.0003837932447474657, 0.0011608029477283566, -0.016016171951364733, 0.017299170062226032, 0.004143471457338066, 0.011573511762527744, -0.019451566931183883, -0.003899081131074844, -0.002008282343733292, 0.00845768840873884, -0.023472843225389894, -0.007893726456445371, -0.008852441334535222, 0.0001488261319675388, -0.005017581822177597, 0.009975653632380066, -0.007227952235550283, 0.005315234086113563, 0.00046839775799689676, -0.009092120054056352, -0.014498206727724394, -0.015297135792799565, -0.0024077468762691012, -0.012687300846888405, -0.009757894274952328, -0.006828487703013586, 0.003051601735070797, -0.009198643929399175, 0.003184756579249992, -0.028719144086045034, 0.007339187717635198, -0.0002772693694046424, 0.005395126992620902, 0.0024923513895194205, -0.004511593414298076, -0.016788470047603532, 0.006726675434411078, -0.00909212005405724, -0.004911057946834774, -0.00677522576534173, -0.0046447482584772715, 0.014609442209809309, -0.010343775589340076, 0.008244640658052305, -0.004831165040327434, -0.0023811159074327293, -0.0022213300944198267, 0.015621419025569239, -0.004831165040327434, -0.005816510887253656, 0.001879839106294412, 0.009070200691962071, -0.011968264688324126, 0.009469665224498769, -0.003872450162238472, -0.007387738048564074, -0.001981651374896032, 0.003557590142952094, 0.011493618856020404, -0.003899081131074844, 0.001906470075131672, -0.0017153416865394178, -0.02072985343530309, 0.012798536328975096, -0.008239929051311101, 0.00385053080014508, 0.01887039722353734, -0.024697867791837247, -0.004351807601282509, -0.003739295318059277, 0.011413725949512177, 0.01881713528586637, 0.010774582697452573, 0.0006548145398479477, 0.008537581315247067, -0.008053512269460938, -0.020064079214408004, 0.02041499341601405, 0.000601552602176092, -0.0056034631365662335, 0.0029717088285625692, 0.013863775082406882, -0.004831165040327434, -0.006002927669102043, 0.00012219516313205503, 0.003344542392264671, 0.01974921919511985, 0.01514206158652609, -0.0011294603721507812, -0.010130727838653542, 0.004516305021040168, -0.003126783034836933, 0.004516305021041056, 0.0034244352987711224, -0.01319328925477059, -0.0017153416865394178, -0.0007299958396131956, 0.005581543774471065, -0.004112128881761379, 0.0064603657460526875, -0.005523570230058894, -0.00232785396976265, 0.0010010171347136776, -0.0068817496406845535, 0.009522927162170625, 0.0030782327039062807, -0.004857796009162918, 0.01793831331428475, 0.005981008307008651, 0.007791914187842863, -0.020516805684616557, 0.01807146815846572, 0.021613387013625918, 0.004249995332682666, 0.008937045847782876, 0.014076822833094305, -0.005709987011910833, 0.0049157695535777535, 0.016899705529689335, -0.00027726936940375424, -0.00011748355639085162, 0.00701961609160584, -0.0038724501622393603, -0.0027006875334629754, 0.0025988752648604674, -0.0241119864774495, 0.012292547921092911, 0.0011075410100565009, -0.008266560020146585, 0.006939723185098501, 0.004622828896383879, 0.0019863629816381234, 0.007525604499486249, 0.0033179114234291873, 0.0017999461997888488, -0.005683356043072685, -0.005443677323550666, 0.012931691173154292, 0.00544838893029187, 0.0011874339165638403, -0.011808478875308559, 0.0037972688624732243, 0.0011608029477274684, -0.0060295586379375266, 0.008324533564559644, 0.018870397223538227, 0.008990307785454732, 0.006407103808382608, 0.0009743861658773056, -0.002966997221821366, -0.010130727838652653, 0.008377795502230612, 0.005182079241935256, 0.004809245678234042, 0.0057945915251576, -0.0234462122565553, 0.0003352429138194779, 0.010987630448139996, -0.004218652757103314, 0.004702721802889442, -0.011941633719487754, 0.0026255062336977275, 0.009869129757036355, -0.013326444098948897, 0.004835876647069526, 0.0052087102107707395, -0.0015555558735238506, -0.00778720258110166, -0.004112128881761379, 0.008644105190588114, 0.0068065683409184174, 0.011626773700198711, -0.01636237454623135, -0.0005968409954348886, -0.0030202591594932215, -0.006801856734177214, -0.015536814512321584, -0.000996305527971586, 0.007419080624143426, 0.009869129757036355, -0.00033053130707649814, 0.010135439445393857, 0.014929013835838667, -0.004618117289641788, -0.0033930927231953234, 0.001906470075130784, 0.0055282818368000974, 0.0032912804545928154, 0.012692012453631385, -0.0011294603721516694, -0.014444944790052539, -0.004192021788268718, 0.01727253909339055, 0.014103453801929788, -0.0029669972218204776, -0.0194249359623484, 0.0002287190384748783, 0.0055282818368000974, 0.021160660543416476, 0.002998339797398941, -0.00821329808247473, -0.0025409017204491846, 0.0018532081374598164, 0.002359196545339337, -0.005976296700266559, 0.008590843252917146, -0.02107605603016882, 0.0013472197295785193, -0.008186667113640134, 0.012345809858765655, -0.0019017584683895805, -0.009225274898235547, -0.014578099634231734, -0.00011748355639085162, -0.014365051883546087, -0.0007299958396131956, -0.016122695826709332, -0.0013957700605091716, 0.009895760725871838, 0.007898438063186575, -0.004458331476627109, -0.006668701889998019, 0.003557590142951206, -0.005230629572864132, -0.005124105697521308, -0.005337153448208731, -0.0070415354536992325, 0.022039482514998987, -0.004378438570118881, 0.00454293598987654, 0.0029717088285625692, -0.003419723692030807, 0.02507541296228144, 0.009123462629633927, -0.0005968409954357767, -0.008666024552683282, 0.013011584079661631, -0.006402392201639628, -0.0007299958396131956, 0.004995662460084205, 0.013783882175899542, 0.007925069032022947, -0.002780580439971203, 4.230225662382736e-05, -0.005443677323550666, -0.0028871043153140263, -0.024085355508614015, 0.0028119230155487784, -0.0005968409954357767, 0.003930423706651531, -0.002114806219075227, -0.004245283725938798, 0.006540258652560915, 0.013624096362884863, -0.001955020406060548, 0.024569424554400143, 0.001906470075130784, 0.00012219516313116685, 0.008191378720381337, 0.0017999461997879607, -0.0020881752502397433, 0.008617474221754406, 0.0016667913556078773, 0.009016938754291992, -0.012261205345516224, 0.012239285983422832, -0.003100152066000561, 0.0141034538019289, 0.006859830278590273, 0.006540258652560915, -0.013912325413337534, 0.01436976349028729, 0.00949629619333514, 0.006273948964202525, 0.0003618738826549617, -0.00616271348211761, -0.007334476110893995, 0.001746684262116105, 0.00038850485149044545, -0.002141437187911599, -0.012740562784560261, 0.023184614174939, 0.011067523354647335, -0.004911057946834774, 0.002092886856982723, -0.025976154295956455, 0.0012673268230729562, -0.0009164126214642465, -0.015430290636977873, 0.008351164533396016, -0.005523570230059782, 0.008937045847782876, 0.004116840488502582, 0.01889702819237371, -0.0017952345930467573, -0.0003837932447474657, 0.0011075410100565009, 0.01796494428312112, 0.0051288173042634, 0.004995662460084205, 0.01719264618688321, -0.016974886829453695, 0.006220687026532445, -0.004271914694774281, 0.008138116782709481, -0.0022213300944198267, -0.023206533537032392, 0.0014004816672494869, 0.006913092216263017, 0.007419080624143426, -0.006908380609520037, 0.015195323524197057, 0.010721320759782493, -0.0002506384005700468, -0.004990950853342113, 0.008590843252917146, -0.010849763997219597, -0.005310522479372359, 0.010614796884438782, -0.0053105224793732475, 0.015435002243719964, 0.007472342561813505, 0.004463043083368312, -0.013725908631486483, 0.009123462629633927, -0.002301223000926278, 0.01258548857828945, 0.005794591525158488, 0.004915769553576865, 0.0023325655765038533, 6.893322545931113e-05, 0.008510950346410695, -0.018466221084259438, 0.009229986504977639, 0.004702721802889442, -0.004431700507790737, -0.0008631506837923908, -0.005976296700266559, -0.005337153448207843, 0.0019331010439671559, 0.0017733152309515887, -0.009970942025637974, -0.0024077468762691012, 0.0028119230155487784, 0.0014803745737577145, -0.014791147384918268, -0.008133405175965613, 0.001373850698414003, -0.007920357425281743, 0.01066805882210975, -0.007680678705759725, 0.018710611410523548, -0.006109451544446642, -0.002780580439970315, 0.0023325655765047415, -0.006935011578356409, -0.005337153448207843, -0.0005968409954357767, 0.013970298957750593, 0.018364408815658706, -0.006642070921162535, 9.556419429568308e-05, -0.010397037527010156, -0.006642070921162535, -0.004698010196148239, 0.0076321283748290725, 0.0025988752648604674, -0.013672646693814627, 0.006700044465575594, 0.017698634594763618, 0.026380330435235244, 0.010801213666289833, 0.004143471457337178, -0.0031800449725079005, 0.0043831501768600845, 0.012079500170409041, 0.0036374830494585453, 0.01359746539404938, 0.01942964756909049, 0.013224631830347278, 0.004463043083367424, -0.00847960777083312, -0.019371674024677432, -0.011169335623248955, 0.0013472197295794075, 0.009043569723126588, 0.005235341179606223, -0.0021680681567470828, -0.004325176632448802, 0.0025456133271895, 0.004995662460084205, -0.009118751022892724, 0.0044630430833692, 0.00012219516313116685, -0.0022213300944198267, 0.007498973530649877, 0.02781840275236913, 0.015701311932078355, 0.007845176125514719, 0.00222604170116103, 0.009522927162170625, -0.005683356043074461, -0.0005169480889266609, -0.006295868326297693, 0.022785149642401414, -0.004990950853343001, 0.001080910041220129, -0.0033131998166862076, -0.028825667961387857, -0.0025409017204491846, -0.00754752386158053, 0.0009211242282063381, 0.004862507615904121, 0.0008412313216989986, 0.0030249707662362013, 0.0017733152309515887, 0.003637483049457657, -0.016229219702051267, -0.02549679685691153, 0.011866452419723394, -0.002274592032089906, -0.0006234719642712605, 0.0016934223244451374, 0.005767960556323004, 0.010055546538887405, -0.0039523430687449235, -0.005709987011909945, 0.008244640658051416, -0.010769871090712257, 0.00803159290736577, -0.0009963055279724742, -0.0011294603721516694, -0.006695332858832614, 0.0018532081374598164, -0.010823133028382337, 0.004995662460084205, 0.005341865054949935, -0.002354484938599022, 0.00768539031250004, 0.0028385539843851504, 0.007046247060441324, 0.005315234086113563, -0.005177367635194052, -0.0035528785362100024, -0.0008631506837923908, 0.0148757518981677, 0.007685390312500928, -0.003339830785520803, 0.007232663842292375, -0.006642070921162535, -0.01926515014933372, -0.0010495674656425535, 0.004090209519667987, -0.0013691390916736879, 0.01626056227762973, -0.018705899803782344, 0.004729352771724926, 0.016287193246466103, -0.0028338423776421706, 0.01695296746736119, -0.01191500275065227, -0.005976296700266559, 0.007365818686470682, 0.0008944932593708543, -0.007334476110893107, 0.015195323524197057, 6.893322546108749e-05, 0.0026255062336977275, 0.010028915570051034, 0.0022793036388319976, -0.0038191882245666164, 0.002705399140205067, 0.002572244296025872, -0.021102686999003417, 0.005661436680979293, -0.012021526625994206, -0.01412537316402318, 0.01136046401184121, -0.005337153448208731, -0.01891894755446799, -0.02453808197882168, -0.008080143238295534, 0.0015336365114295702, -0.011888371781816787, 0.023344399987954567, -0.005949665731431075, -0.002753949471134831, -0.005230629572864132, -0.0005435790577630328, -0.0025409017204482964, 0.002705399140205067, 0.010108808476559261, 0.008830521972440053, -0.004085497912925007, 0.013144738923840826, -0.002940366252985882, 0.0022793036388319976, 0.002891815922056118, -0.0016887107177021576, 0.00699298512276858, 0.015008906742346895, 0.005315234086113563, -0.0044849624454625925, -0.0035262475673736304, -0.022886961911003034, 0.008697367128260858, -0.0029669972218204776, -0.013219920223605186, 0.007152770935784147, -0.011409014342771862, -0.007307845142057623, 0.005182079241936144, -0.006455654139312372, 0.0013472197295785193, -0.0028871043153140263, -0.006455654139312372, 0.001693422324443361, -0.0036061404738800817, -0.004112128881761379, -0.012367729220859047, 0.004010316613160647, 0.02840428406675688, 0.0052087102107707395, 0.006859830278589385, 0.0057146986186520365, 0.004569566958711135, -0.008958965209877157, 0.03205272679726168, -0.0007832577772859395, -0.0012892461851654602, 0.006247317995367041, -0.013725908631487371, 0.009469665224498769, -0.0014490319981801392, -0.0068817496406845535, -0.0005702100265985166, -0.0022479610632553104, -0.01138238337393549, -0.008692655521519654, -0.0021680681567461946, 0.0006281835710124639, 0.0022793036388319976, -0.015030826104440287, -0.0003039003382401262, -0.005390415385880587, 0.00046839775799778494, -0.004271914694776058, 0.0018532081374598164, 0.0011608029477283566, -0.00941169168008571, -0.004484962445461704, -0.0009430435903006185, -0.010397037527011044, 0.001879839106294412, 0.010481642040260475, -0.009837787181459667, 0.014050191864257933, -0.004964319884506629, -0.01319328925477059, 0.004676090834053959, -0.009837787181459667, 0.0191633378807321, -0.01814664945823008, 0.007605497405993589, -0.0022213300944198267, -0.012128050501337917, 4.230225662471554e-05, -0.017587399112677815, 0.008670736159425374, 0.01181319048205065, 0.0003352429138194779, 0.004729352771724926, -0.010183989776325397, -0.0070415354536992325, 0.006992985122769468, 0.00582122249399486, 0.006247317995367041, -0.009385060711250226, 0.010907737541633544, -0.007787202581100772, 0.015887728713928517, 0.025661294276670077, 0.018337777846822334, -0.0026740565646274916, 0.0017466842621152168, 0.0007879693840271429, 0.004596197927547507, -0.008186667113638357, 0.007898438063186575, 0.003930423706651531, -0.005070843759850341, -0.01814664945822919, 0.0030249707662370895, 0.006194056057695185, 0.013064846017332599, -0.019824400494885985, 0.01050827300909507, -0.006349130263968661, -0.003419723692030807, 0.0013205887607430356, -0.004005605006417667, -0.0027539494711357193, -0.008586131646175943, 0.0017466842621169931, -0.010210620745159993, 0.012745274391304129, 0.0020662558881472393, 0.0016401603867732817, -0.014152004132859552, -0.0012626152163299764, 0.005102186335427028, -0.02480439166718096, 0.019642695319776138, 0.0051820792419343675, -0.005789879918416396, -0.0018751274995540967, -0.001528924904689255, 0.012798536328975096, -0.004085497912925007, -0.007467630955072302, 0.016473610028316266, 0.011280571105334758, 0.007419080624142538, -0.005257260541700504, 0.010641427853275154, 0.00922998650497675, -0.0033398307855216913, 0.018657349472851692, -0.010583454308862095, -0.0077073096745952085, -0.0016887107177030458, 0.00539512699262179, 0.007126139966947775, 0.013517572487541152, -0.004032235975253151, -0.013459598943128093, -0.01156880015578654, -0.013166658285935107, 0.0007613384151916591, -0.0029936281906559614, 0.007312556748798826, 0.018337777846822334, -0.02054343665345293, -0.0057632489495809125, 0.002865184953219746, 0.008084854845037626, 0.0030782327039062807, -0.005044212791013969, -0.00863939358384691, 0.02078782697971615, -0.002274592032089018, -0.011835109844144043, 0.0031048636727426526, 0.009336510380319574, -0.014578099634232622, 0.010108808476559261, 0.008750629065931825, -0.0018751274995540967, -0.0008631506837923908, 0.008670736159425374, -0.0033664617543589515, -0.0004370551824202096, 0.002039624919309091, 0.003530959174115722, -0.014444944790052539, 0.019722588226283477, 0.0007613384151916591, -0.017614030081514187, -0.014311789945873343, -0.018466221084261214, -0.019451566931182995, 0.009043569723126588, 0.0060076392758450226, 0.01325126279918365, 0.01564804999440561, -0.021022794092496966, -0.004058866944089523, 0.015594788056734643, -0.013299813130113414, -0.006136082513282126, 0.001586898449101426, 0.00614079412002333, -0.023739152913748285, 0.0031314946415781364, 0.0008146003528626267, 0.005821222493993972, 0.001560267480265054, -0.0023811159074336175, -0.001635448780030302, 0.011786559513214279, 0.010588165915603298, -0.006988273516029153, -0.01521724288629045, 0.0032646494857555552, -0.0030202591594923334, 0.004143471457338066, -0.009065489085220868, -0.01037040655817556, 0.018870397223538227, 0.004622828896382991, 0.0013205887607439237, -0.006375761232804145, -0.013539491849635432, -0.0007033648707777118, 0.002012993950473607, -0.01532376676163505, 0.003024970766235313, -0.0008897816526287627, 0.01418334670843624, 0.007312556748798826, -0.0051507366663585685, 0.009256617473812234, -0.00898559617871264, -0.018439590115423954, -0.00046368615125569335, 0.002092886856981835, -0.008799179396862478, 0.005155448273099772, -0.003925712099910328, 0.0030516017350699087, 0.004862507615904121, 0.002891815922056118, 0.0108544756039608, -0.00677522576534173, -0.010263882682831849, 0.011280571105334758, 0.00984249878820087, 0.003664114018294029, 0.01911007594306202, 0.012718643422466869, -0.01644226745273869, 0.015088799648854234, 0.0006548145398479477, -0.017454244268499508, 0.006992985122769468, 0.008537581315247067, 0.010641427853274266, -0.01721456554897749, -0.0030735210971650773, -0.01428515897703786, -0.0015289249046883668, -0.002114806219074339, -0.01598954098252836, 0.0195628024132688, -0.004138759850597751, -0.010610085277697578, 0.0010276481035500495, -0.003872450162238472, -0.010849763997219597, -0.00975789427495144, -0.011515538218113797, 0.00443641211453194, -0.011462276280442829, 0.01088110657279806, 0.023717233551654893, -0.020596698591124785, -0.006029558637938415, -0.0032066759413442725, -0.00925190586707103, -0.0077073096745952085, -0.0016088178111957063, -0.003925712099911216, 0.005315234086113563, -0.01572323129417086, -0.0095714774930995, -0.009518215555429421, 0.013810513144735914, 0.0055282818368000974, -0.01662868423458974, -0.007547523861579641, 0.007259294811127859, 0.014902382867003183, -0.0018218655618813528, 0.011866452419722506, -0.00198165137489692, 0.0006281835710124639, 0.0005482906645060126, 0.0029450778597261973, -0.004085497912925007, -0.007121428360206572, -0.007254583204386655, 0.006700044465575594, 0.009949022663544582, -0.009305167804742887, 0.00803159290736577, -0.010689978184204918, 0.016047514526942308, 0.004196733395009922, 0.002385827514175709, 0.0037706378936377405, -0.00746763095507319, 0.014502918334467374, 0.00614079412002333, -0.005070843759850341, -0.02240760447195811, 0.004010316613159759, -0.0028072114088049105, -0.004990950853343001, -0.0021946991255834547, 9.556419429568308e-05, 0.015807835807421178, -0.0011294603721516694, -0.0016354487800320783, 0.011014261416976368, -0.0028871043153140263, 0.01263875051595953, 0.007658759343664556, -0.0019550204060614362, 0.0001488261319675388, -0.006801856734178102, 0.003184756579249992, -0.013752539600321967, 0.0006548145398488359, -0.010903025934891453, -0.014231897039366004, 0.007845176125515607, 0.00478261470939767, 0.006646782527904627, -0.014817778353752864, 0.007658759343664556, -0.008958965209877157, 0.01876387334819629, 0.005954377338173167, 0.007578866437158105, -0.013006872472920428, 0.003797268862472336, 0.010694689790946121, -0.001449031998179251, 0.018524194628673385, 0.003024970766235313, 0.018018206220792976, -0.0021680681567470828, -0.021528782500376487, -0.01455146866539625, 0.016446979059479894, 0.0007347074463552872, -0.011009549810235164, 0.0022793036388319976, 0.0023059346076674814, -0.011409014342771862, -0.0020349133125678875, -0.008452976801997636, 0.01394366798891511, 0.017006229405033046, 0.016446979059479894, -0.008879072303370705, 0.0006548145398479477, 0.021666648951296885, -0.00797361936295271, 0.003530959174114834, -0.0050974747286849365, 0.0009743861658781938, 0.0031048636727417644, -0.004751272133820095, 0.0016934223244442492, -0.00325993787901524, -0.004724641164984611, -0.005843141856088252, 0.0029717088285625692, -0.011089442716741615, 0.010827844635125317, -0.011435645311607345, -0.01353949184963632, -0.008612762615012315, -0.015030826104440287, 0.010641427853275154, 0.006566889621396399, 0.010614796884438782, -0.007414369017400446, -0.0023811159074345056, 0.002385827514174821, 0.011067523354646447, -0.006242606388625838, 0.004676090834053959, 0.011253940136497498, -0.0002772693694055306, 0.010375118164916763, -0.006668701889998907, 0.017485586844075307, 0.014502918334467374, -0.007600785799251497, 0.007712021281335524, -0.0005169480889266609, 0.01692633649852482, -0.01207478856366695, 0.00044176678916230117, -0.008532869708504087, 0.01394366798891511, -0.005816510887252768, 0.009709343944021676, 0.021959589608491648, 0.017032860373867642, 0.0038771617689805637, 0.005288603117278967, -0.006482285108147856, 0.011014261416976368, -0.007467630955072302, 0.0007613384151907709, -0.008985596178713529, 0.002705399140205067, 0.004409781145696456, 0.001560267480265054, -0.017108041673633778, -0.00022400743173367488, -0.0019283894372250643, -0.01106281174790702, 0.0028119230155487784, -0.0033398307855225795, 0.010534903977931442, -0.003712664349223793, 0.006593520590232771, 0.005981008307009539, -0.010849763997219597, 0.005981008307008651, 0.0024923513895185323, -0.0004903171200911771, 0.035887586309617525, 0.01255885760945219, 0.005741329587485744, 0.01181319048205065, 0.0004683977579986731, 0.005767960556322116, -0.002594163658120152, -0.00025063840056915865, -0.008426345833161264, 0.01128057110533387, -0.005310522479372359, 0.021080767636910025, 0.011174047229991935, 0.009443034255662397, -0.009278536835907403, 0.01615403840228513, 0.009283248442648606, -0.01958472177536308, -0.005257260541700504, -0.009891049119129747, -0.0004903171200911771, -0.004378438570118881, 0.017831789438942813, 0.025102043931117812, -0.0009430435902997303, -0.0014490319981801392, 0.0017733152309515887, 0.006593520590232771, 0.007206032873456003, -0.002780580439970315, 0.02600749687153492, 4.230225662471554e-05, -3.759064988262395e-05, 0.0035842211117866896, -0.000543579057763921, 0.004702721802890331, 0.009016938754290216, -0.022540759316137304, -0.0194249359623484, -0.0027539494711357193, 9.556419429657126e-05, 0.016686657779001912, 0.010881106572797172, -0.005363784417043327, 0.0024390894518475648, 0.0019863629816381234, 0.012505595671780334, 0.007898438063186575, -0.0027273185022993474, -0.01130249046742815, -0.012580776971547358, 0.004809245678234042, -0.013086765379426879, 0.016873074560852963, 0.0134376795810347, 0.016367086152972554, 0.011307202074169354, -0.003233306910178868, -0.00017074549406093098, -0.006801856734177214, -0.004058866944089523, -0.005390415385880587, -0.009358429742413854, 0.02113402957458188, 0.003823899831308708, 0.021773172826641485, 0.0155415261190619, -0.014950933197933836, 0.008084854845037626, -0.009065489085220868, 0.012851798266646952, 0.00962945103751256, 0.008111485813873998, 0.009256617473812234, -0.035563303076846964, -0.008293190988982069, 0.007658759343664556, -0.005017581822178485, 0.0012140648854002123, -0.004964319884506629, -0.01636237454623135, 0.006540258652560915, 0.010375118164915875, 0.009975653632380066, -0.02208803284592875, 0.002226041701160142, -0.0047779031026555785, -0.0039523430687467, 0.009416403286827801, -0.0018751274995532086, -0.00839971486432578, -0.0038191882245675046, 0.004356519208024601, -0.0004370551824193214, -0.003552878536209114, -0.010024203963308942, -0.0012626152163308646, -0.005417046354715183, -0.010663347215367658, -0.010317144620502816, -0.01849285205309492, 0.0032646494857573316, 0.004969031491248721, 0.001586898449101426, 0.0029717088285643456, 0.01066805882210975, -0.00025063840056915865, -0.014498206727724394, -0.024298403259301438, -0.011622062093458396, -0.009864418150294263, -0.006029558637938415, 0.009922391694707322, 0.016793181654345624, -0.011515538218114685, 0.016313824215301587, 0.0195628024132688, -0.001182722309822637, -0.00325993787901524, -0.00778720258110166, -0.0033398307855225795, 0.0009211242282072263, -0.012474253096204535, -0.0030202591594932215, -0.0014490319981810273, 0.010401749133753135, 0.005075555366591544, -0.013406337005457125, -0.004271914694776058, -0.0005702100265985166, -0.0034729856297017747, -0.0033131998166862076, 0.0033978043299356386, -0.0011028294033144093, -0.011861740812980415, 0.012186024045751864, -0.018546113990766777, 0.01008217750772289, -0.008825810365697961, 0.0025189823583549042, -0.0097845252437887, 0.00012219516313116685, -0.006402392201639628, -0.0012892461851663484, 0.005634805712143809, -0.010077465900981686, 0.008830521972439165, -0.0022479610632544222, -0.0028871043153140263, 0.00984249878820087, 0.00030861194498310596, -0.009278536835907403, -0.015004195135604803, 0.0037173759559649966, 0.013544203456377524, 0.010774582697454349, 0.010082177507722001, 0.012532226640616706, -0.007254583204385767, -0.01106281174790702, -0.0017419726553740134, 0.00845768840873884, 0.0009211242282063381, -0.001528924904689255, -0.010130727838653542, -0.018013494614049996, 0.0008944932593708543, 0.01341104861219744, 0.012532226640616706, 0.0022793036388319976, 0.003983685644323387, 0.0083777955022315, -0.008266560020145697, -0.0010761984344798137, -0.007014904484864637, -0.005017581822177597, -0.001182722309822637, 0.002012993950473607, 0.013544203456376636, -0.0026474255957911197, -0.009624739430772244, 0.005448388930293646, -0.006988273516028265, -0.006189344450953982, -0.0008631506837923908, -0.01481777835375464, -0.011861740812979527, 0.006034270244680506, -0.013326444098948897, 0.007339187717635198, 0.010135439445394745, -0.01122259756092081, -0.005230629572864132, 0.01815136106497217, 0.0009477551970418219, -0.015004195135604803, 0.001427112636086747, -0.009651370399608616, -0.003978974037582184, -0.006109451544445754, 0.001746684262116105, 0.006913092216263017, 0.015914359682764, 0.025874342027354835, 0.0063272109018743805, 0.00667341349674011, 0.0006281835710115757, 0.015328478368376253, -0.005017581822177597, 0.012106131139243637, -0.009731263306115956, 0.002998339797398941, -0.005443677323550666, -0.008506238739669492, 0.00350432820527935, -0.00685511867184907, -0.007733940643429804, 0.002865184953219746, 0.0027586610778769227, 0.005448388930294534, 0.004676090834053959, 0.006220687026532445, -0.002274592032090794, 0.0011341719788919846, 0.010694689790945233, -0.014258528008203264, -0.0062692373574622096, -0.007361107079729479, 0.016020883558106824, 0.014582811240972937, 0.006433734777217204, 0.0031314946415781364, -0.007227952235549395, -0.013965587351008502, 0.006486996714888171, -0.006349130263968661, -0.005976296700266559, -0.005363784417043327, -0.014498206727723506, 0.016207300339956987, -0.010024203963308942, -0.01130249046742815, 0.004995662460084205, -0.017454244268499508, -0.013672646693815516, -0.010210620745159993, -0.0012093532786572325, 0.01506216868001875, -0.007174690297878428, 0.004596197927546619, -0.0001973764628981911, -0.0016088178111948181, -0.007440999986236818, -0.009837787181459667, 0.031253797732187394, -0.013938956382171241, -0.004591486320805416, -0.0009430435903006185, 0.003477697236442978, -0.008559500677341347, -0.009544846524264017, 0.005634805712143809, 0.005261972148441707, -0.011195966592084439, 0.00022871903847576647, 0.004276626301517261, -0.008106774207131018, 0.017059491342703126, -0.002780580439970315, 0.009815867819365387, -0.0028871043153140263, -0.01601617195136651, -0.013166658285935107, 0.0037173759559658848, -0.00650891607698334, -0.003978974037582184, 0.010907737541632656, 0.014343132521451807, 0.0108544756039608, -0.0008631506837915026, 0.006593520590232771, -0.018865685616797023, 0.0148757518981677, -0.0016887107177021576, -0.00030390033824101437, -0.003739295318059277, 0.005395126992620014, -0.012474253096204535, 0.0010276481035500495, 0.020814457948551635, 0.010934368510469028, 0.0015336365114295702, -0.011595431124622912, 0.009709343944022564, 0.0010809100412219053, 0.0018798391062953002, 0.016233931308794247, -0.016309112608559495, 0.022092744452670843, -0.009678001368444988, -0.014418313821217943, -0.004964319884507518, 1.567128778923177e-05, 0.006114163151186958, 0.008670736159425374, -0.0121546814701734, 0.014689335116316649, 0.026673271092430006, 0.008590843252917146, 0.0021727797634891743, -0.0007566268084504557, -0.019451566931182995, 0.009975653632380066, -0.012527515033874614, 0.016553502934823605, 0.013703989269392203, 0.018923659161210082, 0.021080767636910025, 0.009016938754291104, 0.005128817304264288, -0.016815101016439904, 0.0005482906645051244, -0.0026740565646274916, -0.0020349133125678875, 0.005688067649815665, 0.011520249824857665, -0.0010495674656425535, -0.015456921605813356, 0.0051288173042634, -0.016788470047603532, 0.00022871903847576647, 0.007552235468321733, 0.004942400522412349, 0.007259294811128747, -0.011382383373936378, -0.002594163658120152, 0.018071468158464832, 0.015221954493034318, 0.0018265771686234444, 0.009363141349156834, 0.006087532182351474, 0.0005216596956696407, 0.007605497405993589, 0.02675316399893557, 0.011999607263899925, 0.004942400522412349, -0.013512860880800837, -0.018333066240080242, 0.0020928868569809467, -0.019531459837691223, -0.0031534140036724168, -0.0030468901283287053, -0.0027273185022993474, 0.017006229405033046, 0.012292547921094688, 0.006540258652560915, 0.013677358300556719, -0.0004636861512565815, -0.015643338387664407, -0.006988273516029153, 0.02550150846365362, -0.003286568847851612, 0.0024923513895194205, -0.00198165137489692, 0.005182079241935256, 0.015781204838584806, -0.008958965209877157, 0.00899030778545562, 0.012958322141989775, 0.0031314946415772482, 0.003930423706651531, -0.012900348597575828, 0.0007080764775198034, 0.003504328205278462, 0.028271129222576796, -0.022833699973332067, -0.01319328925477059, 0.009762605881693531, 0.0048891385847413815, -0.004032235975254039, -0.02317990256819691, 0.016553502934823605, -0.0022213300944189385, -0.009172012960562803, -0.002114806219075227, 0.012505595671781222, -0.0042985456636115416, 0.008590843252918035, 0.0039304237066524195, -0.0036061404738800817, -0.004591486320805416, -0.006961642547192781, 0.0003618738826540735, -0.009571477493100389, 0.019775850163955333, -0.004857796009163806, 0.0030782327039062807, 0.005501650867964614, 0.010907737541632656, 0.004196733395009922, 0.018018206220792976, 0.0066201515590673665, -0.0019283894372250643, -0.0023811159074336175, -0.022380973503121737, -0.008106774207131018, -0.010237251713994588, 0.005155448273098884, -0.002301223000926278, -0.010956287872561532, -0.007014904484863749, 0.003797268862472336, -0.0002772693694046424, 0.01626056227763062, 0.006620151559068255, 0.021160660543418253, -0.011329121436263634, 0.0036108520806221733, 0.022625363829388512, 0.007525604499486249, -0.01849285205309581, 0.0026787681713695832, 0.005421757961458162, -0.008879072303370705, -0.00831982195781844, -0.017400982330827652, 0.0063538418707107525, 0.00347769723644209, -0.011861740812980415, -0.018359697208915726, 0.00699298512276858, 0.021879696701984308, 0.016739919716673768, -0.006002927669102931, -0.012447622127368163, 0.00038850485149044545, -0.0028338423776421706, -0.0044849624454625925, 0.01255885760945219, -0.00650891607698334, 0.0064603657460526875, 0.006407103808382608, 0.012825167297811468, 0.0027320301090405508, -0.016229219702051267, -0.007094797391371088, -0.012101419532503321, 0.0018532081374589282, -0.010450299464682011, -0.004591486320805416, 0.007232663842291487, 0.003184756579249992, 0.007738652250171896, -0.013646015724980032, -0.0009430435902988421, 0.0037440069248013685, -0.003100152066001449, -0.004671379227313643, 0.009123462629633039, -0.017853708801036206, -0.011329121436263634, -0.0026474255957911197, 0.0023591965453402253, 0.002359196545339337, 0.006380472839546236, -0.015510183543485212, -0.012900348597575828, -0.0013691390916736879, 0.01381051314473769, -0.008053512269460938, 0.004569566958711135, 0.0028918159220552297, -0.013832432506829306, 0.010987630448139996, 0.0024657204206830485, 0.005235341179605335, -0.001156091340986265, -0.002274592032089906, -0.012154681470174289, 0.0006814455086843196, -0.006349130263968661, -0.019558090806527595, 0.015701311932077466, -0.0017686036242103853, -0.008239929051310213, -0.0062159754197885775, 0.01154688079369226, 0.005075555366591544, -0.0070415354536992325, 0.009949022663543694, -0.003552878536208226, 0.01026859428957394, -0.0036860333803883094, -0.016575422296916997, 0.013917037020078737, 0.006992985122769468, 0.004649459865218475, 0.0006814455086843196, 0.011866452419722506, 0.0019597320128026396, 0.006593520590231883, 0.00547501989912913, 0.016739919716673768, 0.008830521972440941, 0.009389772317992318, 0.013996929926586077, 0.012372440827602027, -0.01665531520342345, 0.003184756579249992, -0.007440999986236818, 0.013783882175898654, -0.016735208109933453, 0.005315234086113563, 0.0007080764775198034, -0.0005435790577630328, 0.0021461487946528024, -0.005523570230058006, 0.006593520590232771, 0.02179980379547697, -0.014657992540739961, 0.017086122311539498, 0.01780515847010644, 0.011307202074170242, -0.0034729856297017747, -0.009544846524264905, -0.002461008813940957, 0.023903650333505944, -0.006482285108148744, 0.011520249824855888, 0.017672003625928134, -0.001955020406060548, -0.0014756629670165111, 0.013224631830348166, 0.006833199309754789, 0.0052087102107707395, 0.009869129757036355, 0.005315234086114451, -0.002833842377643059, 0.0015070055425940865, 0.00012219516313116685, 0.015701311932079243, -0.0022213300944198267, 0.01676655068551014, 0.012212655014587348, 0.006833199309753901, -0.0004903171200911771, 0.001400481667250375, -0.010077465900981686, 0.016180669371121503, -0.012554146002710986, 0.007578866437158105, -0.00232785396976265, -0.0019017584683886923, -0.001821865561882241, 0.005874484431665827, 0.0003618738826549617, -0.010263882682830072, 0.006513627683724543, 0.004303257270353633, -0.01026388268283096, 0.008590843252918035, 0.004303257270353633, 0.0076321283748290725, 0.004596197927547507, -0.01447157575888891, -0.00906548908521998, -0.007627416768086981, 0.02438300777254998, -0.008160036144801985, -0.014844409322590124, 0.01711275328037498, -0.0029936281906568496, -0.005843141856088252, 0.007365818686469794, 0.002412458483012081, 0.01077458269745346, -0.00453822438313356, -0.0006767339019413399, -0.003712664349223793, -0.0162824816397249, 0.005954377338174055, 0.018870397223538227, 0.004622828896383879, 0.003530959174115722, -0.009811156212624184, -0.008373083895489408, -0.008985596178713529, 0.003211387548085476, 0.008564212284081663, -0.0007033648707786, -0.007867095487609888, 0.005235341179606223, 0.00667341349674011, 0.02206611348383536, -0.0026740565646266035, -0.0026207946269547477, 0.0046760908340530705, -0.008745917459190622, 0.0050222934289188, 0.0134376795810347, -0.010583454308862095, 0.0077652832190073795, -0.0047779031026555785, -0.004085497912925895, -0.0012093532786581207, 0.000601552602176092, -0.01601617195136562, -0.00744099998623593, 0.005315234086114451, -0.006642070921162535, -0.006935011578356409, 0.03175978614006869, 0.0068065683409184174, -0.01138238337393549, 0.0034244352987711224, 0.000281980976146734, 0.0014803745737577145, -0.00959810846193676, -0.0056034631365662335, 0.006247317995367041, -0.017960232676379917, 0.01034848719608128, 0.002572244296025872, -0.007227952235550283, 0.0016934223244442492, -0.0016088178111957063, 0.011999607263900813, -0.006642070921162535, 0.015701311932078355, -0.0013691390916736879, 0.0060076392758450226, -0.013166658285935107, -0.003712664349223793, -0.014657992540739073, -0.01239436018969542, -0.006002927669102931, -0.010130727838652653, -0.007174690297878428, -0.005683356043073573, 0.012878429235482436, -0.003712664349223793, 0.008164747751544965, -0.005523570230058006, -0.015456921605813356, -0.014418313821217943, 0.003823899831308708, -0.018599375928438633, 0.005341865054949935, 0.0052087102107707395, 0.011147416261156451, -0.01694825586061821, 0.001720053293279733, -0.021342365718526324, -1.0959681045363823e-05, -0.0204635437469447, -0.006615439952326163, 0.001400481667250375, -0.01071660915304129, 0.009150093598470299, -0.01095628787256242, -0.0050974747286849365, -0.00030390033824101437, -0.006961642547191893, -0.007334476110893107, 0.009735974912858936, -0.0011028294033161856, 0.012718643422468645, -0.0019283894372250643, 0.004676090834053959, -0.013140027317099623, 0.00981586781936361, -0.014737885447246413, -0.005150736666356792, -0.0022479610632544222, -0.01841295914658847, 0.0063272109018743805, -0.01191500275065227, 0.003504328205278462, -0.004884426978000178, 0.011600142731363228, -0.009145381991728208, -0.008293190988982069, -0.0008098887461214233, 0.0016401603867732817, -0.0006234719642703723, -0.017427613299663136, -0.01636237454623135, 0.00864410519058989, 0.008670736159425374, 0.012478964702945738, 0.005554912805635581, -0.009172012960562803, -0.00547030829238615, -0.014737885447246413, -0.019131995305154526, 0.009922391694709098, 0.007392449655306166, 0.014609442209809309, -0.006136082513282126, -0.01756076814384233, 0.00417010242617355, 0.004942400522412349, 0.013437679581033812, -0.0035262475673727423, 0.019030183036552906, 0.00667341349674011, 0.00795170000085843, -0.011941633719487754, 0.004969031491248721, -0.008373083895489408, -0.011488907249280977, -0.007680678705757948, 0.002732030109041439, -0.007760571612265288, -0.004671379227312755, 0.005767960556323004, -0.010903025934891453, 0.005847853462829455, -0.0060828205756102705, -0.011808478875308559, 0.007232663842291487, 0.008697367128260858, -0.0038458191934029884, 0.005581543774471953, 0.01255885760945219, -0.02025049599625728, -0.00017074549406181916, -0.0017153416865394178, 0.005341865054949935, 0.0008944932593708543, -0.023898938726763852, -0.007494261923908674, 0.007072878029277696, -0.01524387385512771, -0.008719286490355138, -0.014924302229098352, 0.008830521972440053, 0.006247317995367929, 0.011174047229991935, 0.0036641140182949172, -0.014418313821217055, 0.00539512699262179, 0.001080910041221017, 0.009922391694707322, -0.006961642547191893, 0.01751221781291168, 0.009549558131006997, -0.0017153416865394178, -0.009358429742413854, -0.00959810846193676, -0.0010761984344789255, 0.0009211242282063381, -0.008452976801996748, -0.00195502040605966, 0.006779937372082934, 0.0014803745737577145, 0.006833199309753901, 0.009203355536141267, 0.004489674052203796, 0.010481642040259587, -0.00839971486432578, -0.022407604471958997, 0.00022871903847576647, 0.005288603117278079, 0.0048891385847413815, 0.0052087102107707395, 0.01788505137661467, 0.010854475603959912, 0.0024657204206830485, -0.001955020406060548, 0.010960999479304512, -0.02219455672127335, 0.009176724567305783, -0.006189344450953982, 0.007285925779964231, -0.0038191882245675046, -0.011409014342770973, -0.003579509505044598, 0.005581543774471953, 0.008244640658052305, 0.0032912804545928154, -0.00547030829238615, -0.00198165137489692, -0.0001973764628981911, 0.001746684262116105, -0.015563445481157956, -0.005550201198895266, -0.00325993787901524, -0.004032235975253151, 0.007126139966947775, 0.002705399140205067, 0.0011075410100565009, -0.006535547045818824, 0.006779937372082934, 0.0024390894518466766, 0.008963676816619248, -0.004884426977998402, -0.028612620210700435, -0.001342508122838204, 0.00930987941148409, 1.567128778923177e-05, 0.002572244296025872, -0.0030202591594932215, 0.007099508998114068, 0.002891815922056118, -0.009944311056801602, -0.0039523430687467, 0.026034127840369514, -0.013299813130113414, -0.00046368615125569335, -0.005843141856088252, -0.0121546814701734, 0.01109415432348193, -0.006801856734177214, -0.012207943407846145, 0.004942400522413237, 0.015914359682764, 0.0027320301090396626, 0.008351164533395128, 0.0027586610778769227, 0.012798536328974208, -0.016974886829453695, -0.00046368615125569335, 0.006433734777218092, 0.006060901213516878, -0.005816510887252768, 0.0010276481035491614, 0.0007347074463561754, 0.01325126279918365, 0.021746541857805113, -0.009518215555428533, -0.00163544878003119, 0.002412458483011193, -0.00898559617871264, -0.006535547045819712, 0.009256617473811346, -0.01838632817775121, -0.008053512269460938, 0.003850530800144192, 0.0014271126360858588, 0.0005749216333414964, -0.0017153416865394178, 0.0025722442960249836, -0.006295868326296805, -0.006615439952327051, -0.004724641164984611, 0.0034510662676074944, -0.0047779031026555785, 0.002066255888145463, -0.0013691390916736879, 0.00992239169470821, 0.004729352771725814, -0.002620794626955636, -0.011542169186951057, 0.0060342702446813945, -0.008106774207131018, 0.002412458483011193, -1.0959681046252001e-05, -0.0026740565646266035, -0.004724641164984611, 0.010002284601214662, -0.0013691390916727997, -0.004218652757104202, 0.012106131139244525, -0.01958472177536308, -0.004484962445461704, 0.0014537436049222308, 0.013357786674527361, -0.007414369017401334, 0.005182079241935256, -0.005044212791013969, -0.03492415982478736, 0.01511543061768883, -0.010210620745159993, 0.0036641140182949172, -0.005044212791013969, -0.010237251713995477, 0.00017545710080302257, 0.020308469540672114, -0.032900206193265724, 0.004835876647068638, 0.014209977677272612, 0.0026521372025332113, 0.006407103808382608, 0.024436269710220948, -0.0033664617543580633, 0.010774582697454349, -0.0010761984344789255, 0.0032380185169209597, -0.003286568847850724, -0.015110719010948515, -0.000676733901942228, 0.0037173759559658848, -0.005550201198895266, -0.0019283894372259525, 0.018923659161210082, -0.012687300846889293, 0.006380472839547124, 0.005847853462830344, -0.010237251713996365, 0.009283248442648606, -0.018040125582886368, -0.00429854566361243, 0.017485586844077083, 0.009336510380319574, -0.005443677323550666, 0.009336510380320462, -0.007281214173221251, 0.0134376795810347, 0.008004961938530286, -0.014311789945873343, -0.013486229911964465, 0.014050191864257044, 0.0004950287268323805, -0.008186667113639245, 0.007179401904620519, 0.008590843252917146, 0.0011341719788919846, -0.009012227147549012, -0.010450299464682011, -0.015163980948619482, 0.005901115400500423, 0.01402356089542156, -0.005496939261222522, 0.005874484431665827, 0.00038850485148955727, 0.008937045847782876, -0.007520892892744158, -0.01239436018969542, 0.012692012453632273, 0.002998339797398941, 0.02345092386329739, -0.0007566268084504557, 0.003024970766235313, 0.0007879693840271429, -0.02432503422813692, 0.013570834425213008, 0.001773315230953365, -0.003126783034836933, -0.01239436018969542, 0.0021727797634891743, -0.0038458191934021, -0.0036327714427164537, 0.0001488261319675388, -0.009864418150294263, -0.005017581822177597, 0.01154688079369226, 0.0029717088285625692, -0.006961642547191893, -0.003872450162238472, 0.004116840488502582, 0.014423025427959146, -0.006056189606774787, -0.00022400743173367488, -0.018865685616797023, -0.007361107079729479, -0.00874591745919151, -0.0019017584683895805, -0.009837787181459667, 0.005155448273098884, 0.00025535000731125024, -0.010929656903726936, 0.008484319377575211, 0.0010010171347136776, -0.016389005515066835, 0.0012939577919075518, -0.016575422296916997, -0.0043251766324479135, -0.012128050501337917, -0.01335307506778527, 0.0006548145398479477, -0.007068166422534716, -0.0008897816526287627, 0.003451066267606606, -0.021608675406884714, 0.010268594289573052, -0.006535547045819712, -0.006935011578355521, 0.005954377338173167, 0.0014271126360876352, -0.003073521097164189, -0.021608675406884714, 6.893322545931113e-05, -0.001156091340986265, 0.006939723185098501, 0.015408371274885369, -0.0037925572557311327, -0.021342365718526324, -0.006935011578357297, -0.013273182161277042, -0.00685511867184907, 0.004649459865218475, -0.009944311056801602, -0.0038458191934021, 0.014609442209809309, 0.008723998097098118, -0.009544846524264017, 0.016793181654346512, 0.0007080764775206916, 0.0034510662676074944, -0.006455654139312372, 0.01042838010258862, -0.006695332858834391, -0.0034729856297008865, -0.005363784417044215, 0.021586756044790434, -0.01926515014933372, 0.026300437528727016, -0.006588808983490679, -0.01002420396330983, 0.022172637359177294, -0.012713931815726554, -0.007733940643429804, -0.009464953617757565, -0.001342508122837316, -0.011195966592085327, -0.007281214173222139, -0.0062159754197885775, 0.006833199309753901, -0.001182722309822637, -0.003686033380386533, -0.002620794626955636, -0.012474253096204535, 0.0076321283748290725, -0.014205266070531408, -0.007520892892744158, -0.010556823340025723, -0.003978974037582184, 0.0038771617689805637, -0.008452976801996748, -0.01788033976987169, 0.006779937372082934, -0.004644748258476383, 0.0005482906645051244, 0.007605497405993589, 0.00736581868647157, -0.019717876619542274, -0.007014904484864637, 0.008457688408737951, 0.005341865054949935, 0.008271271626888677, -0.01002420396330983, 0.02941626088251681, 0.0037173759559649966, -0.0025409017204491846, 0.013517572487540264, -0.01002420396330983, 0.002039624919309091, 0.0035043282052775737, 0.008084854845037626, 0.008697367128261746, -0.0033131998166862076, -0.012687300846890182, 0.01120067819882653, 0.01069468979094701, -0.008559500677341347, 0.002066255888145463, -0.005363784417043327, 0.0030782327039062807, 0.0024923513895194205, 0.00614079412002333, -0.004298545663610653, -0.002487639782777329, -0.014950933197934724, 0.018790504317031775, 0.008697367128260858, -0.008346452926653036, 0.00922998650497675, -0.0009963055279724742, 0.004702721802889442, 0.006380472839546236, 0.010108808476559261, 0.017032860373867642, -0.013219920223606074, -0.005683356043072685, -0.014391682852381571, -0.008719286490353362, -0.009731263306116844, 0.00350432820527935, 0.009203355536141267, -0.0029936281906568496, 0.0017200532932806212, -0.008452976801997636, 0.01189308338855799, -0.0008098887461223114, 0.0063538418707107525, 0.021906327670819792, -0.0017952345930467573, -0.001821865561882241, -0.01191500275065227, 0.01026859428957394, -0.007840464518773516, -0.003286568847851612, 0.006726675434411966, 0.008084854845036737, -0.004990950853343001, -0.006935011578356409, -0.0012359842474936045, -0.007014904484864637, -0.00677522576534173, 0.00041513582032504104, 0.01729917006222692, -0.005976296700266559, 0.014742597053987616, 0.008510950346409807, -0.0032066759413442725, -0.009411691680087486, 0.006247317995367041, 0.015648049994407387, -0.019531459837693, -0.009118751022893612, -0.0020349133125678875, 0.003690744987130401, -0.007174690297879316, -0.0028072114088057987, -0.006295868326296805, -0.012367729220859935, -0.009757894274950552, -0.012634038909219214, -0.008053512269460938, -0.002274592032090794, 0.0109609994793054, -0.00429854566361243, -0.0011294603721516694, 0.0004151358203259292, -0.0003571622759119819, 0.003211387548085476, 0.012159393076915492, 0.009256617473812234, 0.0004950287268341569, -0.0024876397827764407, -0.012767193753397521, 0.02677979496777283, -0.0006234719642712605, 0.009283248442648606, -0.0020615442814042595, 0.0029184468908907135, -0.014391682852381571, -0.020197234058588087, 0.009016938754291992, 0.005235341179606223, 0.010028915570051922, -0.005257260541700504, -0.005177367635193164, 0.007712021281335524, -0.019345043055840172, -0.0015821868423593344, -0.004165390819432346, -0.004698010196148239, 0.011387094980677581, -0.005683356043073573, -0.017241196517812085, 0.007365818686470682, 0.0008944932593708543, 0.0074457115929780215, 0.014209977677271723, -0.006136082513282126, 0.00733918771763431, 0.004249995332681777, 0.008324533564559644, 0.004596197927546619, 0.00020208806963939452, 0.0038771617689796756, -0.0172145655489766, 0.0037173759559649966, -0.018839054647962428, -0.007121428360206572, -0.00453822438313356, -0.015084088042112143, -0.0023544849385981337, -0.008932334241041673, -0.017880339769872577, 0.005981008307007762, 0.006407103808382608, 0.0015336365114295702, 0.0027852920467124065, 0.009949022663543694, -0.0011294603721516694, 0.007339187717635198, -0.014285158977038748, -0.006295868326297693, 0.0032380185169209597, 0.01077458269745346, -0.010343775589340076, 0.0007613384151916591, -0.002940366252985882, 0.0045695669587120236, 0.0043831501768600845, -0.012474253096204535, -0.008452976801996748, -0.0044583314766262205, -0.000836519714956907, -0.007680678705759725, 0.002838553984384262, -0.012793824722233893, 0.004170102426174438, 0.0006548145398488359, 0.005448388930294534, -0.0026740565646266035, -0.009784525243787812, -0.006189344450953094, -0.007014904484864637, -0.009464953617757565, -0.0025675326892846684, -0.0005169480889266609, -0.0004636861512565815, 0.009735974912858936, -0.005310522479372359, 0.0012140648854002123, 0.008777260034768197, -0.0023012230009245016, 0.006407103808382608, -0.020170603089750827, 0.004303257270352745, -0.01910536433631993, -0.00325993787901524, 0.0027852920467115183, -0.0017686036242103853, -0.014551468665397138, -0.005949665731431075, 0.023983543240012395, -0.004378438570118881, -0.0005169480889266609, 0.004143471457338066, -0.0013957700605091716, 0.0010809100412219053, 0.0024923513895194205, 0.005288603117278967, 0.0063005799330380086, 0.0010276481035482732, -0.01319328925477059, 0.004622828896383879, -0.0028072114088049105, 0.0031314946415772482, -0.0020082823437324038, -0.0005169480889266609, -0.0004903171200920653, 0.0032646494857555552, 0.005847853462830344, -0.005283891510535987, -0.007920357425280855, -0.018359697208914838, 0.00486250761590501, 0.012239285983422832, 0.0038771617689805637, 0.007845176125515607, -0.009012227147548124, -0.006136082513281238, 0.005981008307009539, 0.00845768840873884, 0.00020208806963939452, 0.005395126992620902, -0.017400982330827652, 0.020228576634164774, 0.007126139966948664, -0.004405069538955253, 0.00667341349674011, 0.009443034255664173, 0.004010316613159759, 0.013863775082406882, 0.015674680963241094, -0.007547523861579641, 0.011174047229991046, 0.01128057110533387, -0.0028604733464776544, 0.012052869201572669, -0.001821865561882241, -0.0043251766324479135, -0.004112128881761379, -0.01891894755446888, -0.0029669972218204776, -0.004112128881761379, 0.008590843252917146, 0.004649459865218475, -0.005097474728685825, 0.008297902595723272, -0.004564855351968156, 0.005501650867964614, 0.0063005799330380086, -0.010903025934891453, -0.002780580439970315, -0.008373083895489408, -0.00038379324474835386, 0.01836440881565693, 0.00606090121351599, 0.01066805882210975, -0.01204815759482969, 0.01452954930330197, 0.0008412313216989986, -0.0011028294033144093, -0.010050834932144426, 0.008723998097095453, -0.007787202581102548, -0.010290513651666444, 0.015541526119062787, 0.0009211242282072263, 0.011733297575542423, -0.005630094105400829, 0.0024923513895185323, 0.018683980441688064, -0.012873717628740344, 0.01058816591560241, -1.0959681046252001e-05, 0.006460365746053576, 0.007898438063186575, 0.013730620238226798, 0.007978330969693914, -0.007094797391371088, -0.004857796009163806, 0.01146698788718492, 0.010854475603959912, -0.004431700507789849, -0.027787060176792444, -0.003126783034836045, -0.006349130263968661, -0.0072013212667139115, 0.007419080624142538, 0.007046247060441324, 0.020841088917388007, -0.001475662967015623, -0.00557683216773075, 0.020628041166700584, 0.015301847399540769, -0.0024077468762691012, -0.01702814876712644, -0.008373083895489408, 0.0008146003528626267, 0.005261972148442595, 0.002012993950473607, 0.0052087102107707395, -0.0038458191934021, -0.014072111226352213, -0.006961642547191893, -0.00874591745919151, 0.0077652832190073795, -0.017001517798291843, -0.0049376889156702575, -3.759064988173577e-05, 0.008191378720381337, -0.0013158771540018321, 0.005608174743307437, 0.002012993950473607, 0.006247317995367041, -0.0013957700605082834, 0.0016934223244442492, 0.005714698618651148, -0.007254583204384879, -0.00043705518242109775, 0.005288603117277191, -0.018626006897275005, -0.015137349979783998, -0.008772548428026994, 0.00347769723644209, 0.003690744987130401, 0.03205272679726168, 0.0032912804545937036, 0.017512217812913455, 0.01221265501458646, 0.002518982358354016, -0.01497756416676932, -0.01258077697154647, -0.0008098887461214233, 0.007232663842292375, 0.009176724567305783, 0.0064603657460526875, -0.0178803397698708, 0.005688067649815665, 0.0008412313216981104, 0.024489531647893692, 0.0004950287268332687, 0.0038771617689805637, 0.014556180272137453, 0.008004961938530286, 0.005741329587486632, -0.0005968409954357767, 0.005421757961457274, 0.01407682283309164, -0.005709987011909057, 0.0005482906645051244, -0.008133405175966502, -0.019957555339064292, 0.0028918159220552297, 0.005847853462830344, 0.006140794120022441, -0.007920357425281743, -0.016335743577396755, 0.010694689790946121, -0.005390415385878811, 0.0005216596956696407, -0.012234574376681628, 0.009123462629633927, 0.011573511762527744, 0.005821222493993972, 0.01684644359201748, -0.008053512269460938, -0.0005169480889266609, 0.004915769553575977, -0.025949523327120083, 0.006886461247426645, 0.01548826418139182, -0.0043251766324479135, 0.003637483049457657, 0.010241963320737568, 0.013144738923839938, 0.00030861194498310596, 0.013118107955004454, 0.01580783580742029, 0.00417010242617355, 0.002705399140205067, 0.008164747751544965, -3.759064988262395e-05, -0.00781383354993892, -0.012074788563666061, 0.010108808476559261, -0.00232785396976265, 0.0026255062336977275, -0.005630094105401717, 0.010108808476559261, -0.006482285108148744, 0.006726675434411078, -0.009225274898236435, 0.008670736159425374, -0.01079650205954863, -0.010849763997219597, 0.007072878029276808, 0.007845176125515607, -0.010237251713995477, -0.018412959146587582, -0.0025675326892846684, -0.005124105697521308, -0.009385060711249338, 0.007072878029276808, 0.005288603117278079, 0.017432324906405228, 0.0005482906645051244, -0.0025142707516128127, -0.0030468901283287053, 0.0007879693840262547, 0.011387094980676693, -0.0234462122565553, -0.0024876397827764407, 0.01436976349028729, 0.007978330969694802, -0.01188837178181501, 0.010774582697454349, 0.004489674052203796, 0.008750629065932714, -0.018412959146587582, 0.0019331010439671559, -0.01231446728318808, -0.00325993787901524, -0.005683356043072685, -0.008266560020146585, -0.0024077468762691012, -0.030183847372013517, 0.0022793036388319976, -0.014045480257515841, -0.0005968409954348886, -0.011009549810234276, -0.007547523861579641, 0.006087532182352362, -0.007733940643430692, -0.011222597560919922, 0.017485586844077083, 0.008457688408737951, 0.006913092216263017, -0.00789372645644626, -0.01556344548115618, -0.011355752405100006, -0.0014224010293446554, 0.011387094980676693, 0.009522927162171513, 0.0066467825279037385, 0.009256617473812234, -0.005070843759850341, -0.014152004132859552, 0.011413725949512177, 0.009975653632379178, -0.0017153416865394178, -0.00488442697799929, 0.0012939577919075518, -0.0025675326892846684, 0.01663339584133272, 0.0011608029477283566, -0.0011560913409871532, 0.007285925779964231, -0.0012626152163299764, -0.016389005515066835, -0.0045914863208045276, -0.005070843759849453, -0.00547030829238615, -0.007254583204386655, 0.017245908124554177, 0.00443641211453194, -0.006935011578356409, -0.0036327714427164537, 0.013730620238227687, -0.014737885447246413, -0.004884426978000178, -0.007307845142058511, 0.013384417643362845, 0.0034244352987720106, 0.0206014101978651, -0.0021946991255834547, 0.00028198097614584583, 0.0024923513895185323, 0.004329888239189117, 0.005981008307009539, -0.012900348597575828, -0.001449031998179251, 0.004676090834053959, -0.017267827486649345, 0.013064846017333487, 0.0013738506984148913, 0.002705399140205067, 0.0010542790723846451, -0.013725908631487371, 0.002572244296025872, -0.005496939261222522, -0.0019283894372259525, -0.008239929051311101, 0.008058223876201254, 0.00012219516313205503, 0.016100776464614164, -0.0022479610632544222, 0.015861097745092145, 0.0027320301090405508, -0.00011748355639085162, 0.006939723185098501, 0.00046839775799778494, 0.0010542790723855333, 0.008244640658052305, 0.007925069032022058, -0.005070843759849453, -0.02062332955995938, 0.022545470922879396, 0.0026521372025332113, -0.004378438570118881, 0.018444301722166045, 0.0077652832190073795, -0.010796502059547741, -0.01404548025751673, -0.0009164126214633583, -0.01319328925477059, 0.015035537711182378, -0.0024610088139391806, 0.007605497405993589, -0.002141437187912487, -0.006935011578354633, 0.02448953164789458, -0.021928247032914072, -3.759064988173577e-05, -0.0009430435902997303, -0.016815101016439016, -0.006748594796505358, -0.01566996935650078, -0.0005169480889266609, -0.009251905867071919, 0.012612119547124045, -0.002594163658120152, -0.006002927669102931, -0.011329121436263634, 0.006779937372082934, -0.003100152066001449, 0.0016401603867732817, 0.010588165915604186, -0.014924302229098352, 0.000601552602176092, 0.004463043083368312, -0.0007566268084495675, 0.010162070414230229, 0.008910414878947392, 0.005341865054949935, -0.00017074549406181916, 0.013064846017333487, 0.0027320301090405508, 0.008830521972440941, 0.013144738923840826, 0.006966354153933096, 0.020335100509507598, -0.011728585968800331, -0.007733940643429804, -0.017534137175006848, 0.014822489960496732, 0.0068065683409184174, -0.01114270465441436, 0.0033179114234291873, -0.018306435271245647, -0.0027273185022993474, 0.020228576634163886, 0.00454293598987654, -0.0017153416865394178, -0.008958965209877157, -0.008719286490355138, -0.012287836314353484, -0.0002772693694046424, -0.005257260541699615, -0.0041653908194332345, 0.01170666660670694, 0.012052869201572669, 0.01016207041422934, -0.015883017107186426, -0.0010495674656434417, -0.011089442716742504, 0.015035537711182378, -0.004271914694776058, 0.015195323524197057, 0.017751896532434586, 0.010881106572796284, -0.004724641164984611, 0.0007347074463561754, 0.01128057110533387, 0.010295225258409424, -0.0004636861512565815, -0.00019737646289730293, -0.00949158458659305, 0.005102186335427028, 0.01359746539404938, -0.003126783034836933, 0.0006281835710124639, -0.00789372645644626, 0.002705399140205067, -0.006402392201639628, -0.0007566268084504557, -0.017800446863365238, 0.004569566958711135, 0.012265916952258316, 0.015328478368376253, 0.010561534946766926, 0.0005482906645051244, 0.01615403840228513, -0.0018218655618813528, -0.0013158771540027203, -0.025736475576434437, -0.004857796009162918, 0.0039304237066524195, -0.0013957700605091716, 0.00020208806963939452, 0.0045429359898747634, -0.003073521097164189, -0.005630094105400829, -0.022407604471958997, -0.006721963827670763, 0.009869129757036355, 0.0008944932593717425, -0.009544846524264017, 0.0008146003528626267, 0.0017733152309515887, -0.015350397730469645, -0.01412537316402318, -0.0026474255957911197, 0.019136706911896617, 0.0037440069248013685, 0.01394366798891511, 0.003504328205278462, -0.012447622127368163, -0.003419723692029919, 0.00443641211453194, 0.008138116782709481, -0.005496939261222522, -0.005257260541700504, -0.001981651374897808, -0.0034996165985363703, -0.015962910013693765, -0.003126783034836045, 0.012212655014587348, 0.0141034538019289, 0.007259294811128747, -0.0038458191934021, 0.007339187717635198, -0.004058866944089523, 0.004729352771725814, -0.003579509505045486, 0.00736581868647157, 0.006486996714889948, 0.02310472126843166, 0.003344542392264671, -0.015456921605813356, -0.0044583314766262205, -0.009118751022892724, 0.004116840488502582, 0.013251262799185426, 0.007179401904619631, 0.009469665224498769, -0.010823133028383225, -0.003419723692029919, 0.004676090834053959, 0.0010276481035482732, 0.003184756579249992, 0.0040902095196670984, 0.005421757961456386, -0.011622062093457508, 0.011387094980676693, 0.007845176125515607, 0.018497563659837013, 0.0007613384151907709, -0.024964177480196525, 0.005102186335427028, 0.011520249824857665, -0.0017952345930467573, 0.006087532182352362, -0.0009963055279724742, 0.0007613384151916591, 0.012638750515960417, -0.007680678705758837, 0.0040369475819943546, 1.567128778923177e-05, 0.0029184468908916017, -0.0030202591594923334, 0.010881106572797172, 0.014769228022824876, 0.0013205887607430356, -0.017960232676379917, -0.001182722309822637, 0.008857152941275537, 0.0026787681713695832, -0.001528924904689255, -0.004138759850596863, -0.016841731985276276, -0.00011748355639085162, 0.014715966085152132, 0.007925069032022058, -0.009251905867071919, 0.0032380185169209597, 0.005102186335427916, 0.0013205887607430356, -0.012394360189694531, 0.005581543774471953, -0.00163544878003119, -0.0021946991255834547, 0.0029184468908916017, -0.009198643929399175, -0.0014490319981810273, 0.00315812561041362, 0.0005482906645051244, 0.006913092216262129, -0.008586131646176831, 0.013757251207062282, -0.0028604733464776544, -0.00163544878003119, -0.012607407940382842, 0.01692633649852393, -0.003552878536209114, 0.00803159290736577, -0.0046447482584772715, 0.005741329587486632, -0.006455654139312372, -0.009358429742414742, 0.011653404669035083, 0.01575457386975021, -0.0015022939358519949, 0.018630718504016208, -0.015749862263006342, -0.011462276280442829, 0.011147416261155563, -0.007281214173221251, -0.0026474255957911197, -0.00712142836020746, 0.016926336498525707, 0.016100776464614164, -0.0028338423776421706, 0.009336510380320462, -0.016495529390410546, 0.0057146986186520365, 0.001959732012803528, -0.02072985343530309, 0.0021727797634891743, 0.013810513144735026, -0.025390272981568707, -0.014764516416082785, -0.006455654139312372, -0.012367729220860824, 0.0016135294179369097, -0.007307845142057623, 0.0008146003528626267, -0.024271772290465066, 0.001453743604923119, -0.026428880766165896, -0.0005169480889266609, 0.0037173759559658848, 0.004569566958711135, -0.015270504823963194, -0.006109451544445754, -0.017454244268499508, -0.012367729220859935, 0.007632128374829961, 0.012026238232736297, 0.010401749133752247, 0.025288460712967087, 0.0012140648854002123, 0.008937045847783764, 0.0030249707662362013, 0.015514895150226415, 0.01530184739953988, -0.014178635101695924, -0.018439590115423954, -0.003100152066001449, -0.011488907249279201, -0.010929656903726048, 0.001240695854235696, 0.014130084770765272, -0.003765926286896537, 0.014982275773510523, -0.0011294603721516694, -0.006748594796505358, 0.002998339797398053, -0.0005702100265985166, -0.006668701889998019, -0.0028604733464776544, -0.015563445481157956, 0.009762605881693531, 0.01069468979094701, 0.01743232490640434, -0.006961642547191893, 0.005075555366591544, -0.009944311056801602, -0.012128050501337029, 0.012159393076915492, 0.01538174030604722, 0.020814457948551635, -0.0019017584683895805, 0.00017545710080391075, 0.012745274391304129, -0.00959810846193676, -0.004112128881761379, 0.010481642040259587, -0.0021946991255834547, -0.0023278539697617617, 0.0002287190384748783, -0.006695332858834391, -1.095968104714018e-05, 0.006913092216263017, -0.009358429742413854, 0.009416403286827801, 0.009602820068677964, 0.012692012453631385, -0.014817778353755529, 0.007898438063187463, 0.007179401904620519, -0.011728585968800331, 0.014023560895422449, 0.005075555366591544, 0.015488264181390932, 0.0013738506984148913, 0.011866452419722506, -0.008532869708505864, 0.001586898449101426, -0.017134672642468374, 0.0010276481035482732, 0.0028918159220552297, -0.004724641164984611, 0.001533636511428682, -0.00038379324474835386, -0.01718793458014023, -0.01284708665990486, -0.003739295318059277, 0.0037173759559658848, 0.013064846017333487, 0.01077458269745346, -0.01838632817775121, -0.007494261923907786, -0.00712142836020746, -0.007387738048564962, -0.001795234593045869, 0.006646782527904627, 0.014183346708437128, 0.01676655068551014, -0.004724641164984611, 0.013837144113571398, -0.004005605006417667, 0.006247317995367041, -0.00797361936295271, -0.00198165137489692, 0.005421757961457274, -0.0017686036242094971, 0.010455011071424991, 0.003344542392264671, 0.0009477551970418219, 0.00861747422175263, -0.0030202591594932215, 0.002199410732324658, 0.0016934223244442492, 0.009203355536142155, -0.004591486320805416, -0.010929656903726048, 0.00864410519058989, 0.0018265771686234444, -0.003579509505044598, 0.015594788056734643, -0.006295868326297693, -0.015377028699305129, 0.0032646494857555552, -0.0001441145252254472, -0.01780044686336435, -0.002141437187911599, 0.017991575251956604, 0.01522195449303343, 0.007152770935783259, 0.00896367681661836, -0.00547030829238615, -0.004165390819432346, 0.00675330640324745, 0.0037440069248013685, 0.010960999479303624, -0.014444944790053427, 0.005714698618651148, -0.010636716246532174, -0.008106774207131018, -0.015803124200679974, -0.0067485947965062465, 0.00821800968921682, -0.0027539494711357193, 0.006460365746053576, 0.009256617473813122, 0.014263239614944467, -0.001475662967015623, 0.005901115400500423, 0.006726675434411078, -0.01353949184963632, 0.006140794120024218, 0.019110075943060245, 0.008084854845036737, 0.006833199309753901, 0.019056814005389278, 0.009922391694709987, 0.003024970766235313, -0.003978974037582184, -0.018599375928437745, 0.0142099776772735, 0.005448388930292758, -0.005257260541700504, -0.007387738048564962, 0.016686657779001912, 0.004676090834053959, -0.004751272133820095, 0.006380472839546236, 0.008670736159425374, -0.012820455691069377, -0.006269237357461321, 0.0021727797634891743, 0.008777260034769085, -0.008186667113640134, -0.00163544878003119, -0.015137349979783998, -0.006935011578356409, 0.008537581315247067, -0.00685511867184907, 0.003664114018294029, -0.0013957700605091716, -0.000836519714956907, 0.003957054675487903, -0.006402392201639628, -0.004484962445461704, -0.004698010196149127, -0.007281214173221251, -0.0042985456636115416, 0.004862507615904121, -0.006109451544446642, 0.016793181654345624, 0.008431057439902467, 0.012505595671781222, 0.0006548145398488359, -0.0015821868423593344, -0.008799179396862478, 0.016739919716674656, 0.009043569723127476, 0.00017545710080302257, -0.003739295318060165, 0.005634805712143809, 0.0004950287268323805, -0.009518215555429421, 0.0011874339165638403, -0.008905703272207077, -0.00874591745919151, 0.0028119230155487784, 0.0019863629816390116, -0.001342508122837316, 0.02209274445267173, 0.007152770935784147, 0.004356519208025489, -0.0031800449725079005, -0.017747184925693382, -0.000676733901942228, 0.008830521972440053, -0.0019017584683886923, -0.007307845142057623, -0.00557683216773075, -0.008426345833161264, -0.016628684234588853, -0.006615439952327051, -0.0036594024115528256, -0.0039523430687467, -0.006482285108148744, -0.005230629572865908, 0.0007347074463561754, -0.00685511867184907, -0.018040125582887256, 0.01170666660670694, 0.007339187717635198, -0.01995755533906518, 0.0004417667891605248, 0.02590097299618943, 0.00017545710080302257, 0.010215332351902973, -0.0026740565646274916, 0.0010542790723855333, -0.0007033648707768236, 0.005714698618651148, 0.0027852920467132947, -0.0004104242135847258, 0.0004417667891605248, -0.0006501029331067443, 0.0008678622905344824, -0.013965587351008502, -0.0038191882245675046, 0.010455011071424991, 0.01325126279918365, 0.01506216868001875, -0.0006767339019413399, 0.003184756579249104, 0.009735974912858048, -0.0012359842474936045, -0.002514270751613701, 0.001427112636086747, -0.005017581822177597, 0.015275216430705285, 0.004143471457338066, 0.0023325655765038533, -0.004538224383134448, 0.0010276481035491614, -0.006562178014655196, 0.001427112636086747, 0.00382389983130782, 0.007765283219009156, -0.010583454308862095, 0.010401749133753135, 9.556419429657126e-05, 0.008963676816619248, 0.012878429235482436, -0.00677522576534173, 0.008111485813873998, 0.005075555366591544, -0.01103618077906976, 0.0009211242282063381, 0.014662704147482053, 0.009043569723127476, 0.016127407433449648, 0.003957054675487015, 0.0026521372025340995, -0.0032066759413442725, -0.0008897816526287627, 0.019829112101628077, -0.010210620745159993, -0.002487639782777329, 0.0060076392758450226, 0.0009743861658781938, 0.0015602674802659422, 0.008510950346410695, -0.009917680087966119, -0.001821865561882241, -0.010663347215368546, 0.0008412313216989986, -0.013486229911964465, -0.011355752405099118, -0.0002772693694046424, 0.00046839775799689676, 0.011094154323482819, 0.007552235468320845, 0.003504328205278462, 0.007525604499485361, 0.0009743861658773056, 0.004329888239189117, 0.006646782527904627, -0.030423526091536424, 0.0074723425618143935, 0.003184756579249992, 0.004676090834053959, -0.00421865275710509, -0.009464953617759342, 0.013650727331720347, -0.00022400743173367488, -0.016655315203424337, -0.00906548908521998, 0.0010010171347127894, 0.011733297575542423, 0.0055282818368000974, -0.012687300846890182, 0.016233931308794247, -0.009837787181459667, -0.010583454308861207, 0.00872399809709723, 0.004542935989875652, -0.006109451544446642, -0.02781369114562704, 0.0033179114234291873, -0.016894993922947243, 0.017751896532433697, -0.009784525243786923, -9.085258755447967e-05, -0.00046368615125569335, -0.013379706036620753, 0.0012939577919075518, -0.013539491849635432, 0.0033978043299356386, 0.009895760725871838, -0.003739295318059277, 0.003158125610412732, 0.011573511762527744, 0.009922391694707322, 0.011440356918348549, 0.00257224429602676, -0.00033053130707560996, -0.0005968409954348886, 0.014849120929332216, -0.008905703272206189, 0.013544203456376636, 0.01250559567178211, -0.0029669972218204776, -0.006402392201639628, 0.0022793036388319976, -0.013406337005457125, 0.0012673268230711798, 0.003291280454591927, -0.0006234719642721487, -0.02088963924831777, -0.020170603089751715, 0.0023325655765038533, -0.01335307506778527, -0.010343775589340964, -0.007547523861579641, 0.004223364363846294, 0.004329888239188229, 0.0007347074463552872, -0.002594163658120152, 0.008830521972440053, -0.004138759850596863, 0.0037440069248013685, -0.006562178014654307, 0.003317911423428299, 0.0018798391062953002, 0.001720053293279733, -0.004058866944089523, 0.006566889621397287, 0.012452333734109367, -0.004831165040329211, -0.0010495674656425535, -0.0044583314766262205, 0.006753306403248338, 0.0012939577919066636, -0.001022936496807958, 0.002705399140205067, -0.00427191469477517, -0.009464953617757565, 0.006273948964202525, 0.004196733395009922, -0.02027712696509454, -0.013672646693815516, -0.00033053130707649814, -0.014072111226351325, -0.007148059329042056, 0.006273948964202525, -0.000543579057763921, 0.015221954493034318, 0.011174047229991046, -0.0006501029331067443, -0.02600278526479194, -0.014924302229097464, -0.0029137352841503983, -0.001821865561882241, 0.0008412313216981104, 0.004196733395009922, 0.003557590142951206, -0.006295868326296805, 0.009389772317992318, 0.008084854845038514, 0.009096831660797555, 0.009070200691962071, -0.009624739430772244, -0.02070322246646672, 0.008750629065932714, -0.0036327714427164537, -0.006988273516027377, 0.0025456133271895, -0.007068166422534716, -0.010237251713995477, 0.005927746369337683, 0.001746684262116105, -0.007387738048564074, -1.0959681046252001e-05, 0.001080910041221017, -0.010130727838652653, 0.001746684262116105, -0.0013691390916736879, 0.0005216596956696407, 0.0013205887607430356, -0.0033664617543589515, -0.003073521097164189, 0.006566889621398175, -0.012074788563666061, -0.001022936496807958, -0.0012892461851663484, -0.003579509505044598, -0.004804534071491062, 0.0025722442960249836, -0.006562178014654307, -0.0024077468762691012, 0.001373850698414003, 0.00012219516313205503, 0.015914359682763113, -0.009225274898234659, 0.0005482906645042362, 0.0016667913556087655, 0.00219941073232377, 0.003664114018293141, 0.005341865054949935, 0.018870397223539115, 0.0023858275141739327, -0.009811156212624184, -0.007094797391371088, 0.010241963320738456, 0.008644105190589002, 0.01375725120706317, -0.008053512269460938, -0.007094797391371088, -0.005976296700266559, 0.017032860373867642, 0.005688067649814776, 0.007898438063185687, -0.004857796009163806, -0.008319821957816664, 0.017831789438942813, 0.011573511762527744, 0.008404426471066984, 0.005981008307008651, 0.010028915570051922, -0.0029936281906559614, 0.0010542790723846451, -0.011169335623248955, 0.007392449655306166, -0.006935011578357297, -0.016948255860617323, -0.015856386138350942, -0.002141437187910711, 0.004969031491247833, -0.008559500677339571, 0.007818545156681012, 0.005182079241935256, 0.0001221951631329432, -0.016122695826708444, -0.00232785396976265, -0.013779170569158339, 0.0032380185169209597, 0.009682712975185304, 0.008297902595725049, -0.004138759850595974, 0.004409781145697345, -0.001528924904689255, -0.01068997818420403, 0.0033978043299356386, 0.01258548857828945, 0.008244640658052305, -0.007547523861579641, -0.0005702100265985166, -0.0036594024115519375, -0.006668701889998019, -0.009092120054055464, 0.0016934223244451374, -0.0044583314766262205, -0.014604730603068994, 0.009150093598468523, 0.0006281835710115757, -0.009038858116384496, -0.014072111226351325, -0.0033398307855216913, -0.01593627904485828, -0.01188837178181501, 0.013890406051242365, 0.01258548857828945, 0.012186024045750976, 0.005874484431664939, 0.010055546538886517, -0.008186667113640134, -0.023952200664435708, -0.007867095487608111, 0.00038850485149044545, -0.0022213300944198267, 0.012585488578287674, 0.011120785292318303, 0.003024970766235313, 0.011307202074169354, 0.004729352771724926, -0.0022479610632544222, 0.01841767075333056, -0.011142704654411695, 0.007978330969694802, 0.010241963320738456, 0.00025535000731125024, -0.008612762615012315, -0.007893726456444483, 0.010614796884437894, 0.007206032873456003, 0.0009743861658781938, -0.0012626152163299764, -0.005896403793760108, 0.005688067649815665, -0.003925712099910328, -0.015057457073274882, 0.007525604499485361, 0.00856421228408255, -0.013379706036621641, 0.00030861194498310596, -9.085258755359149e-05, 0.0026255062336968393, 0.010721320759781605, 0.018524194628672497, -0.008106774207131018, 0.023317769019118195, 0.00664678252790285, 0.010002284601216438, -0.004990950853343001, -0.007414369017400446, -0.014737885447248189, 0.005448388930293646, -1.0959681046252001e-05, 0.004356519208024601, -0.007494261923908674, -0.017853708801035317, -0.012101419532502433, 0.0031048636727417644, 0.002891815922056118, -0.002274592032090794, 0.006540258652560915, -0.0030735210971650773, 0.0026787681713695832, -0.0012892461851654602, -0.004831165040326546, -0.004058866944087747, -0.004245283725940574, -0.004911057946834774, 0.007498973530649877, -0.011275859498592666, 0.017725265563599102, 0.00821800968921682, -0.0009164126214642465, 0.009522927162170625, 0.022092744452670843, 0.004835876647068638, 0.0024390894518466766, -0.003792557255732021, -0.008772548428026994, 0.0108544756039608, -0.02499080844903201, 0.013118107955004454, 0.011387094980675805, -0.017747184925692494, 0.0032646494857555552, 0.001533636511428682, 0.00038850485149044545, 0.010002284601214662, -0.0291718705562527, -0.005070843759850341, -0.0048045340714919504, 0.00025535000731125024, 0.0072859257799633426, 0.002865184953219746, 0.0029184468908916017, 0.016526871965987233, 0.01692633649852482, -0.007654047736922465, 0.0034510662676074944, -0.0028604733464776544, -0.00770730967459432, -0.010077465900980798, -0.00547030829238615, -0.0028072114088057987, 0.011919714357392586, 0.01546163321255456, -0.0035528785362100024, 0.010162070414228452, 0.002252672669996514, 0.008803891003603681, 0.0009477551970418219, -0.013006872472920428, 0.00699298512276858, 0.0011341719788919846, 0.018337777846821446, -0.003259937879014352, 0.0035842211117866896, -0.013140027317099623, -0.003712664349223793, -0.017081410704798294, 0.004542935989875652, -0.0034729856297017747, -0.0009430435903006185, -0.007387738048564074, -0.010929656903726936, 0.01120067819882653, 0.012186024045750976, 0.017512217812912567, -0.012554146002710986, 0.022225899296850038, -0.013459598943128093, 0.0034244352987720106, -0.0005702100265985166, 0.013703989269391315, -0.009092120054056352, -0.008479607770832231, -0.0003571622759128701, -0.011755216937637591, 0.0066201515590673665, -0.004937688915671146, -0.012713931815726554, -0.00616271348211761, -0.014684623509574557, -0.006402392201640517, 0.015514895150226415, 0.007419080624142538, 0.005341865054949935, 0.0048891385847413815, 0.007419080624142538, -0.004698010196149127, -0.0019283894372250643, 0.008910414878947392, 0.0042233643638454055, -0.010183989776325397, -0.014391682852381571, -0.008612762615012315, 0.014929013835838667, -0.003552878536209114, 0.01743232490640434, 0.001746684262116105, 0.00888378391011102, -0.0027273185023002355, -0.00515073666635768, -0.007254583204386655, -0.00427191469477517, -0.003792557255732021, 0.0109609994793054, 0.0065136276837254314, -0.009997572994473458, -0.0032333069101797562, 0.005235341179606223, -0.012181312439009773, 0.004889138584740493, 0.0013205887607421474, 0.02209274445267173, 0.005874484431664939, -0.013219920223605186, 0.011147416261155563, -0.006908380609519149, 0.023903650333506832, 0.004036947581995243, 0.0003352429138203661, -0.004405069538954365, -0.013752539600321967, -0.0033398307855216913, 0.013570834425213008, -0.0023278539697617617, -0.0034996165985372585, 0.004303257270352745, 0.0024923513895194205, -0.01377917056915745, 0.006992985122767692, -0.002434377845105473, -0.005363784417043327, -0.007946988394117227, 0.0060609012135177665, 0.0074457115929780215, 0.0035309591741139457, 0.013011584079661631, 0.011493618856020404, -0.01388569444450205, 0.00417010242617355, 0.010055546538887405, 0.006034270244680506, 0.00832453356456142, 0.008937045847782876, -0.00581651088725188, -0.012367729220860824, -0.003739295318059277, -0.006908380609520037, -0.00866602455268417, -0.01463136157190359, 0.019296492724912184, 0.012612119547124045, 0.03234566745445555, -0.013805801537993823, 0.010135439445393857, -0.0036594024115519375, 9.556419429657126e-05, -0.0096780013684441, 0.00443641211453194, 0.0028918159220552297, -0.004831165040326546, -3.759064988351213e-05, -0.011755216937637591, 0.0015070055425931983, -0.0013158771540018321, 0.016393717121808926, -0.017587399112677815, 0.0134376795810347, -0.015403659668142389, -0.0016887107177030458, 0.00020208806963939452, 0.011307202074170242, 0.0083777955022315, 0.016686657779001912, 0.0108544756039608, -0.006908380609520037, -0.01242099115853268, 0.008990307785453844, -0.0050974747286849365, -0.022301080596614398, 0.012026238232735409, -0.005070843759850341, -0.011994895657158722, -0.008745917459190622, 0.009416403286827801, -0.007733940643429804, 0.005261972148441707, -0.0048045340714919504, 0.019962266945806384, 0.013038215048497115, 0.010215332351902084, -0.01122259756092081, -0.010556823340025723, -0.006881749640683665, 0.007578866437157217, 0.010641427853275154, 0.0066467825279037385, 0.008750629065932714, -0.0036327714427164537, 0.004463043083368312, -0.00011748355639085162, -0.012234574376681628, 0.004196733395009922, -0.0004370551824202096, -0.03468448110526534, -1.0959681046252001e-05, -0.01353949184963632, 0.008297902595723272, 0.008244640658052305, -0.006748594796505358, 0.022012851546163503, -0.002780580439971203, 0.004995662460084205, 0.0038771617689805637, 0.008484319377575211, 0.00486250761590501, 0.005581543774471953, 0.0063272109018743805, -0.013353075067784381, -0.01010409686981717, 0.0024390894518466766, 0.0037440069248013685, 0.017219277155718693, 0.03370384686508121, -0.00038379324474835386, 0.005741329587486632, 0.014449656396793742, 0.0031314946415772482, -0.006482285108147856, 0.008404426471066984, -0.027068024018222836, 0.00614079412002333, -0.0049376889156702575, 0.0021461487946536906, -1.095968104714018e-05, 0.011999607263900813, 0.010481642040260475, -0.01702814876712644, -0.0009963055279733624, 0.0074457115929780215, 0.005448388930292758, -0.003552878536209114, -0.010157358807489025, 0.012372440827602915, 0.0047559837405630745, 0.003664114018294029, 0.008937045847781988, 0.009363141349156834, -0.010476930433518383, 0.004755983740562186, 0.004915769553576865, 0.007392449655306166, -0.004405069538954365, -0.009624739430772244, -0.011062811747906132, -0.020676591497631236, -0.013033503441755023, 0.006247317995367041, -0.005496939261222522, 0.008590843252918035, -0.015270504823964082, 0.020068790821149207, -0.019771138557215018, 0.014156715739599868, -0.0020881752502397433, 0.009656082006350708, 0.009549558131006997, -0.01918525724282727, -0.007121428360206572, 0.017725265563599102, -0.008772548428026106, 0.0012140648854011005, -0.003899081131073956, 0.00675330640324745, 0.022625363829387624, -0.02054343665345293, -0.006695332858832614, 0.017964944283120232, -0.00360614047388097, 0.006380472839547124, 0.004143471457338066, -0.007148059329042056, 0.016074145495779568, -0.01385906347566479, 0.02395691227117691, 0.004702721802891219, 0.0007080764775206916, -0.012607407940381954, 0.016207300339956987, -0.00871928649035425, 0.004995662460084205, -0.0010761984344789255, -0.006695332858834391, 0.009203355536141267, 0.002412458483012081, 0.0060342702446813945, 0.004249995332682666, -0.005656725074238089, 0.011094154323483707, 0.006753306403248338, 0.006806568340919306, -0.007281214173221251, -0.0060828205756102705, -0.0034463546608654028, 0.009256617473813122, 0.0037173759559649966, -0.007893726456445371, 0.0022260417011592537, 0.002359196545339337, 0.012399071796439287, -0.007440999986236818, 0.0014537436049222308, 0.01178655951321339, -0.011595431124622912, 0.022518839954043024, -0.0057366179807445405, 0.010401749133752247, -0.009518215555429421, 0.007312556748798826, 0.006593520590232771, 0.014902382867003183, -0.005124105697521308, 6.893322546108749e-05, -0.009145381991728208, 0.02001552888347824, -0.017747184925693382, 0.00222604170116103, -0.0036860333803883094, -0.01353949184963632, -0.003419723692030807, 0.012106131139244525, -0.006988273516027377, 0.007552235468322621, -0.008719286490355138, 0.012798536328974208, -0.013432967974292609, 0.002732030109041439, 0.002865184953220634, 0.0024390894518475648, -0.0016088178111957063, 0.001746684262116105, -0.0070415354536992325, -0.002434377845103697, 0.014050191864257044, -0.0028072114088057987, -0.0018751274995532086, -0.010982918841398792, -0.009065489085220868, 0.003211387548085476, 0.004942400522412349, 0.0051288173042634, -0.009917680087967007, 0.01325126279918365, 0.016633395841330945, 0.013011584079661631, -0.003899081131073956, -0.005630094105401717, -0.0013158771540018321, -0.008426345833161264, 0.0031048636727417644, 0.02259873286055214, 0.00896367681661836, -0.027467488550762198, 0.002359196545339337, 0.0028918159220552297, -0.004005605006417667, -0.0037925572557311327, 0.007818545156680123, 0.0026521372025340995, -0.005390415385879699, 0.008297902595723272, 0.003983685644322499, -0.0020615442814042595, 0.005634805712143809, -0.0031800449725079005, -0.015163980948619482, 0.002998339797398053, 0.0008146003528626267, 0.028111343409563894, 0.002012993950473607, 0.01897692109888105, -0.0026474255957911197, 0.010215332351901196, -0.005896403793760108, -0.0009430435902997303, -0.0038458191934021, 0.011999607263900813, 0.012612119547124045, -0.002114806219075227, -0.006988273516028265, 0.009522927162170625, -0.003446354660866291, 0.0032646494857564434, -0.0046447482584772715, 0.00536849602378453, -0.021289103780855356, 0.006247317995366153, -0.011808478875308559, -0.02680171432986711, 0.010641427853274266, -0.013992218319843097, 0.01213276210807912, -0.009198643929399175, 0.0037173759559658848, 0.005182079241935256, -0.012900348597575828, -0.005949665731431963, 0.003557590142951206, -0.005017581822177597, -0.00712142836020746, -0.0005702100265994048, 0.0020928868569809467, 0.022359054141029233, -0.010929656903726048, -0.008905703272206189, -0.006695332858833503, -0.0026740565646257153, 0.024809103273922162, 0.0013472197295794075, 0.014023560895422449, 0.001773315230953365, 0.0053684960237854185, 0.006913092216263017, -0.008213298082475617, 0.009949022663544582, 0.0005216596956696407, -0.012261205345517112, 0.00222604170116103, 0.013464310549870184, 0.01000228460121555, -0.021741830251062133, 0.0012939577919075518, -0.006402392201639628, -0.005816510887252768, 0.00795170000085843, 0.021586756044790434, 0.006726675434411966, 0.0006814455086843196, 0.0008146003528617385, -0.008958965209878045, -0.011116073685576211, 0.013198000861511794, -0.0068817496406845535, 0.017405693937568856, -0.0007566268084504557, -0.005896403793760108, 0.020894350855059862, -0.020330388902765506, -0.026215833015478474, -0.004831165040328322, 0.0066467825279037385, 0.00038850485148955727, -0.001928389437224176, 0.026300437528727016, 0.005421757961457274, -0.009997572994474346, 0.007019616091604952, 0.013304524736856393, -0.006242606388625838, 0.02179980379547608, -0.01806675655172274, -0.005310522479372359, 0.008564212284081663, 0.006114163151188734, 0.009949022663544582, 0.010028915570051034, -0.005869772824924624, -0.01670857714109708, -0.014098742195186809, -0.008532869708504087, -0.010317144620504592, -0.0003571622759119819, -0.013539491849635432, -0.004618117289641788, -0.010583454308861207, 0.003051601735071685, -0.00198165137489692, 0.004622828896383879, 0.00821800968921682, 0.004729352771725814, 0.004649459865218475, -0.002461008813940957, 0.001879839106294412, -0.019291781118169204, 0.005554912805635581, 0.0008146003528626267, -0.0005702100265985166, -0.024804391667181847, -0.014764516416082785, 0.004276626301518149, 0.007365818686470682, 0.0016135294179369097, -0.00650891607698334, 0.0016934223244451374, 0.008644105190589002, 0.0018265771686234444, -0.006961642547191893, 6.893322545931113e-05, 0.005661436680980181, -0.0033930927231944352, 0.012771905360138724, 0.0007613384151907709, -0.017108041673633778, 0.005448388930292758, -0.011781847906472187, -0.01548355257464884, -0.0009963055279733624, -0.003446354660866291, 0.005688067649816553, 0.004889138584740493, -0.0005702100265994048, 0.0011341719788919846, -0.003100152065999673, 0.005767960556322116, 0.02502215102460781, 0.009576189099843369, 0.005874484431665827, 0.016686657779001912, -0.001475662967015623, 0.00864410519058989, 0.003797268862472336, -0.00778720258110166, -0.002114806219075227, -0.0009963055279724742, 0.01128057110533387, -0.012261205345518, -0.00195502040605966, -0.008239929051310213, -0.0007566268084504557, -0.010397037527010156, -0.016042802920201993, 0.005581543774471953, -0.0096780013684441, 0.01221265501458646, 0.004170102426172662, 0.0014004816672494869, 0.010108808476559261, -0.005869772824924624, -0.010237251713996365, 0.008644105190590778, 0.008697367128260858, 0.0003618738826540735, 0.004143471457338954, 0.020814457948552523, 0.0181247300961358, 0.00020208806963939452, 0.015674680963241983, -0.020996163123661482, -0.01284708665990486, -0.0070681664225356045, -0.0009430435903006185, -0.006988273516028265, 0.0017200532932806212, -0.00712142836020746, 0.01024196332073668, -0.0104502994646829, 0.004303257270352745, -0.01002420396330983, 0.013357786674527361, -0.011755216937636703, 0.00803159290736577, 0.01112078529231919, -0.006056189606775675, -0.0018751274995540967, -0.018972209492140735, 0.0027586610778769227, 0.005102186335427916, 0.002838553984384262, -0.004085497912925007, -0.0005702100265994048, 0.009789236850528127, 0.017778527501270958, 0.004942400522412349, 0.0008412313216981104, -0.013140027317098735, 0.011413725949513953, -0.0015289249046883668, -0.002727318502298459, 0.00044176678916230117, 0.0004151358203259292, -0.00033053130707649814, 0.012079500170408153, 0.006247317995367041, -0.003366461754357175, -0.013379706036620753, 0.0036641140182949172, -0.003419723692029919, 0.0019863629816381234, -0.007254583204385767, 0.012771905360139613, -0.006295868326296805, -0.004138759850596863, -0.0062159754197885775, -0.007733940643429804, 0.015461633212556336, -0.0012892461851663484, 0.000281980976146734, 0.0007613384151907709, -0.007227952235549395, 0.013677358300556719, -0.013113396348263251, 0.0047826147093994464, -0.00230122300092539, -0.0003571622759128701, 0.013624096362884863, 0.011067523354647335, 0.016313824215301587, 0.012399071796438399, -0.0008897816526278746, 0.00933651038032135, -0.0026474255957911197, -0.0006501029331067443, -0.00392571209990944, 0.0007613384151907709, 0.003557590142951206, -0.007174690297879316, -0.006562178014655196, -0.005843141856088252, -0.006961642547191005, 0.011253940136497498, -0.009917680087966119, 0.011413725949513953, -0.013113396348262363, -0.013859063475665678, 0.020548148260194132, -0.006056189606775675, -0.025496796856912418, 0.01197297629506533, -0.021848354126406733, -0.0020082823437315156, 0.004782614709398558, -0.011781847906473075, 0.008084854845036737, -0.005630094105401717, -0.005976296700266559, -0.013965587351008502, -0.011701954999964848, 0.0008146003528617385, -0.0038191882245675046, 0.004383150176860973, 0.013171369892677198, -0.004005605006417667, 0.001613529417937798, 0.01034848719608128, 9.556419429657126e-05, 0.016047514526942308, -0.003286568847850724, 0.0045961979275483955, 0.01359746539404938, -0.006136082513282126, 0.00020208806963939452, 0.013970298957750593, -0.005576832167731638, 0.009016938754290216, 0.0006548145398488359, -0.0021680681567461946, -0.0016354487800320783, 0.012079500170408153, -0.022141294783600607, -0.0012892461851663484, 0.013810513144736802, 0.019296492724912184, -0.008293190988982069, -0.0111160736855771, -0.009624739430773133, 0.0032113875480845877, 0.0005749216333406082, 0.003983685644323387, -0.034258385603890495, -0.006002927669102931, 0.0018265771686234444, 0.003504328205278462, 0.0027852920467124065, 0.009283248442648606, 0.010215332351902084, 0.005448388930293646, 0.00486250761590501, 4.230225662471554e-05, 0.0021461487946536906, 0.006540258652560915, 0.002092886856982723, 0.007738652250171896, -0.012500884065040019, -0.00898559617871264, -0.0030202591594932215, -0.0012892461851654602, 0.013863775082406882, -0.0036327714427164537, 0.010854475603961689, 0.008937045847782876, 0.01828451590914959, -0.00515073666635768, -0.004857796009163806, 0.008031592907364882, 0.006939723185098501, -0.015856386138350942, -0.007148059329042944, 0.012212655014587348, -0.018732530772617828, -0.008346452926653924, 0.013118107955004454, 0.019722588226283477, 0.013624096362884863, 0.013171369892674534, 0.02206611348383536, -0.0012359842474936045, 0.01165340466903686, -0.0021414371879098226, -0.017534137175006848, -0.010556823340025723, -0.0005169480889266609, -9.085258755447967e-05, -0.002274592032089906, 0.005927746369335907, 0.012771905360138724, 0.015115430617690606, 0.005128817304264288, 0.006779937372082934, 0.017485586844077083, -0.01753413717500596, -0.007600785799250609, -0.00163544878003119, -0.0021680681567461946, -0.0007033648707786, 0.005954377338174055, 0.007419080624142538, -0.007467630955072302, -0.016468898421575062, 0.008404426471066984, -0.0026740565646274916, 0.017858420407778297, -0.000836519714956907, -0.007733940643429804, -0.002807211408807575, 0.009789236850528127, 0.00219941073232377, 0.009309879411484978, 0.00992239169470821, 0.001427112636086747, -0.001821865561882241, -0.00975789427495144, 0.00385053080014508, -0.007920357425280855, 0.010721320759781605, 0.00736581868647157, -0.015883017107185537, 0.0016401603867732817, -0.0017153416865394178, -0.012128050501337917, 0.021773172826641485, -0.01042366849584564, -0.006269237357461321, 0.0011608029477274684, -0.007867095487608111, -0.018199911395902824, 0.01546163321255456, 0.0163138242153007, -0.006082820575611159, -0.01463136157190359, -0.006029558637938415, 0.0008944932593708543, -0.018945578523304363, 0.030641285448963274, -0.009571477493100389, -0.009385060711249338, 0.004622828896383879, -0.008399714864326668, 0.007206032873456003, -0.009411691680087486, -0.013779170569158339, 0.003051601735071685, -0.006136082513283014, -0.0004104242135838376, 0.005075555366591544, 0.005155448273099772, 0.0039304237066524195, -0.005017581822177597, 0.015355109337213513, -0.015323766761634161, -0.003233306910178868, -0.008932334241042561, 0.0028385539843851504, -0.00831982195781844, 0.0031048636727417644, -0.01204815759482969, -0.004964319884506629, -0.007520892892744158, -0.0007566268084495675, 0.002012993950473607, 0.009283248442648606, -0.0031800449725079005, 0.007419080624143426, -0.00994431105680249, 0.004356519208024601, -0.006349130263968661, -0.0008897816526287627, -0.006029558637939303, -0.004964319884507518, 0.006327210901873492, -0.0005169480889275491, -0.008426345833161264, 0.0011075410100565009, -0.016655315203425225, -0.0037925572557302445, -0.011568800155785652, -0.00874591745919151, 0.00041513582032504104, -0.013459598943128093, -0.0004903171200911771, -0.0033398307855216913, -0.002114806219075227, -0.014072111226352213, 0.011227309167662902, -0.02363262903840546, 0.021347077325267527, 0.0071527709357850355, 0.005208710210771628, -0.00429854566361243, 0.0031314946415781364, 4.230225662471554e-05, -0.01910536433631993, 0.002705399140205955, -3.759064988173577e-05, 0.007525604499485361, 0.001906470075131672, -0.0036327714427155655, 0.0034244352987720106, -0.006935011578355521, -0.010423668495848304, -0.005550201198896154, -0.014871040291426496, -6.42216187189959e-05, 0.001267326823072068, -0.006615439952327051, 0.005794591525159376, 0.0015602674802659422, 0.0037173759559658848, -0.002780580439970315, -0.011435645311607345, -0.004564855351969932, -0.018679268834945972, -0.001342508122837316, 0.005688067649816553, 0.000601552602176092, 0.0007347074463552872, -0.008692655521518766, -0.00419202178826783, -0.0011294603721516694, 0.015701311932077466, 0.006540258652560915, -0.008692655521519654, 0.00478261470939767, 0.0019331010439671559, 0.004116840488502582, -0.005390415385879699, 0.008617474221753518, -0.0023811159074336175, -0.0026207946269547477, 0.014769228022824876, 0.003344542392264671, -0.002168068156747971, -0.012181312439009773, -0.0005435790577630328, -6.422161871810772e-05, 0.013091476986169859, -0.010450299464682011, 0.0077919141878437514, 0.025954234933862175, -0.008506238739668603, 0.007818545156679235, -0.0015022939358502185, 0.010561534946766926, 0.001267326823072068, 0.0014803745737577145, 0.0015868984491005378, 0.017006229405033046, 0.016952967467360303, -0.016389005515066835, 0.013171369892675422, 0.006620151559068255, -0.005550201198895266, -0.0012892461851654602, -0.0027539494711357193, -0.004032235975252263, -0.0015022939358519949, 0.00701961609160584, -0.010370406558174672, -0.013353075067784381, 0.00768539031250004, 0.00922998650497675, 0.0006281835710124639, -0.008239929051310213, -0.0033664617543580633, -0.006642070921163423, 0.005155448273099772, 0.01719264618688321, -0.010130727838652653, 0.009203355536141267, -0.0062692373574622096, -0.003073521097164189, -0.01806675655172274, 0.02012205275882195, -0.01572323129417086, -1.0959681046252001e-05, -0.00975789427495144, -0.0008098887461223114, -0.001662079748867562, 0.011307202074170242, -0.005257260541700504, 0.014822489960495844, 0.02233242317219375, -0.0011294603721507812, -0.0008631506837923908, 0.004755983740562186, -0.0004903171200911771, -0.014205266070531408, -0.003446354660866291, 0.007046247060440436, -0.008319821957817553, 0.010641427853275154, -0.007361107079729479, 0.01223928598342372, 0.0002287190384748783, -0.005763248949581801, 0.004383150176860973, -0.0067485947965062465, -0.006908380609520037, 0.010295225258410312, 0.01729917006222692, -0.0008098887461205351, -0.012820455691069377, 0.008750629065932714, 0.014502918334465598, 0.00949629619333514, 0.0006015526021769801, 0.0050222934289196886, 0.00864410519058989, 0.0019331010439671559, -0.01260740794038373, 0.004995662460085093, 0.010295225258408536, -0.002114806219075227, 0.00020208806963850634, 0.006087532182352362, -0.0033131998166862076, 0.017245908124554177, 0.003184756579249992, 0.003797268862472336, -0.0025409017204474083, -0.0011294603721507812, 0.0023325655765038533, 0.014529549303302858, 0.02206611348383536, -0.007733940643429804, 0.0072859257799633426, -0.0013158771540018321, 0.0037440069248013685, 0.01386377508240777, -0.010796502059546853, 0.018098099127301204, -0.001795234593045869, -0.01668194617225982, 0.0037440069248013685, -0.01010409686981717, 0.005714698618651148, 0.019349754662583152, 0.007392449655307054, 0.013144738923839938, 0.00614079412002333, -0.00933179877357837, -0.0005702100265985166, -1.0959681046252001e-05, 0.009203355536141267, -0.001528924904689255, 0.005581543774471953, 0.006886461247426645, -0.004831165040327434, 0.0006015526021752038, 0.006966354153933096, -0.008532869708504087, -0.011222597560922587, 0.011759928544378795, 0.0014537436049222308, -0.001182722309822637, -0.005523570230058006, -0.0004636861512565815, -0.01899884046097533, 0.015541526119062787, 0.0002287190384739901, 0.0041967333950090335, -0.006801856734176326, -0.0038458191934021, 0.00768539031250004, -0.007760571612265288, 0.013357786674527361, 0.0014004816672512632, -0.009651370399607728, -0.011036180779070648, -0.0006234719642712605, -0.004325176632448802, -0.006136082513282126, -0.0015821868423593344, 0.006433734777217204, 0.019616064350941542, -0.0021680681567470828, 0.020761196010880667, -0.0036594024115519375, 0.01974921919511985, -0.0003039003382401262, 0.015914359682763113, -0.03303336103744492, 0.014875751898166811, 0.004489674052203796, -0.0014224010293455436, -0.0028604733464785426, 0.004835876647068638, -0.014338420914709715, 0.00768539031250004, -0.006002927669102931, -0.008772548428026106, -0.007307845142057623, -0.0012892461851654602, 0.002998339797398941, 0.00020208806963850634, -0.008586131646175943, 0.004729352771725814, 0.021613387013625918, 0.010348487196080391, -0.008532869708504087, -0.0057898799184172844, 0.0010276481035491614, -0.0064556541393132605, 0.0014271126360876352, 0.0071527709357850355, 0.00046839775799778494, 0.009762605881693531, -0.0004370551824202096, -0.0029137352841503983, -0.0017419726553749015, -0.005257260541700504, -0.00592303476259648, -0.00933179877357837, -0.00038379324474835386, 0.008138116782709481, -0.001182722309822637, -0.011888371781815898, 0.0016934223244442492, -0.0008631506837915026, 0.015248585461868913, -0.002461008813940957, 0.0035575901429503176, -0.014418313821217943, 0.003983685644322499, 0.003823899831308708, -0.008160036144802874, -0.004671379227312755, 0.014556180272138342, 0.005741329587486632, 0.009309879411484978, 0.008777260034768197, -0.002114806219074339, -0.008186667113638357, 0.004862507615904121, 0.0010542790723855333, -0.0014224010293437672, -0.01037040655817556, -0.012021526625994206, -0.01489767126026198, -0.015137349979784887, 0.012718643422467757, 0.002865184953220634, 0.001240695854235696, -0.002780580439970315, -0.001182722309822637, -0.000543579057763921, 0.005448388930292758, -0.004218652757103314, 0.009123462629633927, 0.00989576072587095, 0.00736581868647157, 0.001746684262116105, 0.004489674052204684, -0.016655315203426113, 0.017086122311539498, 0.013890406051242365, 0.004143471457338066, 0.004303257270352745, 0.013703989269392203, -0.009491584586593937, 0.0015336365114295702, 0.0018798391062953002, 0.004303257270353633, 0.005395126992620902, -0.011755216937636703, -0.00839971486432578, -0.0014224010293446554, 0.009336510380320462, -0.010743240121875886, -0.004990950853342113, 0.0010010171347127894, -0.003233306910178868, -0.000543579057763921, -0.007494261923908674, -0.0022479610632544222, -0.0028871043153140263, -0.0019550204060623244, -0.0028604733464785426, 0.0008146003528626267, -0.0038724501622393603, -0.00975789427495144, -0.0135927537873064, 0.014343132521452695, 0.008138116782709481, 0.01255885760945219, 0.02206611348383536, -0.00829319098898118, 0.00744571159297891, 0.006460365746053576, 0.0014271126360876352, 0.017245908124555065, -0.009464953617758454, -0.01660205326575248, -0.012740562784560261, 0.01580783580742029, -0.009784525243787812, -0.01814664945822919, -0.018359697208915726, -0.003739295318060165, 0.0027852920467124065, -0.005363784417043327, -0.0038458191934021, 0.011733297575543311, -0.0035262475673727423, 0.014156715739600756, -0.0022479610632544222, 0.0018532081374589282, 0.0008146003528626267, -0.0026207946269547477, 0.008564212284081663, 0.010268594289574828, -3.759064988351213e-05, 6.893322546108749e-05, 0.0017999461997879607, 0.01293169117315518, -0.011142704654413471, -0.0003039003382401262, -0.0039523430687467, -0.014018849288681245, 0.008963676816619248, 0.010881106572797172, -0.008186667113639245, -0.024937546511358377, -0.001022936496807958, -0.0017686036242103853, 0.012612119547124045, -0.007946988394117227, 0.004063578550832503, 0.017485586844077083, 0.011999607263901702, -0.0014490319981801392, 0.004596197927547507, 0.006486996714888171, 0.014396394459122774, -0.010050834932145314, 0.009522927162170625, -0.0115954311246238, 0.006593520590231883, -0.0022479610632544222, 0.006486996714889948, 0.0021461487946536906, -0.0057366179807445405, -0.0017153416865394178, -0.00198165137489692, 0.00129395779190844, 0.01418334670843624, -0.004218652757103314, 0.016020883558107712, 0.016207300339958763, 0.008937045847782876, -0.002461008813940957, 0.004755983740562186, -0.009278536835906515, -0.013992218319843985, 0.00417010242617355, 0.031946202921917966, 0.006753306403248338, -0.0008631506837915026, -0.0002772693694055306, -0.009145381991728208, -0.0003571622759128701, -0.0018484965307168366, 0.017858420407778297, 0.010721320759782493, 0.00536849602378453, 0.012825167297809692, 0.0019064700751298957, 0.0002553500073094739, 0.019110075943060245, 0.004356519208024601, -0.010343775589340076, -0.010077465900981686, 0.0061674250888597015, 0.0018798391062961883, 0.008590843252918035, 0.016660026810167317, 0.00606090121351599, 0.010588165915604186, -0.010636716246533062, 0.0023325655765038533, -0.0008098887461223114, -0.010743240121875886, 0.010481642040260475, 0.022438947047535684, 0.009016938754290216, -0.006455654139312372, -0.009917680087966119, -0.0025142707516128127, 0.005581543774471953, -0.0043518076012842855, -0.004378438570118881, -0.006429023170476, -0.0002772693694055306, 0.0008146003528626267, 0.007498973530649877, -0.014178635101694148, 0.004702721802889442, 0.01000228460121555, -0.0026474255957902315, -0.011515538218114685, -0.012207943407845256, 0.01138709498067847, 0.010881106572797172, 0.002332565576502965, -0.005683356043073573, -0.000543579057763921, 0.01298495311082526, -0.0034729856297017747, -0.003739295318060165, 0.017139384249211354, -0.003446354660866291, -0.0027273185023002355, 0.0031314946415772482, 0.008697367128260858, 0.0038771617689805637, 0.010215332351902084, 0.012665381484795901, -0.009464953617757565, -0.00033053130707560996, -0.000543579057763921, 0.0021727797634891743, -0.0038458191934021, -0.0011028294033144093, -0.009704632337279584, 0.001240695854235696, 0.00014882613196842698, -0.004804534071492839, -0.0029936281906568496, 0.00451630502103928, 0.013064846017332599, 0.0031314946415772482, -0.01532376676163505, 0.0027320301090405508, -0.017827077832199834, 0.010348487196080391, -0.007893726456444483, -0.0029936281906568496, 0.0011608029477283566, -0.006455654139312372, 0.008723998097096342, -0.001928389437224176, 0.016606764872494573, -0.007334476110893107, -0.006029558637938415, -0.010610085277697578, -0.004698010196148239, 0.0061674250888597015, -0.00650891607698334, -0.01130249046742815, 0.005634805712142921, 0.001373850698414003, -0.002434377845104585, 0.007365818686470682, -0.023472843225390783, 0.0025988752648613556, 0.0007080764775206916, -0.0016887107177030458, -1.095968104714018e-05, 0.01463607317864657, -0.0025409017204491846, 0.016207300339957875, -0.004831165040327434, 0.005634805712143809, 0.0026521372025340995, 0.01274527439130324, 0.013384417643361957, 0.007791914187842863, -0.009438322648922082, 0.013277893768020022, -0.0062692373574622096, 0.01077458269745346, -0.003978974037581295, -0.00033053130707560996, -0.011675324031128476, -0.00030390033824101437, -0.01191500275065227, -0.019131995305155414, 0.0024124584830103046, 0.009522927162170625, 0.002705399140205067, -0.00163544878003119, -0.019637983713034046, -0.005230629572865908, -0.0031800449725070123, 0.016367086152971666, 0.005075555366591544, 0.008244640658051416, 0.012638750515960417, 0.004995662460083317, -0.0012093532786581207, 0.022625363829387624, -0.011249228529756294, 0.004036947581995243, -0.008186667113638357, 0.007632128374828184, -0.008932334241041673, 0.012585488578288562, -0.004458331476627109, 0.012265916952258316, 0.008910414878946504, 0.008697367128260858, 0.005688067649814776, 0.010641427853275154, 0.006753306403248338, -0.0194249359623484, 0.005927746369337683, -0.00421865275710509, -0.01636237454623135, 0.011040892385811851, -0.00549693926122341, -0.0010761984344789255, -0.010210620745159993, 0.013703989269392203, 0.002518982358354016, -0.0010495674656434417, -0.009225274898235547, -0.008932334241041673, -0.003126783034836933, 0.0029450778597270855, -0.0039523430687467, 0.009416403286827801, 0.016819812623181107, 0.0008146003528626267, -0.015190611917455854, -0.003100152065999673, 0.009443034255662397, 0.0053684960237854185, -0.016894993922947243, -0.0020349133125678875, 0.0015070055425940865, -0.005709987011909057, 0.014982275773511411, 0.0040902095196670984, 0.008031592907364882, -0.015829755169515458, 0.003184756579249992, 0.01325126279918365, -0.011249228529757183, 0.0014004816672494869, 0.0037972688624732243, 0.01255885760945219, 0.018018206220792976, 0.007126139966947775, 0.013544203456376636, -0.009837787181459667, -0.008213298082475617, -0.021022794092496966, 0.01000228460121555, 0.014449656396795518, -0.0022479610632544222, -0.008532869708504975, 0.007845176125514719, -0.006642070921162535, -0.003978974037582184, -0.007787202581100772, -0.008053512269460938, 0.0017200532932806212, -0.006908380609520037, 0.00385053080014508, 0.0008412313216981104, -0.01958472177536308, 0.015621419025569239, 0.014130084770765272, 0.013198000861511794, 0.008777260034769085, -0.0012892461851654602, 0.0023591965453402253, 0.002012993950473607, -0.0032333069101797562, 0.006087532182352362, 0.008324533564559644, 0.026886318843115653, -0.016042802920201993, 0.007206032873456891, 0.004915769553575977, 0.005261972148442595, 0.0053152340861126746, -0.0028338423776421706, -0.0009164126214642465, -0.0011028294033144093, 0.002092886856982723, 0.004143471457338066, 0.001240695854235696, -0.0015821868423602226, 0.004915769553575977, 0.01413008477076616, 0.02020194566532929, -1.0959681046252001e-05, -0.005976296700266559, 0.013544203456378412, 0.002066255888145463, 0.00861747422175263, -0.010237251713995477, -0.00019737646289730293, 0.001746684262116105, 0.0032646494857564434, -0.00959810846193676, -0.020543436653451153, -0.006109451544445754, 0.010108808476559261, 0.012372440827602027, -0.003286568847851612, -0.007654047736923353, -0.009651370399608616, -0.0022213300944189385, -0.007654047736924241, -0.01010409686981717, -0.0018484965307177248, -0.016655315203426113, -0.001342508122837316, -0.0008098887461214233, -0.0016887107177021576, -0.015403659668142389, -0.008373083895489408, 0.0017999461997879607, -0.01718793458014023, 0.011253940136498386, -0.005630094105401717, 0.0027852920467124065, 0.0007347074463552872, -0.006615439952326163, 0.006833199309755678, -0.00557683216773075, -0.02107605603016882, 0.01788505137661467, -0.016309112608559495, -0.010290513651667332, 0.006513627683724543, -0.011142704654413471, 0.0004950287268332687, 0.004329888239188229, -0.010157358807489025, 0.005874484431664939, -0.006615439952326163, 0.009869129757036355, 0.00709950899811318, 0.013224631830347278, 0.018151361064971283, -0.00033053130707649814, -0.011009549810235164, 0.026912949811952025, 0.009682712975185304, -0.00038379324474835386, 0.011999607263900813, 0.009070200691962071, -0.0033131998166862076, -0.003792557255732021, -0.007014904484864637, 0.001586898449101426, -0.004964319884505741, -0.0020082823437324038, -0.002194699125584343, -0.01566996935650078, -0.01130249046742815, 0.018630718504016208, 0.0006814455086852078, -0.007733940643429804, -0.015856386138350942, 0.008351164533395128, -0.007574154830415125, -0.01865263786611049, 0.0045695669587120236, -0.005496939261221634, -0.012500884065040019, -0.010050834932145314, -0.013646015724978255, -0.0038458191934029884, -0.013033503441755023, -0.015403659668143277, -0.02019723405858631, -0.0017419726553740134, 0.006593520590231883, 0.009789236850528127, 0.006087532182352362, -0.020942901185989626, 0.006673413496739222, -0.004484962445461704, 0.017059491342702238, -0.0034996165985363703, -0.017001517798290067, -0.003925712099910328, 0.008670736159425374, -0.019398304993512916, -0.010556823340025723, -0.00163544878003119, -0.013486229911963576, -0.008000250331789083, 0.018923659161210082, -0.009012227147548124, -0.007520892892744158, 0.006007639275844134, -0.0046447482584772715, -0.002141437187910711, 0.002092886856982723, 0.00779191418784464, 0.00664678252790285, -0.01756076814384233, -0.0033398307855216913, -0.016788470047603532, 0.013810513144735914, 0.004995662460084205, 0.018204623002644027, 0.011307202074169354, -0.0009430435902997303, -0.006295868326297693, 0.003184756579249104, -0.007574154830415125, -0.01130249046742815, 0.003850530800144192, 0.006620151559069143, 0.0015336365114295702, -0.0037925572557311327, 0.016207300339957875, 0.0017999461997870725, 0.009203355536141267, 0.00845768840873884, -0.014471575758888022, 0.0011608029477274684, 0.0026521372025332113, 0.006433734777217204, 0.010028915570051922, 0.0006814455086843196, 0.009283248442648606, 0.023663971613983925, -0.010796502059547741, -0.011222597560921699, 0.002998339797398053, -0.00427191469477517, -0.007281214173222139, 0.00744571159297891, -0.01327318216127793, -0.005869772824924624, -0.0028072114088057987, -0.016841731985275388, -0.010849763997220485, 0.007871807094351091, 0.0006548145398488359, -0.014178635101695036, 0.008723998097096342, -0.00038379324474835386, -0.0025409017204474083, 0.013384417643361957, -0.007867095487609, -0.008000250331788195, -0.021582044438048342, 0.005794591525158488, 0.003397804329936527, 0.008084854845038514, -0.0004903171200911771, 0.016686657779001912, 0.0018265771686234444, 0.01194634532622807, -0.014391682852380683, 0.014715966085152132, 0.007978330969694802, -0.0033131998166862076, 0.001373850698414003, -0.02027712696509365, -0.018546113990766777, 0.013118107955004454, -0.008133405175966502, -0.0018751274995540967, -0.008666024552682394, -0.0015289249046883668, -0.0023811159074345056, -0.008852441334534333, 0.00038850485148955727, 0.00821800968921682, -0.002780580439970315, 0.009549558131006997, 0.004889138584740493, -0.0032066759413442725, 0.01101426141697548, 0.009629451037513448, 0.008297902595723272, 0.004596197927547507, -0.012101419532501545, 0.0036907449871286246, -0.019957555339064292, 0.004116840488502582, -0.00515073666635768, 0.008271271626887788, 0.01061479688443967, 0.01197297629506533, 0.009016938754290216, -0.0029936281906568496, 0.012825167297809692, 0.01109415432348193, -0.015510183543485212, -0.015057457073277547, -0.005896403793760108, -0.004911057946834774, -0.011009549810235164, -0.00038379324474835386, 0.004463043083368312, -0.009358429742412966, 0.009895760725872726, -0.02893219183673068, -0.005177367635193164, -0.007920357425281743, -0.005257260541700504, 0.0011874339165647285, 0.0064869967148890595, -0.0019283894372250643, -0.0049376889156702575, 0.019695957257447994, 0.01066805882210975, 0.004010316613159759, 0.010082177507723777, -0.009038858116385384, 0.0008146003528617385, 0.018710611410523548, 0.010960999479303624, 0.013650727331721235, -0.018998840460977107, -0.017001517798290955, 0.022891673517745126, -0.0011028294033144093, -0.00855950067734046, -0.014072111226351325, 0.011919714357393474, 0.010162070414230229, 0.01189308338855799, 0.0029983397973998294, -0.006082820575611159, 0.0005216596956687525, 0.008058223876201254, 0.002732030109041439, -0.00043705518242109775, 0.01032185622724402, 0.006859830278590273, 0.00315812561041362, 0.027765140814696387, 0.020388362447178565, 0.016047514526942308, 0.005075555366591544, -0.017986863645214513, 0.0001221951631329432, 0.004702721802890331, -0.009038858116384496, -0.008559500677339571, -0.010317144620503704, 0.011972976295064441, 0.006859830278590273, 0.013703989269392203, 0.011333833043005725, -0.010556823340025723, 0.0012406958542365842, 0.012212655014587348, -0.013006872472920428, -0.0017686036242103853, -0.02182172315757125, 0.0013205887607430356, -0.003446354660866291, 0.013624096362884863, 0.00012219516313116685, 0.0025722442960249836, 0.012186024045750976, -0.010903025934891453, 0.002012993950473607, -0.009012227147549012, 0.0019863629816390116, 0.01719264618688321, -0.012420991158531791, 0.009203355536141267, -0.005843141856088252, 0.0031581256104145083, 0.013144738923840826, 0.021613387013626806, 0.002412458483011193, 0.011333833043005725, -0.006801856734178102, -0.006002927669102043, 0.003637483049457657, -0.009571477493100389, 0.009363141349155946, 0.00582122249399486, -0.0012892461851654602, -0.006349130263969549, 0.006566889621396399, 0.005341865054949935, 0.011573511762526856, 0.01599425258927134, -0.014764516416082785, -0.009065489085219092, 0.011680035637871455, 0.011413725949513065, -0.010876394966055969, 0.00038850485149044545, 0.004303257270352745, -0.0012093532786572325, -0.013140027317099623, -0.003153414003673305, 0.009016938754291104, 0.01514206158652609, 0.0038771617689805637, 0.0008146003528617385, 0.016207300339957875, 0.016393717121808926, 0.015275216430704397, -0.006242606388625838, -0.0024610088139400688, 0.017858420407778297, -0.0018484965307177248, -0.0050974747286849365, 0.00946966522449788, -0.0009696745591369904, 0.00701961609160584, 0.012132762108080897, 0.006380472839547124, -0.01918525724282727, 0.005634805712142921, -0.0002772693694064188, -0.0016887107177021576, -0.0027539494711357193, 0.002199410732324658, -0.016841731985275388, -0.010050834932145314, -0.00232785396976265, 0.02012205275882195, 0.001453743604923119, 0.006034270244679618, -0.0104502994646829, -0.005550201198895266, 0.008750629065932714, 0.0023059346076683696, 0.0013738506984148913, 0.007498973530648989, -0.01636237454623135, 0.006273948964202525, 0.0011608029477274684, 0.008484319377575211, -0.0014490319981801392, -0.005630094105400829, -0.011968264688323238, 0.013198000861511794, -0.0077073096745952085, 0.003477697236442978, 0.015355109337211736, -0.023952200664436596, 0.015355109337211736, -0.004245283725939686, 0.0005216596956696407, -0.009811156212623295, 0.012159393076915492, 0.004755983740561298, -0.014924302229098352, 0.0028119230155487784, 0.015248585461868913, -0.009118751022892724, -0.0013957700605091716, -0.00427191469477517, -0.00797361936295271, -0.003259937879014352, -0.008106774207131906, -0.005124105697521308, 0.006220687026531557, 0.0077919141878437514, 0.006513627683724543, -0.02150215153154278, 0.00315812561041362, -0.0025409017204474083, -0.015989540982530137, -0.0020349133125678875, 0.0021461487946545788, -0.017134672642468374, 0.0009743861658773056, -0.009438322648922082, 0.015861097745092145, -0.005044212791013969, -1.0959681046252001e-05, 0.00417010242617355, -0.021368996687361808, -0.010849763997220485, -0.007281214173221251, -0.01937167402467832, 0.031946202921917966, 0.011999607263900813, 4.230225662471554e-05, 0.0021727797634891743, -0.01010409686981717, -0.011968264688324126, 0.005075555366591544, -0.008293190988982069, 0.005634805712143809, 0.00038850485149044545, 0.004995662460084205, -0.003446354660866291, -0.004511593414298076, -0.015190611917454966, -0.012101419532503321, -0.0039523430687467, 0.006566889621396399, 0.017858420407778297, 0.000441766789161413, -0.005283891510535987, -0.01668194617225982, -0.0011294603721516694, 0.0003618738826549617, -0.018812423679126056, 0.004516305021041056, -0.0008897816526287627, 0.008431057439903356, -0.013140027317098735, 0.00547501989912913, -0.006642070921162535, 0.005501650867964614, 0.012984953110826147, 0.0014537436049222308, 0.016899705529689335, -0.0013957700605091716, -0.0046181172896408995, 0.015008906742346007, 0.024303114866041753, -0.007494261923908674, 0.012532226640616706, -0.0019550204060614362, -0.0011294603721507812, 0.0061674250888597015, 0.002359196545339337, -0.016468898421575062, 0.005581543774471953, -0.01572323129416997, -0.002088175250238855, 0.0042233643638454055, 0.00219941073232377, 0.01692633649852482, 0.007605497405993589, 0.003797268862472336, -0.0010761984344789255, 0.0076321283748290725, -0.012953610535247684, 0.01932312369374678, 0.007126139966947775, -0.0056034631365662335, 0.005235341179606223, -0.002833842377643059, 0.001879839106294412, -0.0018484965307177248, 0.0061940560576960735, -0.010556823340025723, -0.007654047736923353, -0.0036594024115519375, 0.009709343944022564, 0.0013738506984148913, 0.009762605881693531, -0.0009430435903006185, -0.024032093570943047, -0.004937688915669369, -0.00046368615125569335, 0.00869736712825997, 0.0011341719788919846, 0.001267326823072068, 0.002066255888146351, -0.011036180779070648, 0.004809245678234042, -0.010876394966055969, -0.019984186307899776, -0.012314467283189856, 0.01634045518413707, 6.893322545931113e-05, 0.0020662558881445747, -0.01572323129416997, 0.018364408815658706, -0.01572323129417086, -0.009571477493100389, -0.012500884065040019, 0.001746684262116105, 0.0042233643638454055, 0.0014537436049222308, -6.42216187189959e-05, -0.004005605006416779, -0.004032235975253151, -0.015297135792799565, 0.007072878029276808, 0.0029450778597270855, 0.022971566424252465, -0.013379706036620753, -0.014844409322590124, -0.0067219638276698745, 0.005315234086113563, -0.009172012960563691, 0.008484319377575211, -0.007680678705758837, -0.002274592032089906, 0.002998339797398941, -0.014045480257515841, 0.004942400522411461, 0.004036947581995243, -0.01481777835375464, -0.0070415354536992325, -0.015190611917456742, -0.014098742195186809, 0.01658013390365909, 0.007392449655306166, 0.007232663842291487, 0.005981008307008651, 0.014689335116316649, 0.004649459865218475, 0.00888378391011102, 0.002705399140205067, 0.006753306403248338, 0.0021461487946536906, 0.007072878029276808, -0.0028604733464776544, 0.0007613384151907709, -0.0023811159074327293, -0.003952343068745812, -0.007574154830415125, -0.0006234719642712605, -0.0004903171200920653, 0.0020662558881445747, 0.00020208806963939452, 0.006380472839547124, -0.0033664617543580633, -0.012154681470174289, -0.0023811159074336175, -0.019131995305154526, 0.014662704147481165, -0.002274592032090794, 0.00547501989912913, 0.00041513582032504104, -0.012181312439009773, -0.01686836295411087, -0.017986863645214513, -0.015004195135604803, 0.015940990651600373, 0.0026787681713695832, -0.0015022939358511067, -0.008239929051311101, 0.004329888239189117, 0.0011341719788919846, -0.00685511867184907, -0.004964319884506629, 0.008218009689215933, -0.004698010196150015, 0.0017999461997870725, -0.000863150683793279, 0.007871807094351091, -0.0025142707516119245, -0.0034996165985372585, 0.010561534946766926, 0.0011075410100556127, -0.001821865561882241, 0.003957054675487903, -0.0025675326892846684, -0.02214129478359972, -0.01300687247291954, -0.004564855351969044, 0.010934368510469916, -0.0028604733464776544, 0.0016934223244442492, -0.019238519180498237, 0.01026859428957394, -0.0010761984344798137, -0.004884426978000178, 0.00017545710080391075, 0.001560267480265054, 0.0040635785508307265, -0.01319328925477059, -0.0003571622759119819, -0.004245283725939686, -0.012820455691068489, -0.0016088178111957063, -0.003579509505044598, 0.00741908062414165, 0.0009211242282063381, 0.013517572487540264, 0.021000874730402685, 0.01727253909339055, 0.007339187717635198, 0.005954377338174055, -0.016761839078768048, -0.0060561896067738985, -0.007494261923908674, -0.018705899803781456, 0.005661436680980181, -0.007387738048564962, 0.00017545710080302257, 0.022438947047535684, 0.00020208806963939452, 0.0010010171347127894, -0.005203998604028648, -1.095968104714018e-05, 0.001720053293279733, 0.011014261416976368, -0.019052102398647186, -0.0003039003382401262, -0.0011294603721507812, 0.00888378391011102, -0.003419723692030807, -0.012820455691070265, -0.0007033648707768236, -0.006295868326296805, -0.009997572994473458, -0.0012626152163290882, 0.001373850698414003, -0.0008098887461214233, 0.023424292894461907, -0.008905703272206189, 0.013996929926586077, -0.0025675326892855566, -0.014178635101694148, -0.0027273185022993474, -0.0031800449725087887, 0.008590843252917146, 0.006753306403248338, 0.0015070055425940865, -1.095968104714018e-05, 0.011733297575542423, 0.010348487196080391, 0.007578866437158105, 0.0010276481035491614, -0.018626006897275893, -0.007281214173222139, 0.005341865054949935, -0.008958965209877157, 0.006114163151187846, -0.005097474728685825, 0.00012219516313205503, 0.0016667913556087655, 0.005448388930293646, -1.0959681046252001e-05, 0.0065136276837254314, -0.0018751274995532086, -0.005736617980745429, 0.00017545710080302257, 0.004249995332681777, 0.021506863138283094, -0.0012892461851663484, -0.013246551192441558, 0.007259294811126971, -0.010796502059547741, 0.005901115400500423, -0.01412537316402318, -0.0047779031026555785, 0.022119375421507215, 0.02275851867356593, -0.005869772824924624, -0.011861740812980415, -0.009598108461935873, 0.010215332351902084, -0.008852441334534333, 0.004409781145696456, -0.0010495674656434417, 0.005608174743307437, 0.0014004816672494869, 0.0042233643638454055, -0.006082820575611159, 0.006726675434411966, -0.0028604733464776544, 0.005847853462830344, -0.006029558637938415, 0.0047559837405630745, -0.006695332858833503, 0.024835734242757646, -0.004538224383134448, -0.0012892461851654602, 0.0019863629816390116, -0.017267827486648457, 0.0063272109018743805, -0.010903025934891453, -0.0031800449725079005, -0.0005169480889266609, 0.002385827514175709, 0.0001754571008021344, 0.001080910041221017, -0.01122259756092081, 0.01197297629506533, 0.0029184468908907135, -0.00650891607698334, -0.013566122818470916, 0.012026238232736297, -0.005070843759850341, 0.005741329587486632, -0.005496939261222522, 0.00038850485149044545, -0.017108041673633778, 0.005421757961457274, -0.009225274898235547, 0.012319178889929283, -0.0007566268084513439, 0.005155448273099772, 0.016766550685508363, -0.014018849288680357, -0.016575422296916997, 0.007339187717635198, 0.007791914187842863, 0.001533636511428682, 0.003051601735071685, 0.010774582697454349, -0.011888371781815898, -0.008266560020145697, -0.01266066987805381, -0.007440999986236818, -0.022620652222644644, -0.007654047736924241, 0.005155448273098884, 0.0061940560576960735, -0.016894993922947243, 0.008830521972440941, 0.007126139966948664, 0.012532226640616706, 0.0005216596956687525, 0.0014271126360858588, 0.007871807094351979, -0.015883017107186426, -0.012767193753397521, -0.0015289249046883668, -0.000543579057763921, -0.004644748258476383, -0.0018484965307177248, 0.0015070055425931983, -0.0036327714427155655, -0.00011748355639085162, -0.0025675326892846684, -0.006402392201640517, 0.0007347074463561754, 0.0009743861658773056, 0.011759928544378795, -0.0007299958396140838, -0.010397037527011044, -0.007148059329043832, 0.00845768840873884, 0.010321856227245796, 0.009336510380320462, -0.006642070921162535, 0.005448388930292758, -0.021289103780855356, 0.0052087102107707395, 0.005794591525158488, -0.0009430435903006185, -0.012420991158531791, -0.019904293401392437, -0.020064079214408892, -0.006029558637939303, 0.01034848719608128, 0.008058223876200366, -0.007840464518773516, 0.0030782327039062807, -0.004058866944088635, 0.012319178889930171, -0.00030390033824101437, 0.0012939577919075518, -0.002620794626955636, -0.014657992540739073, 0.0009743861658764175, 0.004809245678234042, -0.009278536835907403, -0.007307845142057623, -0.0047779031026555785, -0.01910536433631993, 0.010215332351902084, -0.011861740812980415, 0.01298495311082526, -0.0011294603721516694, 0.004969031491247833, 0.004676090834053959, -0.013326444098948897, 0.002865184953219746, -0.00592303476259648, 0.003557590142951206, -0.0027539494711357193, 0.00614079412002333, -0.01694825586061821, -0.01010409686981717, -0.0027006875334638636, -0.006242606388624949, -0.018439590115423954, -0.005709987011909057, -0.002461008813940957, -0.010130727838653542, -0.022913592879838518, -0.004058866944089523, 0.004755983740562186, 0.01719264618688321, 0.02179980379547697, -0.0008897816526287627, -0.014578099634232622, 0.013996929926586077, 0.011387094980677581, 0.021267184418761076, -0.005203998604028648, 0.0008412313216981104, 0.004995662460084205, -0.0049376889156702575, 0.004249995332682666, -0.0020881752502397433, -0.010663347215368546, -0.0018218655618813528, -0.005709987011909057, -0.0008631506837923908, 0.004755983740562186, 0.017245908124554177, -0.012048157594830577, -0.013006872472920428, -0.011222597560919922, -0.012687300846890182, 0.005821222493993972, -0.013113396348263251, 0.0005749216333414964, 0.016420348090645298, 0.004622828896383879, 0.008084854845036737, -0.011622062093458396, -0.008932334241041673, -0.00584314185608914, -0.007547523861578753, -0.0047779031026555785, -0.0017153416865394178, 0.0030782327039062807, 0.010135439445393857, 0.022199268328013666, -0.001342508122838204, -0.0001973764628981911, 0.012905060204318808, -0.0037659262868947607, -0.011861740812979527, -0.0013158771540018321, 0.008031592907364882, 0.018177992033807655, -0.0022213300944198267, 0.01921659981840307, 9.556419429657126e-05, -0.015456921605813356, 0.0003618738826549617, 0.0051288173042634, -0.009518215555429421, -0.008612762615013203, -0.003978974037582184, -0.021342365718526324, 0.016660026810167317, 0.0048891385847413815, 0.009895760725871838, 0.020308469540672114, -0.0023811159074336175, 0.007232663842292375, 0.0018798391062953002, 0.012186024045750976, 0.0010542790723855333, -0.0005968409954357767, -0.005816510887253656, 0.014902382867003183, -0.0005435790577630328, 0.001240695854235696, -0.001182722309822637, -0.006269237357461321, -0.010237251713996365, -0.0014490319981810273, -0.004112128881761379, 0.003238018516921848, -0.003419723692030807, -0.013006872472920428, 0.011280571105334758, 0.009150093598469411, 0.0017999461997870725, 0.009176724567305783, -0.0029936281906550732, 0.003504328205278462, 0.00861747422175263, 0.008723998097095453, -0.027547381457269537, 0.009762605881693531, -0.002141437187910711, 0.020761196010880667, 0.014156715739600756, 0.008271271626887788, -0.011169335623248955, -0.0018218655618813528, -0.025656582669927097, 0.0032380185169209597, 0.006114163151187846, -0.007281214173222139, -0.006375761232805033, -0.007121428360206572, 0.02113402957458277, -0.006136082513282126, -0.007920357425281743, -0.015803124200679974, 0.0018265771686234444, -0.02504407038670209, -0.013752539600321967, -0.007467630955072302, 0.013490941518705668, 0.0025456133271895, -0.005230629572864132, -0.007760571612265288, -0.012048157594830577, -0.014258528008202376, 0.0016401603867732817, -0.02831967955350656, 0.0016135294179369097, -0.0010761984344789255, -0.0019017584683895805, -0.003952343068745812, -1.095968104714018e-05, -0.008958965209877157, -0.0007299958396140838, 0.0036108520806230615, 0.0017466842621152168, -0.002434377845103697, -0.0023278539697617617, 0.011387094980675805, 0.007259294811128747, -0.01556344548115618, 0.01221265501458646, -0.007467630955072302, -0.010024203963308942, -0.0002772693694046424, 0.019829112101628077, -0.0005169480889257727, -0.0038458191934021, 0.009389772317992318, 0.009842498788199983, 0.005315234086114451, 0.010375118164916763, -0.011036180779070648, 0.013251262799184538, 0.005102186335427916, 0.011946345326228958, -0.014498206727724394, -0.012420991158531791, 0.0074723425618143935, 0.009522927162171513, 0.008431057439904244, 0.008883783910111909, 0.011253940136497498, -0.01439168285238246, 0.0034244352987711224, 0.01692633649852482, 0.010295225258409424, -0.005310522479372359, -0.005337153448207843, 0.016393717121808926, -0.005843141856088252, -0.00038379324474835386, -0.01686836295411176, 0.020974243761566314, 0.01290506020431792, 0.0013472197295785193, -0.00163544878003119, 0.0025988752648613556, -0.006562178014654307, 0.00017545710080302257, -0.007254583204385767, 0.0038771617689805637, 0.009789236850529015, 0.008723998097096342, 0.006939723185098501, -0.004484962445461704, 0.0047826147093994464, 0.02086771988622349, 0.007046247060440436, 0.0012140648854002123, -0.00914538199172732, -0.009092120054056352, 0.013570834425213008, -0.005390415385879699, -0.009891049119129747, 0.0024923513895194205, 0.005155448273098884, 0.003983685644322499, 0.003557590142952094, 0.012718643422467757, 0.007072878029276808, 0.007712021281335524, 0.006087532182351474, -0.005443677323550666, -0.00232785396976265, -0.014338420914710603, -0.0027273185023002355, -0.011994895657158722, -0.013060134410591395, -0.014285158977038748, 0.0009477551970418219, 0.012132762108080009, 0.005395126992620014, 0.005688067649815665, -0.006349130263967773, -0.014844409322591012, 0.0013205887607430356, -0.00898559617871264, 0.014556180272137453, -0.0027539494711357193, -0.009970942025638863, -0.0026474255957911197, -0.013459598943128093, -0.0020349133125678875, 0.007605497405994477, 0.010588165915603298, 0.00041513582032504104, 0.01692633649852482, -0.0044849624454625925, -0.007733940643429804, -0.0015022939358519949, -0.008692655521519654, -0.0011294603721516694, 0.004303257270352745, 0.0071527709357850355, 0.006513627683724543, 0.018524194628672497, -6.42216187189959e-05, 0.0022793036388319976, -0.0002772693694055306, -0.008452976801996748, 0.010295225258410312, 0.004116840488502582, 0.002652137202532323, -0.015883017107185537, 0.009389772317993206, 0.0011608029477283566, 0.0015602674802659422, 0.004276626301518149, -0.011062811747906132, 0.022305792203357377, 0.003051601735071685, 0.014423025427959146, -0.016149326795543928, -0.004058866944089523, -0.010530192371190239, 0.0050489243977560605, 0.00033524291381858973, 0.006566889621397287, 0.0017200532932806212, 0.010108808476558373, -0.0043518076012842855, -0.003872450162238472, 0.02446290067905732, 0.010002284601216438, -0.004085497912925895, 0.007126139966948664, 0.0014803745737577145, -0.008160036144801985, 0.015754573869749322, -0.0007299958396140838, -0.02259402125380916, 0.010534903977930554, -0.005124105697521308, 0.0022526726699956257, -0.01780044686336435, 0.01623393130879247, -0.017587399112677815, -0.01830643527124476, 0.024090067115356995, -0.020942901185989626, -0.017134672642469262, -0.01790697073870806, 0.004489674052202908, 0.004223364363846294, -0.01188837178181501, 0.001453743604923119, -0.011755216937636703, -0.003899081131073956, -0.0018218655618813528, 0.005901115400500423, 0.019882374039299044, 0.01444965639679463, -0.0015289249046874787, 0.017672003625927246, 0.021267184418760188, 0.005048924397754284, 0.0037440069248013685, -0.0027273185022993474, 0.006433734777217204, 0.0010809100412219053, -0.0060828205756102705, -0.0020615442814033713, 0.010268594289573052, -0.0016088178111957063, -0.016548791328081514, -0.008958965209877157, 0.009469665224498769, 0.0006548145398479477, -0.011275859498592666, 0.011733297575542423, -0.002141437187910711, -0.026402249797329524, -0.002141437187910711, -0.007254583204385767, 0.007392449655306166, 0.0033978043299356386, 0.00949629619333514, -0.0009164126214642465, 0.010827844635126205, -0.01788033976987169, -0.000863150683793279, -0.007893726456444483, 0.0031314946415772482, 0.0031314946415772482, -0.0007033648707777118, 0.010534903977931442, -0.022753807066824727, -0.016122695826707556, -0.0042985456636115416, 0.02094761279273083, -0.0016887107177030458, -0.0072013212667139115, -0.002114806219075227, 0.011813190482049762, 0.014902382867004071, 0.0063538418707107525, -0.006935011578355521, 0.018417670753328785, 0.00033524291381858973, 0.002891815922056118, -0.011409014342770973, -0.0022213300944189385, -0.01345959894312898, -0.010317144620504592, -0.013086765379427767, -0.019478197900021144, -0.01790697073870806, 0.002039624919309091, -0.010849763997219597, 0.01506216868001875, -0.019158626273990897, 0.015008906742346895, -0.022647283191481016, 0.0003352429138194779, -0.016122695826708444, 0.012532226640616706, 0.0018265771686234444, -0.02680171432986711, -0.0009164126214642465, 0.006859830278590273, 0.0077652832190073795, 0.0028119230155487784, -0.007254583204386655, -0.005763248949581801, -0.014578099634232622, 0.010694689790946121, -0.007867095487608111, 0.0013205887607430356, -0.009305167804742887, 0.015621419025571015, 0.0002553500073121384, 0.011280571105334758, -0.0029137352841503983, -0.010210620745159993, -0.011515538218114685, 0.013943667988914221, -0.011542169186951057, 0.0101887013830666, 0.008164747751544965, 0.012505595671781222, 0.011333833043005725, 0.022119375421507215, -0.0018484965307177248, 0.012452333734109367, -0.009012227147549012, 0.010641427853275154, 0.008431057439904244, -0.0019550204060614362, 0.01692633649852393, -0.0035262475673736304, 0.004995662460084205, 0.0035842211117875777, -0.009544846524264905, 0.006673413496739222, -0.012713931815725665, -0.012314467283188968, -0.01156880015578654, 0.010987630448139996, 0.0016667913556087655, -0.012527515033874614, -0.00453822438313356, 0.022359054141029233, 0.004223364363846294, -0.012128050501337917, -0.0036594024115528256, -0.004671379227312755, -0.0014224010293446554, -0.0046447482584772715, -0.013379706036621641, -0.0031534140036706404, -0.005337153448207843, 0.0040369475819943546, 0.0040635785508307265, 0.01130720207417113, -0.009038858116384496, 0.0011874339165647285, -0.006562178014654307, 0.019882374039297268, -0.004671379227312755, -0.004484962445461704, 0.017032860373867642, -0.002088175250237967, -0.022567390284974564, -0.009305167804742887, -0.011755216937636703, 0.0026255062336986157, -0.0015022939358519949, -0.01668194617225982, -0.0016887107177030458, -0.010183989776325397, 0.0061674250888597015, 0.01359746539404938, -0.0016088178111948181, -0.00941169168008571, -0.0012626152163299764, -0.017480875237334104, -0.0017153416865394178, 0.00046839775799778494, 0.0042233643638454055, 0.0012406958542348079, -0.0007566268084504557, 0.0012140648854002123, 0.005634805712143809, -0.008559500677339571, -0.005017581822178485, 0.007126139966947775, 0.01008217750772289, -0.0025409017204491846, -0.005363784417043327, 0.0073391877176360865, -0.011915002750651382, 0.011440356918349437, 0.006114163151187846, 0.00872399809709723, -0.006881749640683665, 0.0026255062336968393, -0.0024077468762699894, 0.0007613384151907709, 0.006247317995367041, -0.013273182161277042, 0.021932958639657052, -0.012447622127368163, -0.0016088178111957063, -0.011888371781815898, -0.004058866944088635, 0.011147416261155563, -0.015936279044857393, 0.004649459865218475, -0.005283891510535987, 0.0011608029477292447, -0.015217242886291338, 6.893322545931113e-05, 0.02651348527941444, -0.0096780013684441, 0.00014882613196842698, 0.006939723185098501, 0.006700044465576482, 0.004702721802889442, -0.0021946991255834547, -0.007627416768087869, -0.010903025934889676, 0.00606090121351599, -0.0033398307855216913, 0.014449656396795518, -0.00685511867184907, 0.0065136276837254314, 0.001400481667250375, -0.01660205326575248, -0.0033664617543580633, 0.002518982358354016, -0.01452483769655899, 0.0045163050210383915, 0.005581543774471953, 0.012532226640616706, -0.011755216937636703, 0.009815867819365387, 0.0016401603867732817, 0.017858420407779185, -0.0016887107177030458, -0.006082820575611159, -0.004724641164984611, -0.015936279044857393, -0.00022400743173456306, -0.01756076814384233, 0.0023059346076692577, 0.007871807094351979, 0.012212655014588236, 0.018364408815659594, -0.012820455691070265, -0.020064079214408004, -0.003339830785520803, 0.019749219195120737, 0.0011341719788919846, -0.012740562784562037, 0.011733297575542423, -0.018253173333572903, -0.004405069538953477, -0.013246551192441558, -0.008160036144801985, 0.007898438063185687, 0.015461633212555448, -0.0012359842474936045, 0.0017733152309515887, 0.003344542392264671, -0.0022213300944189385, -0.009784525243787812, 0.002998339797398941, -0.001955020406060548, 0.011680035637871455, -0.011701954999964848, 0.010721320759782493, -0.011169335623248955, 0.01088110657279806, -0.004245283725939686, -0.006695332858834391, -0.00033053130707649814, 0.01588772871392674, 0.016127407433450536, -0.03159528872031103, 0.006859830278589385, -0.013486229911963576, -0.022647283191481016, -0.002940366252984994, -0.0010495674656434417, 0.005901115400501311, -0.004964319884506629, 0.009576189099843369, -0.004112128881761379, 0.0009743861658773056, -0.011675324031129364, 0.005341865054949935, 0.01032185622724402, -0.008958965209877157, 0.03010866607224738, -0.013432967974292609, 0.001720053293279733, 0.008697367128260858, -0.0006767339019413399, -0.008373083895489408, 0.0021461487946528024, -0.006136082513282126, -0.012474253096205423, -0.007148059329042056, 0.009309879411485866, -0.005283891510535099, 0.003344542392264671, 0.019376385631418636, 0.01239907179643751, -0.0033930927231944352, 0.00803159290736577, -0.00866602455268417, -0.006402392201639628, 0.008590843252917146, -0.014178635101695924, -0.0024077468762691012, 0.020548148260194132, -0.0015022939358519949, 0.006407103808382608, 0.004196733395009922, -0.015856386138350942, -0.011462276280441941, -0.011542169186951057, 0.006753306403248338, -0.00488442697799929, -0.0027273185022993474, 0.001267326823072068, -6.422161871810772e-05, -0.0028072114088057987, 0.0006814455086843196, -0.011701954999964848, 0.006753306403248338, -0.004005605006417667, 0.0026787681713695832, 0.006513627683724543, 0.006220687026531557, 0.008910414878947392, 0.007898438063186575, 0.009363141349155946, -0.010689978184204918, -0.0036860333803883094, 0.0022793036388319976, -0.0017419726553749015, 0.016526871965987233, 0.004702721802889442, -0.006136082513283014, -0.02184835412640762, 0.009549558131007885, -6.42216187189959e-05, -0.014258528008202376, 0.005048924397755172, -0.008213298082475617, 0.00795170000085843, 0.01088110657279806, -0.0038191882245666164, -0.00712142836020746, 0.007392449655307054, 0.008404426471066984, -0.0028072114088049105, 0.00443641211453194, -0.009038858116384496, -0.0048045340714919504, 0.0019597320128017515, 0.008510950346409807, 0.01112078529231919, 0.013783882175899542, -0.018599375928437745, 0.017299170062225144, 0.002412458483011193, -0.01361938475614366, 0.010827844635125317, -0.02397883163327119, -0.025949523327120083, -0.0030202591594932215, 0.0009477551970418219, 0.0029184468908916017, 0.010295225258409424, -0.023366319350048848, -0.0010495674656425535, -0.005630094105401717, 0.0034244352987711224, 0.012345809858767431, -0.013060134410590507, -0.0012626152163299764, 0.008111485813873998, -0.012580776971547358, -0.014072111226352213, -0.001502293935852883, 0.003211387548085476, 0.012052869201572669, 0.018524194628672497, 0.004090209519667987, 0.0027320301090396626, -0.0056034631365662335, -0.008825810365697073, 0.016580133903659977, -0.0007832577772868277, 0.005288603117278967, 0.0013472197295794075, 0.0069929851227703566, 0.014502918334467374, -0.007414369017399558, -0.006642070921163423, -0.008080143238295534, -0.015883017107187314, 0.0057945915251576, -0.007600785799252385, -0.00011748355639085162, 0.0031581256104145083, 0.005075555366591544, -0.006056189606774787, 0.0012939577919075518, -0.0168417319852745, 0.0068065683409184174, -0.0072013212667139115, 0.0040635785508307265, 0.008484319377575211, 0.013144738923839938, -0.006349130263967773, 0.008883783910111909, -0.0002240074317327867, -0.002487639782777329, 0.01325126279918365, 0.015248585461868913, -0.00991768008796523, -0.015856386138350942, -0.0017153416865394178, -0.0044849624454625925, 0.0025456133271895, 0.009522927162171513, 0.022172637359178182, 0.01402356089542156, -0.002008282343733292, 0.018524194628672497, 0.0023059346076683696, 0.0027586610778769227, -0.0025142707516119245, -0.009438322648922082, 0.0021461487946528024, -0.005576832167729862, -0.007361107079729479, -0.02507070135553935, 0.013064846017333487, -0.010503561402353867, 0.0010276481035491614, -0.016202588733215784, 0.006753306403248338, 0.002039624919309091, 0.00025535000731036206, -0.02722780983123929, -0.005310522479372359, 0.0005482906645051244, -0.008346452926653036, 0.006593520590231883, -0.005203998604028648, -0.0009963055279733624, -0.0004903171200920653, 0.002012993950473607, 0.002039624919309091, 0.0024923513895185323, 0.004383150176860973, -0.0021680681567461946, 0.0018265771686234444, 0.002359196545339337, -3.759064988262395e-05, -0.004245283725939686, 0.009815867819365387, -0.002434377845104585, 0.015781204838584806, 0.023823757426998604, -0.009837787181459667, -0.002141437187911599, 0.0010276481035491614, 0.008431057439903356, 0.003371173361101043, 0.0016401603867732817, -0.00512410569752042, -0.003126783034836045, 0.015275216430703509, -0.022221187690108835, -0.004911057946834774, -0.005257260541700504, -0.0029936281906559614, 0.008431057439902467, -0.012234574376681628, -0.004431700507789849, 0.016633395841331833, 0.011147416261154675, -0.01457809963423351, -0.017960232676379917, -0.02025049599625728, 0.008111485813873998, 0.01966932628861251, -0.0032066759413433843, -0.005070843759849453, -0.0019283894372250643, 0.009922391694707322, -0.004911057946834774, -0.011409014342771862, -0.0077073096745952085, 0.005048924397755172, 0.0029717088285634574, -0.0015289249046883668, -0.0057366179807445405, -0.010610085277698467, 0.0074723425618143935, -0.007014904484863749, -0.001022936496807958, -0.002141437187910711, 0.014343132521452695, 0.002359196545339337, -0.00160881781119393, 0.0010276481035482732, 0.007605497405993589, -0.011808478875308559, 0.00222604170116103, -0.0039523430687467, -0.007414369017400446, 0.0008944932593708543, -0.0050974747286849365, -0.006482285108147856, -0.01420526607053052, -0.0027273185023002355, -0.012420991158530903, 0.011174047229991935, -0.00453822438313356, 0.012106131139244525, 0.006353841870709864, -0.004831165040327434, -0.0020615442814042595, -0.00429854566361243, 0.005501650867965502, 0.005847853462830344, 0.023663971613983925, 0.0010276481035482732, -0.009464953617757565, 0.005288603117278079, -0.004911057946834774, -0.009438322648921194, 0.00606090121351599, 0.004622828896383879, -0.012953610535248572, -0.0016887107177021576, -0.007654047736924241, -0.026562035610343315, 0.00667341349674011, 0.009309879411484978, -3.759064988351213e-05, 0.005395126992620902, -0.009145381991728208, -0.00357950950504371, 0.007392449655307054, -0.0025409017204491846, -0.007254583204384879, 0.01128057110533387, -0.014178635101695036, 0.014609442209810197, -0.013086765379427767, 0.0035309591741139457, -0.0047779031026555785, -0.010876394966055969, 0.0002553500073094739, -0.004058866944088635, -0.008905703272206189, 0.008990307785453844, -0.004884426978000178, -0.0030202591594932215, 0.015488264181390043, -0.00677522576534173, -0.0010495674656434417, 0.01615403840228513, 0.00033524291381858973, 0.01479585899166036, -0.02224781865894343, -0.004911057946834774, 0.001453743604923119, 0.004143471457338066, -0.0036860333803883094, -0.0012892461851654602, 0.005821222493993972, 0.009789236850528127, 0.013251262799182761, 0.0010542790723846451, -0.0005169480889266609, -0.0016887107177030458, -0.0036327714427155655, -0.004964319884506629, -0.008799179396862478, 0.013703989269392203, 0.010162070414231117, -0.004990950853343001, 0.007712021281336412, 0.002039624919309979, 0.003504328205278462, -0.005896403793760108, 0.00443641211453194, -0.014152004132859552, -0.003233306910178868, -0.004564855351969932, -0.0017419726553740134, 0.003770637893635964, 0.013464310549869296, 0.009043569723126588, 0.00667341349674011, 0.009150093598468523, -0.0011028294033152974, -0.018519483021931293, 0.015621419025570127, -0.009784525243786035, -0.0004104242135838376, -0.012261205345517112, -0.007307845142057623, -0.014098742195186809, -0.0005968409954357767, -0.018599375928438633, 0.00547501989912913, 0.01982911210162719, -0.0026474255957911197, -0.0013691390916727997, 0.02036173147834397, -0.0003571622759119819, 0.0022793036388311094, 0.0073391877176360865, -0.012980241504083168, -0.0005435790577630328, 0.006007639275844134, -0.008772548428026994, 0.021000874730402685, 0.013996929926586077, -0.008026881300623678, 0.013251262799182761, 0.013677358300556719, -0.011462276280441941, 0.009309879411484978, 0.0036374830494594335, -1.0959681048028358e-05, 0.005874484431665827, 0.004463043083367424, -0.0033131998166862076, -0.008852441334534333, -0.0021946991255825665, 0.015514895150226415, -0.009012227147549012, 0.001240695854235696, -0.00488442697799929, 0.013917037020078737, 0.0030782327039062807, 0.0031314946415781364, 0.0031314946415781364, -0.01353949184963632, 0.014662704147481165, 0.004489674052202908, 0.009070200691962071, 0.011067523354647335, 0.007738652250171896, 0.004649459865218475, 0.004676090834053959, -0.007787202581100772, -0.004511593414297188, -0.0004903171200911771, -0.017267827486649345, 0.01154688079369226, -0.01114270465441436, -0.009038858116384496, 0.0074457115929780215, -0.008479607770832231, 0.015168692555362462, 0.016553502934823605, -0.004085497912925007, 0.004995662460084205, 0.004915769553576865, 0.006939723185098501, 0.01101426141697548, -0.016548791328081514, -0.001635448780030302, 0.001959732012803528, 0.013038215048498003, 0.014156715739600756, -0.003872450162238472, 0.005421757961456386, 0.00382389983130782, -0.0023544849385981337, 0.014929013835838667, 0.0021195178258173186, 0.00022871903847576647, -0.015350397730469645, 0.0018532081374598164, 0.013624096362885751, -0.0059230347625955915, 0.001906470075130784, -0.008692655521518766, 0.007152770935784147, -0.008239929051311101, 0.0020396249193082028, -0.005070843759850341, 0.018577456566344352, 0.0005482906645051244, 0.004542935989875652, 0.003637483049457657, -0.0024610088139400688, 0.011360464011840321, -0.010556823340025723, -0.0104502994646829, -0.013512860880800837, 0.003557590142951206, -0.001821865561882241, 0.0011608029477283566, 0.009336510380320462, 0.0033978043299356386, 0.0032646494857555552, -0.008639393583847799, 0.011014261416976368, 0.00744571159297891, 0.023797126458161344, -0.004431700507791625, 0.005714698618651148, -0.002141437187912487, 0.013597465394050268, 0.005155448273098884, 0.0068065683409184174, -0.013406337005457125, -0.0031800449725079005, 0.008990307785454732, 0.021533494107119466, -0.016309112608559495, 0.009895760725872726, 0.00033524291381770155, 0.010960999479304512, -0.01532376676163505, -0.01644226745273869, 0.0037173759559649966, -0.0002240074317327867, 0.005421757961457274, -0.011622062093458396, 0.0116267737001996, -0.016122695826709332, -0.016894993922947243, -0.011941633719488642, 0.005688067649815665, 0.013650727331721235, 0.006327210901875269, -0.013672646693816404, -0.007121428360205684, -0.009092120054056352, -0.0015821868423593344, -0.014311789945873343, -0.012447622127369051, 0.013277893768020022, 0.005634805712142921, 0.01828451590914959, -0.014524837696559878, -0.004671379227313643, 0.007525604499484473, 0.003317911423427411, 0.004649459865219363, 0.004809245678234042, 0.0010276481035482732, 0.009150093598470299, -0.0036327714427164537, 0.004995662460084205, 0.009922391694709987, -0.0057366179807445405, 0.006114163151187846, -0.010210620745159993, 0.003317911423427411, -0.0020349133125678875, 0.01120067819882653, 0.002066255888146351, 0.0012673268230729562, 0.0074723425618143935, -0.003286568847851612, -0.0030468901283287053, -0.0020615442814042595, -0.010743240121876774, -0.011409014342771862, -0.01061008527769669, 0.00020208806963939452, 0.0013205887607430356, 0.003930423706651531, -0.002461008813940957, 0.011706666606707827, 0.006939723185097613, -0.011515538218114685, -0.0002772693694046424, 0.0024657204206830485, -0.009145381991728208, 0.00829790259572416, -0.015616707418828035, 0.014929013835838667, 9.556419429568308e-05, 0.004622828896382991, -0.005683356043073573, 0.004249995332683554, -0.006562178014654307, -0.0036061404738800817, 0.00768539031250004, 0.012825167297809692, 0.006247317995367041, -0.002594163658120152, 0.003637483049457657, -0.0011028294033144093, -0.003126783034836045, 0.011174047229991935, 0.014689335116316649, 0.003850530800144192, -0.0011028294033144093, -0.008772548428026994, -0.013832432506829306, -0.009891049119130635, -0.0039523430687467, 0.006700044465575594, 0.003344542392264671, 9.556419429657126e-05, -0.010397037527011044, 0.004729352771725814, 0.013304524736854617, 0.009656082006350708, -0.012767193753397521, 0.008777260034768197, 0.010135439445393857, 0.009735974912858048, 0.0028385539843851504, -0.017134672642468374, 0.007578866437158105, -0.0004370551824202096, -0.0005169480889257727, 0.0064603657460526875, -0.0027006875334629754, -0.0260294162336292, -0.012873717628741232, -0.005656725074237201, -0.00017074549406270734, -0.011409014342771862, 0.0015070055425949747, -0.008772548428026994, 0.0033445423922655593, -0.004431700507789849, -0.01817328042706645, -0.02294022384867489, -0.00933179877357837, -0.005017581822177597, 0.008484319377575211, 0.008351164533395128, -0.005816510887252768, 0.02166664895129866, 0.003184756579249104, 0.001400481667250375, -0.006562178014655196, -0.007813833549938032, -0.0028338423776421706, -0.007414369017399558, 0.0014004816672494869, -0.0034729856297017747, 0.011333833043005725, -0.006988273516028265, 0.005954377338174055, 0.003664114018294029, 0.0008944932593699662, 0.005235341179607111, 0.0009211242282063381, -0.006721963827670763, -0.02155541346921286, 0.003371173361100155, 0.007951700000859319, -0.005363784417044215, 0.006992985122769468, -0.013592753787307288, 0.005288603117278079, -0.006668701889998907, -0.003419723692030807, 0.021426970231776643, 0.001080910041221017, 0.005581543774471953, 0.00219941073232377, 0.010934368510469028, -0.03282031328675927, 0.016660026810167317, -0.0023811159074336175, 0.004729352771725814, -0.00712142836020746, 0.0108544756039608, 0.0004417667891605248, -0.005523570230058894, -0.006322499295133177, 0.008031592907364882, 0.007152770935784147, 0.00930987941148409, 0.012425702765273883, 0.009389772317992318, 0.01026859428957394, -0.012474253096204535, -0.0067752257653426184, -0.016042802920201993, 0.013890406051242365, 0.006753306403248338, -9.085258755447967e-05, -0.0028871043153140263, 0.0025988752648613556, -0.004964319884505741, 0.006913092216263017, -0.0007832577772859395, -0.0030735210971659654, -0.004990950853342113, 0.01263875051595953, 0.00046839775799689676, -0.005683356043073573, 0.003557590142951206, 0.009602820068677964, 0.011466987887185809, 0.005075555366591544, -0.007654047736922465, -0.0007033648707777118, 0.004036947581996131, 0.007552235468321733, 0.014636073178645681, -0.0029669972218204776, -0.0025142707516128127, -0.005869772824924624, -0.010636716246533062, -0.014764516416082785, 0.00768539031250004, 0.014502918334468262, -0.001528924904689255, -0.00839971486432578, -0.011781847906472187, 0.004036947581996131, 0.0108544756039608, 0.00038850485148955727, 0.0025189823583549042, -0.0014490319981801392, -0.0009164126214651347, 0.007845176125515607, 0.005794591525159376, 0.007951700000859319, 0.008670736159425374, -0.010210620745159993, -0.004058866944089523, -0.0028871043153140263, -0.0026474255957911197, 0.017139384249211354, -0.004271914694776058, 0.008004961938530286, 0.0036641140182949172, -0.00030390033824101437, -0.0005169480889266609, 0.004729352771724926, 0.014822489960495844, 0.008990307785454732, -0.027360964675418487, 0.00813811678271037, -0.005363784417043327, 0.002891815922056118, -0.0005435790577630328, -0.004032235975253151, -0.017400982330826764, -0.008612762615012315, 0.014316501552616323, -0.006349130263967773, -0.005896403793760108, -0.005683356043072685, 0.004649459865218475, 0.00606090121351599, -0.01345959894312898, 0.0045163050210383915, -0.011222597560919922, -0.008532869708504087, 0.005714698618651148, 0.01325126279918365, 0.0019331010439662677, 0.01479585899166036, -0.006455654139312372, 0.0001488261319675388, 0.004249995332681777, -0.007840464518772627, -0.007068166422534716, 0.004143471457338066, -0.008666024552682394, -0.018333066240080242, 0.00614079412002333, -0.0018751274995523204, 0.014396394459123663, -0.0028338423776412824, -0.008506238739668603, 0.0015336365114304584, 0.009096831660798443, -0.005150736666356792, 0.01793831331428386, 0.008297902595723272, 0.0030782327039062807, 0.0056614366809784045, -0.0030735210971659654, -0.0017419726553740134, -0.02147552056270552, -0.004325176632447025, -0.009518215555429421, -0.014018849288680357, -0.0017153416865394178, -0.0032066759413442725, -0.00650891607698334, 0.0016934223244442492, -0.008958965209877157, -0.014684623509574557, -0.0063757612328032565, 0.016393717121808926, 0.004622828896382991, 0.014396394459122774, -0.0004104242135838376, 0.0003618738826549617, -0.006189344450953982, 0.007632128374828184, -0.0005702100265985166, -0.007680678705759725, -0.0016088178111948181, -0.001182722309822637, -0.006775225765340842, -0.008719286490356026, -0.017400982330826764, -0.0050974747286849365, 0.007232663842291487, 0.013890406051243254, -0.016389005515065946, 0.01000228460121555, 0.008750629065931825, 0.003557590142952094, 0.01050827300909507, 0.0030782327039062807, 0.006540258652560915, 0.0012140648854002123, 0.01247896470294485, -0.004671379227312755, 0.012186024045750976, -0.010876394966055969, 0.005261972148442595, -0.005230629572865908, -0.002594163658120152, 0.018897028192375487, 0.020654672135536956, -0.008293190988983845, -0.01636237454623135, -0.015803124200679974, -0.011622062093458396, -0.012447622127368163, -0.0006767339019413399, -0.005683356043072685, 0.006273948964202525, 0.024436269710221836, 0.004862507615904121, 0.00829790259572416, -0.002620794626955636, 0.005954377338174055, -0.004564855351969932, 0.010641427853275154, -0.0012626152163299764, -0.00291373528414951, 0.0014004816672494869, 0.014316501552616323, 0.004702721802890331, -0.0068817496406845535, -0.03250074166072903, 0.0032380185169209597, 0.01788505137661378, 0.005315234086114451, -0.006375761232804145, -0.001022936496807958, -0.004245283725939686, 0.017858420407778297, -0.0013425081228390923, -0.005656725074237201, -0.0013425081228364277, 0.00984249878820087, -0.006828487703013586, -0.015243873855128598, -0.008479607770832231, -0.007520892892744158, -0.014844409322589236, 0.0005749216333406082, 0.0001488261319675388, -0.0038191882245675046, 0.0015868984491005378, 0.009949022663543694, -0.005949665731431963, -0.0017686036242094971, -0.01396558735100939, 0.0025189823583549042, 0.014236608646108095, 0.00222604170116103, 0.012052869201571781, -0.005363784417044215, 0.0016135294179369097, 0.020308469540671226, 0.0008678622905344824, 0.017245908124555065, -0.01308676537942599, -0.014924302229098352, -0.0062159754197885775, -0.014551468665397138, -0.007334476110893107, -0.011888371781815898, 0.005554912805636469, -0.002807211408806687, 0.005235341179607111, 0.00350432820527935, -0.0033131998166862076, -0.018705899803780568, -0.005044212791013969, -0.003126783034836045, -0.01095628787256242, 0.008457688408737951, -0.0070415354536992325, 0.02350418580096747, 0.011120785292320079, -0.014871040291425608, -0.0028338423776421706, 0.0014803745737577145, -0.00030390033824101437, 0.004276626301518149, 0.010907737541632656, 0.013198000861511794, 0.0005216596956696407, 0.002066255888146351, -0.01353949184963632, -0.01598954098252925, 0.0039304237066524195, -0.007254583204385767, 0.001746684262116105, -0.015616707418828035, 0.001267326823072068, 0.0037440069248013685, -0.00712142836020746, 0.007765283219008268, -0.004032235975253151, -0.009118751022892724, 0.009309879411484978, -0.01156880015578654, 0.007898438063186575, -0.000676733901942228, -0.0007566268084495675, -0.010317144620502816, 0.0181247300961358, 0.011946345326229846, -0.01231446728318808, 0.014609442209810197, -0.0017153416865394178, 0.004969031491248721, -0.0020615442814033713, 0.006726675434411078, -0.0005968409954348886, 0.016393717121808926, 0.000601552602176092, -0.009118751022892724, 0.004249995332683554, 0.0005749216333406082, 0.0037440069248013685, 0.011280571105334758, -0.008266560020147473, -0.014444944790052539, -0.0033930927231953234, -0.011062811747906132, -0.008799179396862478, -0.012900348597575828, 0.012345809858766543, 0.018177992033806767, 0.010401749133752247, 0.010375118164915875, -0.007014904484864637, -0.01593627904485828, -0.011968264688324126, -0.008692655521519654, -0.010157358807488137, 0.012771905360139613, -0.007440999986236818, 0.008058223876201254, -0.013432967974293497, 0.009735974912858048, -0.0012359842474936045, 0.0003618738826540735, 0.0024390894518466766, 0.010481642040260475, -0.002620794626955636, 0.016873074560852963, -0.003126783034836933, -0.004032235975252263, 0.0040902095196670984, 0.007951700000859319, 0.002012993950473607, -0.011222597560919922, 0.0008146003528626267, -0.009172012960563691, 0.004542935989875652, -0.011382383373936378, 0.009629451037513448, -0.0001973764628981911, -0.018199911395901935, -0.017507506206170476, 0.0009477551970418219, 0.021613387013625918, 0.0029717088285634574, 0.008351164533396016, 0.015168692555360686, -0.003552878536209114, -0.0029137352841503983, 0.007978330969694802, 0.0008412313216981104, 0.003344542392264671, -0.013566122818470916, -0.0028338423776412824, -0.00839971486432578, -0.010769871090713146, -0.009145381991728208, -0.00035716227591375826, 0.00880389100360457, -0.017933601707544433, 0.012345809858766543, -0.015962910013692877, -0.006801856734177214, 0.00536849602378453, 0.0010010171347136776, 0.002039624919309091, 0.009176724567304895, 0.00350432820527935, -0.01918525724282638, 0.009309879411484978, 0.010028915570051034, -0.01505745707327577, -0.0018484965307168366, -0.013219920223605186, 0.0034244352987720106, -0.0005702100265985166, 0.008670736159425374, 0.008963676816619248, 0.01000228460121555, 0.014929013835837779, -0.001795234593044981, -0.0005968409954348886, -0.003100152066000561, 0.009895760725872726, 0.001693422324443361, 0.008590843252918035, 0.01468933511631576, 0.01753884878174805, -0.012128050501337917, -0.0070415354536992325, -0.006322499295132289, -0.0033131998166862076, -0.003872450162238472, -0.001156091340986265, -0.000996305527971586, -0.005044212791013969, 0.02662000915475904, 0.0016135294179369097, -0.009704632337279584, -0.0036061404738800817, 0.00219941073232377, -0.001528924904689255, -0.009145381991728208, -0.01524387385512771, -0.006668701889998019, 0.0032380185169209597, 0.005661436680979293, 0.011413725949513065, -0.010183989776325397, 0.01663339584133272, -0.01721456554897749, -0.0004104242135838376, 0.008484319377574323, -0.0077073096745952085, -0.012101419532502433, -0.002434377845104585, 0.0005749216333406082, -0.019211888211661865, 0.0024923513895194205, -0.01577649323184449, 0.0060342702446813945, -0.0013691390916736879, 0.010135439445393857, -0.011888371781815898, 0.007738652250171896, 0.0061674250888597015, -0.004724641164984611, -0.012341098252024452, 0.005075555366591544, 0.031520107420545784, 0.009123462629633039, 0.011253940136498386, 0.0021461487946536906, 0.00797833096969569, 0.0022793036388319976, -0.012234574376681628, 0.013837144113572286, 0.005102186335427028, 0.018497563659837013, 0.0024657204206830485, -0.0033930927231944352, 0.0032380185169209597, 0.012026238232736297, -0.00523062957286502, -0.005656725074238089, -0.0041653908194332345, -0.010183989776325397, 0.00451630502103928, 0.00038850485149044545, -0.008026881300624567, -0.0025409017204482964, -0.0070415354536992325, -0.0029669972218204776, 0.006620151559068255, 0.008644105190589002, 0.0025722442960249836, 0.004249995332682666, 0.009789236850528127, -0.010982918841397904, 0.001746684262116105, -0.011089442716741615, -0.020836377310646803, -0.006002927669102931, -0.004325176632447025, -0.02831967955350745, -0.006002927669102043, 0.015248585461868913, 0.00803159290736577, -0.0015289249046874787, -0.00866602455268417, -0.010183989776325397, 0.011147416261154675, 0.01695296746736119, 0.006620151559068255, 0.004356519208024601, 0.0009743861658773056, -0.015989540982531025, 0.013783882175899542, -0.011116073685576211, 0.0026787681713695832, -0.008586131646176831, -0.0033131998166862076, -0.01601617195136562, -0.013459598943128093, 0.020601410197865988, -0.005656725074238089, 0.0014271126360876352, 0.01588772871392763, -0.006269237357461321, -0.009464953617758454, 0.004329888239188229, -0.007680678705758837, -0.007174690297878428, 0.013144738923840826, -0.00035716227591375826, 0.005501650867964614, 0.006247317995367041, 0.009336510380320462, -0.00805351226946005, -0.006029558637938415, 0.008138116782709481, 9.556419429568308e-05, -0.0068817496406845535, -0.0018484965307177248, -0.012740562784561149, 0.001773315230952477, -0.00230122300092539, 0.003664114018294029, 0.01077458269745346, 0.009549558131006997, 0.006859830278589385, -0.008426345833161264, 0.0072859257799633426, -0.0007832577772859395, 0.01692633649852482, 0.015914359682764, 0.00843105743990158, -0.007547523861579641, 0.0012406958542348079, -0.00043705518242198593, -0.002940366252985882, 0.0032912804545928154, -0.0005968409954348886, 0.015781204838584806, 0.004143471457338066, 0.003690744987129513, -0.009225274898234659, -0.0021414371879098226, -0.007520892892745046, -0.004804534071491062, 0.009150093598470299, -0.003126783034836045, -0.008426345833161264, 0.0009743861658781938, -0.004564855351969044, -0.00230122300092539, 0.014050191864257933, -0.0038458191934021, 0.01660676487249546, -0.00488442697799929, 0.0014271126360876352, 0.024010174208848767, -0.006136082513282126, 0.0022793036388319976, 0.008004961938529398, 0.0013472197295785193, 0.005981008307007762, 0.017379062968733372, 0.005395126992620902, -0.015084088042112143, -0.009411691680086598, -0.00975789427495144, 0.0083777955022315, -0.021715199282227537, 0.00536849602378453, 0.002705399140205067, -0.0009430435902997303, -0.004484962445461704, 0.020122052758821063, -0.022540759316138193, 0.01136046401184121, 0.00946966522449788, 0.005261972148442595, 0.005155448273099772, 0.012931691173154292, -0.021528782500377375, 0.014822489960496732, -0.012474253096202759, -0.008319821957817553, 0.002012993950473607, -0.005443677323550666, 0.008830521972440053, 0.0046760908340530705, 0.008590843252917146, -0.020703222466467608, -0.01977113855721324, 0.0108544756039608, 0.009096831660798443, -0.020090710183244376, -0.014764516416082785, -0.012128050501339693, 0.01112078529231919, 0.010135439445393857, -0.0029137352841503983, 0.0018798391062961883, -0.014098742195186809, -0.006988273516028265, -0.011062811747906132, -0.009172012960563691, -0.01377917056915745, 0.0025189823583549042, 0.0007347074463561754, 0.012452333734108478, 0.003797268862472336, 0.01359746539404938, 0.00038850485149044545, -0.012314467283188968, 0.0017733152309515887, 0.005901115400500423, 0.006353841870709864, -0.0019017584683895805, 0.0034510662676074944, 0.009469665224498769, 0.006859830278590273, -0.0032066759413433843, 0.0021461487946536906, -0.001182722309822637, -0.0020615442814042595, -0.018040125582886368, -0.008559500677339571, 0.004649459865218475, 0.007658759343664556, -0.0005968409954348886, 0.0036374830494585453, -0.006189344450953094, -0.0044849624454625925, 0.0066467825279037385, 0.003690744987130401, 0.009789236850528127, 0.009895760725872726, -0.0007033648707777118, -0.0014224010293446554, -0.0033131998166862076, 0.0008412313216998868, -0.002780580439971203, -0.005124105697521308, 0.011147416261154675, 0.017405693937568856, 0.0015602674802659422, 0.0029184468908916017, 0.002385827514174821, 0.0019597320128017515, 0.017751896532435474, -0.008000250331789083, -0.015190611917454966, 0.016713288747838284, -0.012101419532502433, -0.0068817496406845535, -0.012580776971547358, -0.0090122271475499, -0.012713931815725665, 0.006540258652560915, -0.008000250331788195, -0.009704632337279584, -0.012234574376681628, -0.010929656903726936, -0.007840464518773516, -0.0008897816526269864, 0.0012406958542365842, 0.020068790821149207, -0.005736617980745429, -0.0036594024115528256, 0.011440356918349437, 0.00044176678915963663, -0.0012093532786572325, -0.017853708801035317, -0.00230122300092539, -0.0005702100265985166, 0.010588165915603298, 0.0037173759559649966, -0.008799179396863366, 0.005182079241935256, 0.0028918159220552297, 0.004649459865219363, 0.01642034809064441, -0.007281214173222139, -0.000836519714956907, -0.0030202591594932215, -0.004751272133820095, -0.0012359842474927163, -0.007440999986236818, -0.005257260541700504, -0.009012227147548124, 0.003184756579249992, 0.009443034255662397, -0.011675324031128476, -0.009251905867071919, -0.0005968409954348886, 0.0028119230155478903, 0.008297902595723272, 0.018018206220792088, -0.008426345833161264, 0.01263875051595953, 0.005554912805635581, -0.021022794092496966, 0.0010010171347127894, 0.016127407433450536, 0.002998339797398941, 0.007046247060440436, 0.004729352771724926, -0.017507506206170476, 0.012771905360139613, 1.567128778923177e-05, 0.005794591525158488, -0.004192021788268718, 0.02763198597051808, -9.085258755625603e-05, -0.01788033976987169, 0.007978330969693914, -0.011116073685577987, 0.006194056057695185, -0.01140901434277275, 0.010028915570051922, 0.013224631830348166, -0.0012892461851663484, -0.0008098887461214233, -0.017827077832199834, -0.00033053130707560996, 0.012665381484795901, -0.009624739430772244, 0.0024923513895185323, -0.00650891607698334, 0.010534903977931442, 0.006566889621396399, -0.024431558103480633, -0.002727318502298459, -0.0033398307855216913, -0.014604730603068994, 0.003184756579249104, -0.003286568847850724, 0.011333833043005725, 0.015088799648853346, 0.020601410197865988, -0.024617974885330796, 0.0011608029477274684, -0.0010761984344798137, 0.004276626301518149, -0.016735208109933453, -0.0012093532786572325, -0.013699277662651, 0.0010276481035500495, 0.0061940560576960735, 0.023397661925625535, -0.004085497912925895, -0.009065489085219092, -0.011275859498592666, 0.003770637893635964, 0.012265916952258316, 0.006433734777217204, -0.007148059329042944, 0.025687925245503784, 0.000281980976146734, -0.008026881300625455, 0.004649459865218475, -0.012207943407846145, 0.006114163151187846, -0.016735208109933453, -0.010876394966055969, -0.006801856734176326, 0.004356519208024601, 0.011333833043005725, -0.0032066759413433843, -0.007307845142057623, 0.020894350855058974, 0.01727253909339055, -0.0028072114088049105, 0.015461633212555448, -0.01207478856366695, -0.010663347215368546, -0.00022400743173367488, 0.03002877316574004, 0.016074145495779568, 0.0068065683409184174, -0.008586131646175943, 0.009549558131007885, -0.005630094105401717, 0.006779937372082934, -0.012341098252024452, -0.004511593414298076, 0.02044162438485042, -0.006988273516027377, 0.00041513582032504104, 0.019349754662582264, 0.005501650867964614, 0.0009477551970418219, -0.00797361936295271, 0.004862507615905898, 0.0278716646900401, 0.00017545710080391075, 0.016367086152972554, -0.002780580439970315, -0.004405069538955253, -0.005976296700267447, -0.011355752405100006, 0.007552235468321733, -0.010183989776325397, 0.0063538418707107525, 0.017858420407778297, -0.002274592032089906, -0.0008098887461223114, 0.00038850485148955727, 0.019829112101628077, -0.0012892461851663484, -0.007014904484864637, -0.01532376676163505, -0.005363784417043327, 0.01804483718962846, -0.028106631802820026, 0.004809245678234042, 0.00821800968921682, -0.0019283894372250643, -0.003899081131073956, -0.01636237454623135, 0.013544203456378412, 0.006220687026530669, 0.011546880793691372, 0.0006281835710124639, 0.004116840488502582, -0.006056189606774787, 0.011174047229991935, 0.013570834425213896, 0.007712021281336412, 0.011307202074170242, 0.011413725949512177, 0.007978330969693914, -0.006002927669102043, -0.0019017584683895805, -0.00011748355639085162, 0.005261972148441707, 0.005741329587485744, 0.016606764872494573, 0.006247317995367041, -0.025550058794584274, -0.007760571612265288, 0.012692012453632273, -0.017241196517812973, 0.0015868984491005378, -0.009092120054056352, 0.002705399140205067, -0.01521724288629045, -0.0016088178111957063, -0.0004370551824202096, -0.002780580439970315, 9.556419429657126e-05, 0.014183346708437128, 0.004649459865218475, 0.0008678622905344824, 0.013171369892675422, 0.013890406051242365, -0.0010761984344789255, 0.001773315230952477, -0.008293190988982957, -0.005363784417043327, -0.025203856199717656, -0.002274592032089906, 0.004276626301518149, -0.010077465900980798, 0.02206611348383447, -0.0028871043153149145, 0.00020208806963850634, 0.010881106572795396, -0.008958965209877157, -0.004138759850596863, 0.0074457115929780215, -0.007893726456445371, -0.016069433889037477, -0.007281214173221251, -0.002141437187911599, -0.013805801537993823, -0.018626006897275005, -0.002487639782777329, 0.006700044465575594, 0.010215332351902084, -0.009225274898235547, 0.0008678622905335942, 0.0029450778597261973, -0.01290034859757494, 0.004383150176860973, -0.012207943407846145, 0.010162070414230229, 0.011147416261155563, 0.01263875051595953, 0.013810513144735026, 0.007871807094351091, -0.001475662967015623, -0.0029137352841512865, 0.010002284601216438, -0.00592303476259648, 0.011094154323483707, -0.026961500142882677, 0.00803159290736577, -0.005656725074238089, 0.014183346708437128, -0.012740562784562037, 0.004409781145696456, -0.024697867791838135, 0.003530959174114834, -0.00557683216773075, -0.003978974037582184, -0.002727318502298459, -0.009997572994473458, -0.003366461754357175, -0.008080143238295534, -0.010689978184204918, -0.0006501029331067443, -0.002114806219075227, -0.003100152066001449, 0.0006548145398488359, -0.00038379324474835386, 0.00350432820527935, 0.006753306403248338, -0.01628248163972401, -0.00267405656462838, -0.019105364336319042, 0.0056348057121420325, 0.008351164533396904, 0.007578866437157217, -0.0032066759413433843, 0.01479585899166036, 0.0036374830494594335, 0.002811923015547002, 0.02504878199344507, 0.002891815922056118, -0.02216792575243609, -0.02072985343530309, 0.010934368510469028, -0.005017581822177597, 0.010268594289574828, -0.01098291884139968, 0.00536849602378453, -0.0009164126214642465, 0.010455011071424103, -0.015883017107185537, -0.010556823340025723, -0.006988273516028265, 0.013304524736856393, 0.0026521372025340995, 0.013304524736856393, 0.008537581315247067, -0.013406337005456237, 0.005261972148442595, -0.0022213300944189385, 0.008111485813873998, -0.00994431105680249, 0.0027586610778769227, -0.006908380609520037, 0.007126139966947775, 0.00949629619333514, -0.00839971486432578, -0.016389005515066835, -0.014924302229097464, -0.005443677323550666, -0.0038191882245666164, -0.001022936496807958, -0.006002927669101155, 0.006566889621397287, 0.010960999479304512, 0.002998339797398053, -0.0003571622759119819, -0.004831165040327434, -0.0014224010293446554, -0.012341098252024452, -0.0038458191934029884, -0.001022936496807958, 0.00574132958748752, -0.000836519714956907, -0.015190611917455854, 1.567128778923177e-05, 0.008910414878947392, -0.00855950067734046, 0.0029184468908907135, -0.00855950067734046, -0.01899884046097622, -0.0008897816526287627, -0.008186667113640134, 0.004010316613159759, 0.005501650867964614, -0.0030202591594923334, 0.010694689790946121, -0.0034729856297017747, -0.0028338423776421706, -0.00453822438313356, -0.009225274898235547, 0.008537581315247067, -0.013140027317098735, -0.00011748355639085162, 0.0009477551970418219, 0.004010316613158871, 0.00795170000085843, -0.004058866944089523, 0.008830521972440053, -0.007334476110893107, 0.004143471457338066, -0.003552878536209114, 0.011413725949513953, -0.0020615442814033713, 0.014849120929331328, -0.014338420914709715, 0.0015602674802659422, 0.004010316613159759, 0.006380472839547124, 0.019855743070462673, -0.009172012960563691, -0.0034996165985372585, -0.005949665731431075, -0.003552878536209114, 0.0011341719788910964, 0.0031314946415772482, 0.0109609994793054, -0.0001973764628981911, 0.013011584079661631, -0.00898559617871264, -0.002594163658120152, -0.007574154830415125, -0.012713931815725665, -0.010583454308860318, -0.005124105697521308, -0.0008098887461214233, -0.0011294603721507812, -0.008666024552683282, 0.002039624919309091, 0.015861097745092145, -0.015590076449992551, -0.023366319350048848, 0.011573511762526856, -0.0077073096745952085, -0.0004903171200911771, -0.015057457073274882, 0.00020208806963939452, -0.012021526625995094, 0.0013738506984148913, 0.0074457115929780215, 0.009789236850529015, -0.01319328925477059, 0.005075555366591544, -0.008879072303370705, 0.001267326823072068, 0.001773315230952477, 0.00856421228408255, 0.0076321283748290725, -0.0007832577772859395, -0.004884426978000178, 0.0028119230155496666, -0.0010761984344798137, -0.0009164126214642465, -0.00810677420713013, 0.0031048636727426526, -0.007627416768086981, -0.006402392201639628, -0.009092120054056352, 0.013890406051243254, 0.0026787681713695832, 0.025368353619474426, 0.004383150176860973, -0.0030202591594941097, -0.0030202591594932215, -0.012314467283188968, 0.009762605881693531, -0.00429854566361243, 0.0021461487946536906, 0.00907020069196296, 0.007578866437158105, 0.0021461487946545788, -0.013432967974292609, 0.014423025427958258, -0.003978974037581295, 0.009176724567305783, -0.002487639782777329, -0.008932334241040785, -0.010343775589339188, 0.010881106572797172, -0.0036327714427164537, -0.0025675326892846684, 0.007232663842292375, -0.0011294603721516694, -0.0036860333803883094, 0.002705399140205067, 0.017379062968733372, -0.0036061404738791936, 0.0004950287268341569, 9.556419429657126e-05, 0.005182079241935256, 0.010082177507723777, -0.0022479610632544222, 0.003983685644322499, 0.00821800968921682, -0.009278536835908291, -0.006535547045818824, -0.009118751022892724, 0.011839821450886134, 0.007712021281335524, 0.014130084770764384, 0.0013205887607421474, 0.0032912804545928154, 0.01626056227762973, 0.011759928544377907, 0.006726675434411078, -0.002168068156747971, -0.009305167804742887, -0.013353075067784381, 0.006194056057695185, 0.009416403286827801, -0.014231897039366892, -0.006402392201640517, -0.0038191882245675046, -0.005683356043073573, 0.006779937372082934, 0.003983685644323387, -0.02139562765619818, 0.010055546538886517, -0.009331798773579258, 0.0030782327039062807, 0.004782614709398558, -0.004911057946834774, 0.018630718504016208, 0.0028918159220552297, -0.005044212791013969, 0.013464310549870184, -0.002966997221821366, 0.001267326823072068, 0.0018532081374598164, 0.0011075410100565009, -0.0020615442814042595, -0.0012626152163290882, 0.0012140648854002123, 0.010321856227244908, 0.008084854845037626, 0.012106131139244525, -0.004937688915671146, 0.0027852920467124065, 0.011040892385810963, 0.019855743070462673, 0.0034244352987720106, -0.015536814512320696, -0.02815989374049277, 0.011680035637871455, 0.0005216596956687525, -0.010343775589340076, -0.018652637866111377, 0.008431057439902467, -0.00427191469477517, 0.003211387548085476, -0.00022400743173456306, 0.002252672669996514, 0.006726675434411078, -0.00797361936295271, 0.019189968849567585, 0.013917037020078737, 0.015168692555361574, 0.009016938754290216, -0.009225274898235547, -0.003552878536209114, -0.00549693926122341, -0.003206675941342496, 0.0006814455086843196, -0.008532869708504087, 0.001906470075130784, 0.0060076392758450226, 0.008191378720381337, 0.0011075410100565009, -0.010050834932145314, 0.007658759343664556, 0.0007347074463561754, 0.005714698618651148, 0.02411669808419159, -0.009571477493100389, 0.0007347074463561754, 0.002732030109041439, 0.014529549303302858, 0.008191378720381337, -0.026428880766165008, -0.00821329808247473, -0.004085497912925007, 0.003690744987130401, 0.002226041701160142, 0.002039624919309979, 0.004010316613158871, -0.004405069538955253, 0.0026255062336977275, 0.006034270244680506, -0.00906548908521998, -0.008799179396862478, 0.0016401603867732817, 0.0026521372025340995, -0.005443677323550666, -0.00898559617871264, -0.004990950853343001, 0.008670736159424486, -0.0018751274995523204, 0.0010542790723846451, 0.006646782527904627, -0.015190611917454966, 0.009283248442648606, -0.005709987011909945, 0.010321856227245796, -0.005949665731431075, 0.002518982358354016, -0.0038191882245675046, 0.013570834425213008, -0.016175957764381188, 0.004942400522413237, -0.0032333069101797562, -0.0012359842474936045, 0.011174047229991046, -0.005363784417043327, -0.002141437187910711, 0.005102186335427916, -0.002434377845104585, 0.005075555366591544, -0.0015289249046883668, -0.002594163658120152, -0.011515538218114685, -0.01037040655817556, 0.0012140648854002123, 0.0029450778597261973, -0.006588808983490679, -0.00419202178826783, 0.016873074560852963, 0.007738652250171896, 0.005688067649816553, -0.02754738145726865, -0.015962910013693765, 0.005954377338174055, -0.007334476110893995, 0.009203355536141267, 0.0035842211117866896, -0.014338420914710603, -0.010290513651666444, 0.0022793036388319976, 0.0029450778597270855, 0.00582122249399486, 0.0032912804545937036, -0.025044070386702977, -0.006402392201640517, 0.007818545156680123, -0.007840464518772627, -0.005763248949581801, -0.002434377845105473, -0.0066154399523279395, 0.0027320301090396626, 0.0016667913556078773, 0.005155448273099772, 0.007818545156680123, 0.00041513582032504104, 0.003291280454591927, 0.00046839775799778494, -0.013193289254769702, -0.014871040291426496, -0.003579509505045486, 0.008191378720380449, 0.009123462629633927, -0.008905703272206189, 0.0061940560576960735, -0.0027006875334629754, 0.021000874730402685, 0.01298495311082526, -0.0027006875334629754, 0.005235341179606223, 0.013703989269392203, -0.014098742195186809, -0.011622062093457508, -0.009278536835907403, 0.006060901213515102, -0.01076987109071137, 0.010215332351901196, -0.0004370551824202096, -0.0020615442814042595, 0.010747951728617089, -0.010450299464682011, 0.0032380185169209597, 0.0005482906645060126, 0.009735974912858048, 0.019456278537925975, -0.012740562784561149, 0.0005749216333406082, -0.004112128881760491, -0.00592303476259648, 0.015408371274885369, 0.00219941073232377, 0.00536849602378453, -0.009571477493100389, -0.00325993787901524, 0.0005749216333406082, 0.007498973530648989, -0.004831165040327434, 0.001267326823072068, 0.017485586844077083, 0.00930987941148409, -0.020676591497631236, -0.00033053130707649814, 0.0006548145398488359, -0.014924302229098352, -0.011515538218114685, 0.005075555366591544, -0.008772548428026994, 0.013677358300556719, -0.02472449876067362, 0.006939723185098501, 0.0005482906645051244, -0.006881749640683665, 0.004170102426174438, -0.006375761232804145, 0.00020208806963939452, -0.0004104242135838376, 0.008564212284081663, 0.005581543774471953, 0.012958322141989775, 0.018337777846822334, -0.005337153448206955, -0.02147552056270463, -0.0023278539697617617, -0.003153414003673305, 0.0024923513895185323, -0.009917680087966119, 0.006753306403248338, -0.0030202591594923334, 0.0024657204206830485, -0.010157358807489025, -0.0057898799184172844, 0.0038771617689805637, 0.003051601735071685, -0.003579509505044598, 0.007232663842291487, 0.006833199309753901, 0.007818545156680123, 0.010481642040260475, 0.008937045847782876, 0.00478261470939767, 0.0016667913556078773, -0.0009164126214642465, 0.005235341179606223, 0.007152770935784147, 0.00033524291381858973, -0.0019283894372259525, 0.005794591525159376, 0.0016934223244442492, -0.004964319884506629, 0.020654672135536956, -0.008825810365697961, 0.008963676816619248, 0.0036374830494585453, 0.019802481132790817, -0.005656725074238089, -0.009837787181459667, -0.014737885447247301, -0.011701954999964848, 0.010960999479304512, 0.0013472197295785193, -0.01428515897703786, -0.018785792710287907, 0.0008146003528626267, 0.00667341349674011, -0.005869772824923736, -0.012234574376681628, -0.0020349133125678875, 0.02001552888347824, -0.0002240074317327867, 0.023663971613983037, -0.006695332858832614, -0.005283891510537764, 0.01572794290091295, 0.008857152941275537, -0.004085497912924119, -0.007094797391371976, 0.003557590142951206, 0.0016934223244442492, 0.014236608646108984, -0.004964319884506629, -0.01319328925477059, -0.0012359842474936045, -0.0129269795664122, -0.008825810365697961, 0.0033978043299356386, -0.00046368615125569335, -0.01061008527769669, 0.015674680963241094, 0.007658759343664556, -0.011835109844144043, -0.002434377845104585, 0.01317136989267631, 0.017698634594763618, 0.016819812623181107, 0.005102186335427028, 0.008564212284081663, 0.007525604499486249, -0.012607407940382842, -0.00914538199172732, 0.013331155705690989, -0.0017952345930467573, -0.0017952345930467573, -0.026908238205209045, -0.0028604733464776544, -0.0034729856297017747, 0.00038850485149044545, -0.016628684234588853, -0.002940366252984994, 0.0040635785508307265, -0.006056189606775675, 0.006886461247427533, 0.013996929926586077, 0.0032380185169209597, 0.007419080624143426, 0.02550150846365362, -0.004325176632448802, -0.003712664349222905, 0.0061674250888597015, 0.015541526119062787, -0.007227952235549395, -0.001528924904689255, 0.008457688408739727, -0.011542169186951945, -0.0008098887461223114, 0.004809245678234042, 0.010907737541633544, 0.0027586610778769227, 0.0052087102107707395, -0.017853708801035317, -0.012926979566413088, 0.011733297575542423, 0.01061479688443967, -0.004511593414298076, 0.01607414549577868, 0.003983685644323387, -0.011781847906473075, 0.030241820916427464, 0.015328478368376253, -0.008293190988982069, -0.007281214173222139, -0.030396895122699163, 0.0050222934289188, -0.00046368615125569335, 0.008937045847782876, -0.0013691390916727997, 0.007578866437158105, 0.0003086119449813296, -0.014657992540739073, 0.00733918771763431, -0.014950933197934724, -0.00778720258110166, -0.010237251713995477, -0.0038724501622393603, 0.007605497405993589, -0.012713931815725665, -0.015430290636977873, -0.014578099634232622, 0.01136046401184121, -0.009784525243786923, 0.015142061586525202, 0.016207300339957875, -0.006215975419789466, 0.011040892385811851, -0.018359697208914838, -0.004218652757104202, -0.009012227147549012, -0.004138759850596863, 0.02411669808419159, 0.0051820792419343675, -0.004964319884505741, -0.003100152066000561, 0.01293169117315518, 0.016127407433450536, -0.002301223000926278, -0.003899081131074844, -0.006748594796505358, -0.004538224383134448, 0.00014882613196665062, -0.019478197900019367, -0.006082820575611159, -0.012634038909218326, 0.005421757961455498, -0.001182722309822637, 0.006859830278589385, 0.006566889621397287, 0.007339187717635198, -0.007600785799250609, 0.003477697236442978, -0.02533701104389685, 0.0017999461997879607, -0.0014224010293437672, -0.0007033648707786, -0.008612762615012315, 0.0008412313216981104, -0.01857274495960226, -0.007148059329042944, -0.0006501029331067443, 0.0037706378936368523, 0.002439089451848453, 4.230225662471554e-05, -0.0009963055279733624, -0.005949665731431963, 0.005554912805636469, 0.0008412313216989986, -0.01124922852975807, 0.021693279920134145, -0.020303757933929134, 0.00291844689089249, 0.011333833043006614, -0.0015555558735238506, 0.013011584079661631, -0.0015821868423593344, -0.0026740565646266035, -0.004058866944088635, 0.01000228460121555, -0.004138759850597751, 0.013144738923839938, 0.01101426141697548, -0.006535547045818824, -0.013646015724980032, -0.00925190586707103, -0.007760571612265288, 0.004649459865218475, -0.011462276280441941, 0.009150093598470299, 0.004516305021041056, -0.0226739141603165, 0.01727253909339055, 0.0006015526021752038, -0.008426345833161264, 0.0032912804545928154, 0.02616728268454871, 0.005554912805635581, -0.007920357425280855, 0.008750629065933602, -0.0033131998166862076, 0.0033445423922655593, 0.007525604499485361, 0.003797268862472336, 0.006992985122769468, -0.005070843759850341, -0.0033930927231944352, -0.009012227147548124, -0.005550201198894378, -0.028026738896314463, 0.0035842211117866896, 0.008351164533396904, -0.0018484965307168366, 0.0024390894518475648, 0.006220687026532445, 0.006939723185098501, 0.004702721802890331, 0.0026521372025340995, 0.02763198597051808, -0.0015289249046874787, -0.0032333069101797562, 0.0014803745737577145, 0.018124730096136688, 0.01966932628861251, 0.013464310549871072, -0.009544846524264905, 0.003983685644324275, 0.007392449655306166, 0.0061940560576960735, 0.002359196545339337, 0.0006814455086843196, -0.008559500677341347, 0.01788505137661378, -0.0006501029331058561, 0.013118107955004454, -0.003100152066000561, -0.006402392201639628, -0.00520399860402776, -0.012261205345518, -0.000676733901942228, -0.014498206727724394, 0.005475019899128242, -0.0050974747286849365, 0.009735974912858048, -0.006242606388625838, 0.013304524736855505, 0.02041499341601316, -0.011089442716741615, -0.004431700507789849, -0.010237251713995477, -0.0005702100265994048, -0.007840464518773516, 0.004329888239189117, -0.0020615442814042595, -0.018279804302409275, -0.001955020406060548, -0.004698010196149127, 0.006300579933038897, -0.0050974747286849365, 0.0015070055425940865, -0.018732530772617828, -0.0016088178111948181, 0.005261972148442595, -0.007813833549938032, 0.017006229405033046, -0.0096780013684441, 0.0064603657460526875, -0.007840464518772627, -0.017693922988022415, -0.0019017584683886923, -0.00035716227591375826, -0.006642070921162535, -0.012767193753397521, -0.0009963055279724742, 0.015142061586525202, 0.0057945915251576, 0.012399071796438399, 0.009975653632380066, -0.004671379227312755, 0.008883783910111909, -0.0016088178111948181, -0.008958965209877157, 0.015674680963241983, 0.023131352237267144, -0.008958965209877157, -0.005177367635193164, -0.004325176632448802, 0.01506216868001875, 0.008750629065933602, 0.014449656396796406, -0.013752539600321967, -0.007254583204386655, -0.0026740565646266035, 0.022012851546161727, -0.016761839078768048, 0.008510950346410695, 0.0006015526021769801, -0.004005605006417667, -0.0154036596681415, -0.031009407405923284, -0.00419202178826783, -0.0016088178111957063, -0.0034729856297017747, -0.007654047736923353, 0.006513627683724543, 0.0028385539843851504, 0.0007879693840262547, -0.0168417319852745, -0.0025409017204482964, -0.011568800155787429, 0.006007639275845911, 0.0074723425618143935, 0.0019331010439662677, -0.014844409322590124, 0.006833199309753901, 0.002838553984384262, -0.011302490467427262, 0.01042838010258862, 0.011999607263899925, -0.006242606388625838, -0.005044212791014857, 0.00025535000731125024, 0.0037440069248004804, -0.02182172315757125, 0.005954377338172279, -0.005390415385880587, -0.003259937879014352, -0.006482285108147856, 0.007978330969694802, 0.012079500170408153, 0.003664114018293141, -0.010583454308861207, -0.0022479610632544222, -0.013779170569158339, 0.013251262799182761, -0.001342508122837316, 0.0016135294179369097, -0.003126783034836045, 0.009336510380320462, -0.0024876397827764407, -0.0056300941054026055, -0.00419202178826783, 0.005554912805636469, 0.002359196545339337, 0.005901115400500423, 0.009869129757036355, -0.007387738048564962, -0.008239929051311101, 0.017032860373867642, 0.01181319048205065, -0.0014490319981810273, 0.00843105743990158, -0.0008631506837915026, -0.0007033648707786, 0.0026787681713695832, 0.0022526726699956257, 0.0022793036388319976, -0.01042366849584564, 0.004729352771724926, 0.002865184953219746, 0.014742597053989392, 0.020175314696493807, -0.006402392201639628, 0.0017999461997879607, 0.012665381484795013, 0.005288603117277191, -0.004165390819432346, -0.019504828868856627, -0.004511593414298076, 0.01700622940503127, -0.010210620745160881, -0.0017686036242094971, 0.011653404669035083, -0.001156091340986265, -0.0027539494711357193, -0.010423668495846528, -0.013459598943128093, 0.0027586610778760345, 0.014822489960495844, -0.004085497912925007, 0.008138116782709481, -0.017001517798290955, 0.0029450778597279736, 0.0016401603867732817, 0.0010010171347136776, -0.007440999986236818, -0.0007033648707768236, 0.0025189823583549042, 0.003530959174114834, -0.019105364336319042, -0.00874591745919151, 0.023024828361923433, -0.006402392201640517, -0.0006234719642703723, 0.00020208806963939452, -0.014338420914709715, -0.013805801537992934, 0.010960999479304512, 0.0064603657460526875, -0.02283369997333118, 0.015408371274885369, -0.01335307506778527, -0.014258528008202376, 0.003957054675487903, -0.0030735210971650773, -0.004484962445463481, 0.0009211242282063381, 0.027312414344488722, 0.009602820068677964, -0.013113396348263251, -0.007467630955072302, 0.014316501552616323, 0.013198000861511794, 0.00382389983130782, 0.012612119547124045, -0.01154216918694928, -0.014152004132858664, -0.0060828205756102705, -0.009118751022893612, -0.01071660915304129, -0.006961642547191893, 0.005341865054949935, 0.0032380185169209597, -0.0045914863208045276, -0.020170603089751715, 0.00768539031250004, -0.0027006875334638636, 0.004969031491248721, 0.013464310549870184, -0.015883017107185537, -0.019904293401393325, -0.002434377845103697, 0.01950954047559783, 0.0027320301090405508, 0.00864410519058989, 0.01692633649852482, -0.01095628787256242, 0.014849120929332216, 0.001453743604923119, 0.008004961938529398, 0.000441766789161413, 0.004249995332682666, -0.0043251766324479135, 0.0023858275141765972, 0.003797268862472336, 0.0017999461997870725, 0.0011608029477283566, -0.0036860333803883094, -0.008958965209877157, -0.00879917939686159, 0.0003618738826549617, -0.0001441145252263354, -0.00022400743173367488, -0.005337153448208731, -0.0020349133125687757, -0.006242606388625838, -0.001821865561882241, 0.01426323961494358, 0.008937045847782876, -0.0007299958396131956, -0.002620794626955636, 0.0074723425618143935, 0.011866452419722506, 0.0035842211117866896, 0.010321856227245796, 0.0023059346076683696, 0.005901115400500423, -0.012900348597575828, -0.0041653908194332345, 0.023557447738641102, -0.007387738048564074, -0.007387738048564074, 0.004329888239188229, 0.0012140648854011005, 0.0005216596956687525, -0.006935011578354633, 0.005714698618651148, -0.02283369997333118, -0.0034996165985381467, 0.013464310549870184, -0.0022479610632553104, 0.01650024099715175, -0.004511593414298076, -0.01788033976987169, -0.0023278539697617617, -0.0036594024115519375, -0.011062811747906132, 0.011147416261155563, -0.01361938475614366, 0.010721320759781605, -0.005017581822177597, -0.003100152066001449, 0.009123462629633039, 0.008590843252917146, -0.010636716246533062, 0.0026255062336986157, -0.006482285108148744, 0.00443641211453194, -0.0022213300944189385, 0.0066467825279037385, 0.003530959174115722, -0.005656725074238089, 0.0002287190384748783, -0.004937688915671146, -0.0261892020466421, -0.00821329808247473, 0.010747951728617977, -0.003419723692029919, -0.004405069538953477, -0.013805801537993823, -0.005896403793760996, 0.008271271626887788, -0.0020082823437315156, 0.013384417643362845, -0.010769871090713146, -0.014791147384918268, -0.004751272133820095, -0.016628684234588853, 0.00020208806963939452, -0.013219920223605186, 0.008750629065933602, 0.0032380185169209597, 0.011094154323483707, 0.006992985122769468, 0.005927746369336795, 0.002652137202532323, 0.015008906742346895, -0.011915002750651382, -0.009172012960563691, -0.001475662967015623, -0.004112128881761379, 0.017964944283120232, -0.017161303611304746, -0.009757894274952328, -0.02166193734455657, -0.018093387520559112, -0.004698010196148239, -0.01969124565070768, -0.004351807601283397, 0.02496888908693773, -0.0032066759413442725, -0.007627416768086981, 0.003051601735071685, -0.0014224010293446554, 0.012878429235482436, 0.0063005799330380086, -0.011888371781815898, 0.005288603117277191, 0.00829790259572416, 0.009070200691962071, -0.008026881300623678, -0.015110719010948515, 0.01402356089542156, 0.001773315230952477, -0.002753949471134831, -0.00712142836020746, 0.0007080764775198034, 0.012079500170408153, -0.00230122300092539, -0.0044583314766262205, -0.0036860333803883094, 0.01112078529231919, -0.0009696745591361022, 0.012079500170408153, -0.012314467283189856, 0.012692012453631385, 0.019988897914642756, 0.011839821450886134, -0.005177367635193164, 0.0017200532932806212, -0.012261205345517112, 0.0005482906645051244, -0.005257260541699615, -0.011355752405100894, 0.0013738506984148913, 0.001693422324443361, -0.005630094105401717, -0.007627416768086093, -0.0027006875334629754, 0.004356519208025489, -0.009438322648922082, 0.0016401603867732817, 0.011839821450886134, 0.0028385539843851504, 0.004862507615904121, -0.006642070921162535, 0.00012219516313116685, -0.022540759316137304, 0.010082177507722001, 0.00012219516313116685, -0.012527515033874614, 0.016340455184136182, -0.015696600325335375, -0.006668701889998907, -0.005310522479372359, 0.0033179114234291873, 0.020255207603000258, 0.0032912804545937036, -0.013992218319844874, 0.017432324906405228, -0.001342508122838204, 0.014316501552617211, 0.011280571105334758, 0.008138116782709481, -0.0009696745591369904, -0.0002772693694055306, -0.011462276280442829, 0.02736567628215969, -0.009358429742412966, -0.007627416768087869, 0.0066201515590673665, 0.00536849602378453, -0.0007566268084486794, -0.0012892461851654602, -0.012607407940382842, -0.005496939261222522, -0.012314467283189856, 0.0027320301090405508, 0.016446979059479894, 0.013624096362885751, 0.0003086119449822178, -0.0023278539697617617, -0.025496796856912418, 0.010401749133752247, -0.0015555558735238506, 0.010268594289573052, -0.02317990256819691, -0.005070843759850341, 0.0006814455086843196, -0.0065888089834915675, -0.012447622127368163, -0.013566122818470916, -0.017134672642468374, -0.011675324031129364, -0.01505745707327577, -0.018199911395901047, -0.0030735210971650773, -0.011009549810234276, 0.0009743861658781938, 0.011946345326229846, 0.0018265771686234444, 0.0022793036388319976, -0.010130727838653542, 0.013996929926586077, -0.011435645311607345, 0.006007639275845911, 0.015195323524197057, 0.00795170000085843, 0.003930423706651531, -0.0008631506837923908, 0.0035842211117866896, -0.0021946991255834547, 0.00411684048850347, -0.005976296700266559, 0.0012140648854002123, -0.019744507588378646, -0.006002927669102043, 0.0020662558881445747, -0.018386328177752098, 0.0035575901429503176, 0.0048891385847413815, -0.016761839078768048, 0.012585488578287674, 0.01000228460121555, -0.01284708665990486, -0.006562178014654307, 0.005048924397755172, -0.016282481639723123, 0.01615403840228602, -0.009624739430772244, -0.01122259756092081, -0.011915002750650494, 0.005155448273098884, -0.007254583204384879, -0.008692655521518766, -0.023739152913748285, -0.005257260541700504, -0.0072013212667139115, 0.011067523354646447, -0.009118751022893612, 0.013038215048496227, -0.013805801537993823, 0.00701961609160584, 0.00451630502103928, -0.007254583204385767, 0.005847853462830344, 0.0083777955022315, -0.018599375928437745, 0.004569566958711135, 0.008271271626887788, -0.01242099115853268, -0.008186667113640134, 0.00046839775799689676, 0.0027586610778769227, 0.00020208806963850634, 0.017592110719419907, -0.008452976801996748, -0.00477790310265469, 0.023450923863296502, -0.02243423544079448, -0.0062692373574622096, -0.003446354660866291, -0.01122259756092081, 0.0195628024132688, -0.006002927669102043, 0.0005749216333406082, -0.0034996165985372585, 0.0027852920467124065, 0.0024390894518475648, -0.007787202581102548, -0.01606943388903659, -0.018333066240080242, -0.015270504823963194, 0.005341865054949935, -0.018546113990766777, -0.015616707418828035, 0.025767818152012012, 0.015301847399540769, 0.0039037927378169357, -0.013113396348262363, 0.007712021281335524, -0.00011748355639085162, -0.0036860333803874212, -0.004511593414298076, -0.0006234719642712605, 0.005421757961456386, 0.0015070055425931983, 0.0060076392758450226, -0.011116073685577987, 0.014849120929332216, 0.007419080624142538, 0.01255885760945219, -0.033912183009025654, 0.006726675434412854, -0.006615439952326163, 0.017379062968733372, 0.004969031491247833, -0.0204635437469447, -0.002354484938599022, -0.006402392201639628, 0.008084854845038514, 0.01170666660670694, -0.008932334241042561, 0.004090209519667987, -0.008266560020145697, -0.0036594024115528256, -0.016655315203425225, 0.012132762108080009, -0.0047779031026555785, -0.02584299945177726, 0.01572794290091384, -0.003899081131073956, -0.0012892461851663484, 0.0020662558881445747, -0.003073521097164189, -0.0020881752502397433, 0.01708612231153861, 0.0029450778597270855, -0.016815101016439904, -0.002114806219075227, 0.011280571105334758, -0.004058866944089523, -0.0005968409954348886, -0.029491442182283834, -0.01934504305584106, 0.006273948964203413, -0.010237251713995477, 0.0005749216333406082, 0.03197283389075434, 0.004809245678233154, 0.008004961938530286, -0.00917201296056458, -0.0067752257653426184, 0.015195323524197057, -0.01258077697154647, 0.001720053293279733, -0.007547523861579641, -0.019558090806527595, -0.00557683216773075, -0.002114806219075227, 0.00864410519058989, 0.015301847399540769, 0.0002553500073094739, -0.007387738048564074, 0.006114163151187846, -0.012873717628740344, -0.00863939358384691, -0.02270054512915287, -0.005203998604030424, -0.0007832577772859395, 0.010295225258409424, 0.00038850485148955727, 0.007339187717635198, 0.0037173759559658848, 0.0024923513895194205, -0.0021946991255825665, -0.007227952235550283, -0.012740562784561149, 0.006620151559068255, -0.003259937879016128, -0.009358429742413854, -0.004405069538954365, 0.009176724567306671, 0.00025535000731125024, 0.0009743861658781938, 0.018311146877985962, -0.006562178014655196, 0.01831114687798685, 0.0032646494857582198, 0.009549558131006997, -0.0004903171200911771, -0.0027273185022993474, -0.0021414371879098226, -0.005576832167729862, 0.004409781145696456, 0.007925069032022058, 0.01804483718962846, 0.004702721802890331, -0.0073611070797285905, 0.0052087102107707395, -0.006668701889998019, 0.021959589608491648, -0.00360614047388097, 0.009549558131006997, -0.0021680681567470828, 0.00709950899811318, -0.011595431124621136, -0.01825317333357379, -0.00033053130707649814, 0.006300579933038897, 0.02009542178998558, -0.01095628787256242, 0.008351164533395128, 0.0055282818368000974, 0.01841767075333056, 0.002412458483011193, 0.013144738923840826, -0.0063757612328032565, -0.0036061404738800817, -0.0050974747286849365, 0.001373850698413115, 0.0011874339165647285, -0.014498206727724394, 0.012851798266646064, 0.00012219516313205503, -0.01566996935649989, 0.002252672669996514, -0.012607407940382842, 0.015541526119062787, -0.011675324031128476, -0.008932334241041673, -0.0019283894372250643, 0.007179401904619631, 0.012372440827602027, -0.010849763997219597, 0.006087532182352362, -0.004058866944088635, -0.0012359842474944926, 0.004489674052202908, 0.010188701383065712, -0.0008098887461214233, -0.009624739430772244, -0.0001973764628981911, -0.006908380609520037, -0.01628248163972401, -0.007600785799250609, -0.007494261923907786, 0.009735974912858936, 0.011706666606707827, -0.014524837696559878, -0.0013158771540018321, -0.008346452926653924, -0.010237251713995477, 0.014582811240974713, -0.007307845142057623, -0.004831165040327434, 0.005821222493993972, -0.013512860880800837, -0.004511593414298076, 0.006700044465576482, 0.003930423706651531, 0.007339187717635198, 0.006353841870709864, -0.010157358807489025, 0.021160660543418253, -0.003446354660866291, -0.01353949184963632, -0.014871040291426496, 0.005341865054949935, 0.011786559513215167, -0.012341098252024452, -0.012634038909218326, 0.0191633378807321, 0.009629451037513448, -0.0033398307855225795, -0.01106281174790702, 0.009895760725871838, -0.003978974037582184, -0.004325176632447025, -0.009464953617758454, -0.005203998604028648, -0.017827077832199834, 0.002012993950473607, 0.008990307785453844, -0.016175957764381188, -0.00906548908521998, -0.004804534071491062, -0.004724641164984611, -0.008239929051311101, 0.013224631830347278, -0.0070681664225356045, 0.004249995332681777, 0.007925069032022058, -0.003233306910178868, -0.016735208109933453, 0.0034244352987720106, -0.019211888211661865, -0.016495529390410546, 0.008031592907364882, -0.010183989776325397, 0.000281980976146734, 0.009203355536141267, 0.0055282818368000974, -0.0023811159074336175, 0.003530959174114834, -0.00357950950504371, 0.00033524291381770155, -0.008452976801996748, 0.011600142731363228, -0.005257260541700504, -0.003419723692030807, 0.012612119547124045, -0.013326444098949786, 0.012958322141990664, -0.006455654139312372, 0.0022793036388319976, -0.011781847906473075, 0.004542935989875652, 0.000601552602176092, 0.005981008307009539, -0.01718793458014023, -0.00025063840056915865, 0.006407103808382608, 0.018524194628672497, 0.006992985122769468, 0.005554912805634693, 0.0028119230155478903, -0.0015022939358519949, -0.013912325413336646, -0.00011748355639085162, 0.0055282818368000974, -0.001342508122837316, -0.00291373528414951, 0.01642034809064441, 0.004010316613159759, -0.007867095487609888, -0.0032333069101806444, 0.020920981823895346, -0.009225274898235547, -0.0033930927231944352, 0.0018265771686234444, -0.006082820575611159, 0.008644105190590778, -0.00453822438313356, -0.007174690297878428, 0.0039037927378151593, -0.001848496530718613, -0.000863150683793279, 0.005847853462830344, -0.014152004132858664, 0.0026255062336977275, 0.005075555366591544, -0.008586131646176831, -0.005470308292385262, 0.004489674052203796, -0.011089442716741615, 0.015168692555360686, 0.013224631830347278, 0.022465578016372056, 0.0076321283748290725, 0.016553502934822717, 0.014156715739600756, 0.011466987887184033, 0.005155448273099772, -0.0004903171200911771, 0.003184756579249104, 0.0018798391062953002, -0.007893726456445371, -0.01521724288629045, 0.021959589608491648, 0.012692012453632273, -0.0012093532786581207, 0.009549558131006997, 0.011999607263899925, 0.01831114687798685, -0.0029936281906559614, 0.009682712975186192, -0.0004104242135847258, 0.002039624919309091, 0.012851798266646952, -0.0001973764628981911, -0.0015289249046883668, 0.003637483049456769, 0.01255885760945219, 0.017831789438942813, -0.0036860333803883094, -0.010663347215369434, -0.018626006897275005, 0.0011075410100565009, -0.001662079748867562, -0.0155101835434861, -0.0204635437469447, -0.004671379227313643, -0.00879917939686159, -0.01926515014933372, -0.014258528008203264, 0.009363141349155946, -0.002141437187910711, -0.006695332858832614, 0.0048891385847413815, 0.004036947581995243, -0.000836519714956907, 0.011600142731363228, -0.0005702100265994048, -0.004751272133820095, -0.005097474728685825, -0.012926979566411312, 0.013624096362884863, -0.012820455691069377, 0.001400481667250375, -0.009571477493100389, 0.004995662460084205, 0.015195323524197057, -0.005203998604029536, -0.00839971486432578, -0.00925190586707103, -0.01061008527769669, 0.006247317995367041, 0.0043565192080237125, 0.016127407433450536, 0.004915769553575977, 0.005288603117278079, -0.004511593414298076, -0.0027006875334638636, -0.00011748355639085162, 0.006779937372083822, -0.007414369017399558, 0.004116840488502582, -0.010290513651669109, -0.005550201198896154, 0.002012993950473607, 0.0015602674802659422, -0.013725908631486483, 0.0016934223244442492, -0.009891049119129747, -0.006402392201640517, -0.004325176632448802, -0.01694825586061821, 0.0017200532932815094, 0.00443641211453194, 0.0030782327039062807, 0.0012406958542365842, -0.01154216918694928, -0.010636716246533062, 0.0076321283748290725, 0.009869129757036355, -0.007254583204385767, 0.02014868372765566, 0.011733297575542423, 0.005688067649815665, -0.007068166422534716, 0.011839821450885246, -0.0017686036242103853, -0.011488907249278313, -0.0013691390916736879, 0.009895760725872726, -0.011542169186950169, -0.013006872472920428, 0.0008678622905344824, -0.006935011578355521, 0.0032380185169209597, -0.00898559617871264, -0.015829755169515458, -0.010583454308862095, -0.01098291884139968, -0.0002240074317327867, -0.011409014342771862, -3.759064988351213e-05, 0.009735974912858936, -0.010210620745159993, 0.0007347074463552872, 0.002838553984384262, -0.007920357425280855, 0.03069454738663424, 0.004116840488502582, 0.002119517825818207, 0.005847853462830344, 0.0018798391062953002, -0.007148059329042056, -0.030370264153864568, 0.004196733395009922, -0.012341098252024452, -0.0004903171200911771, 0.010481642040259587, 0.0011608029477283566, 0.010188701383065712, -0.012713931815724777, -0.0005968409954340004, 0.013198000861511794, -0.00017074549406181916, 0.0014803745737577145, -0.0024077468762691012, 0.0027852920467115183, -0.0036327714427155655, 0.011466987887184033, 0.005448388930294534, -0.003126783034836045, 0.0040902095196670984, -0.008586131646176831, 0.002705399140205955, 0.0010542790723846451, -0.004058866944088635, -0.0047779031026555785, 0.0019863629816390116, -0.0042985456636115416, 0.007871807094351091, -0.0047779031026555785, -0.0020615442814042595, 0.00030861194498310596, 0.0057945915251576, -0.00581651088725188, 0.004143471457338066, -0.012074788563665173, 0.0017999461997879607, -0.02219455672127424, 0.000441766789161413, -0.015163980948619482, -0.015297135792799565, -0.022327711565451658, -0.01284708665990486, -0.01188837178181501, 0.0039304237066524195, 0.0037440069248013685, 0.01436976349028729, -0.005257260541700504, 0.0011341719788928728, -0.017347720393156685, 0.01727253909339055, 0.006646782527904627, 0.00880389100360457, 0.003664114018293141, 0.0049157695535777535, 0.0039037927378169357, 0.005954377338172279, 0.01061479688443967, 0.008404426471066984, -0.005257260541700504, 0.0055282818368000974, -0.005736617980745429, -0.015030826104439399, 0.0064869967148890595, 0.01144035691834766, -0.014498206727723506, 0.00582122249399486, 0.005794591525158488, 0.014050191864257933, -0.003632771442717342, -0.003126783034836933, -0.004724641164984611, 0.010188701383065712, 0.010934368510469028, -0.007440999986236818, 0.009150093598469411, -0.004138759850597751, -0.0022479610632553104, 0.0024390894518466766, -0.003259937879014352, 0.004356519208024601, -0.015829755169515458, 0.008271271626887788, -0.002274592032089906, 0.0037173759559658848, 0.002039624919309091, 0.012798536328974208, 0.01506216868001875, -0.0015289249046865905, -0.0019017584683895805, -0.02190161606407859, -0.013353075067786158, -0.004192021788268718, 0.0024657204206830485, -0.0035262475673736304, 0.019962266945807272, 0.004915769553576865, 0.0027586610778769227, 0.005847853462830344, 0.007978330969693914, 0.0108544756039608, -0.00046368615125569335, 0.006726675434411078, -0.004405069538955253, 0.019376385631418636, -0.0015821868423584462, -0.020676591497630348, -0.0009963055279724742, 0.012186024045750976, -0.0022479610632544222, -0.008346452926653924, -0.0004636861512565815, 0.003770637893635964, 0.012585488578287674, 0.0017999461997879607, 0.006859830278590273, -0.0017686036242094971, 0.0031314946415772482, 9.556419429657126e-05, 0.008937045847781988, -0.016468898421574174, -0.0024876397827764407, -0.012767193753397521, 0.007259294811127859, -0.009864418150295151, -0.01543029063697876, 0.0032380185169209597, -0.013379706036620753, -0.0037126643492246814, 0.0033179114234291873, 0.004915769553576865, -0.006642070921162535, -0.003792557255732021, -0.006935011578355521, 0.0011608029477283566, -0.011089442716741615, 0.016819812623181996, 0.005981008307009539, -0.0007832577772859395, 0.0015602674802659422, 0.004036947581995243, 0.0026787681713695832, 0.008351164533396016, -0.006482285108146968, 0.012558857609453078, 0.012319178889930171, 0.0030782327039062807, -0.008745917459190622, 0.005847853462831232, 0.017991575251956604, -0.011355752405100006, 0.02752546209517437, -0.00038379324474835386, -0.006269237357461321, 0.004889138584740493, -0.018279804302409275, -0.015110719010947626, 0.0037173759559649966, -0.02224781865894343, 0.0028918159220552297, 0.010588165915603298, 0.006753306403248338, 0.010747951728617977, -0.005124105697521308, -0.0032333069101806444, -0.00829319098898118, -0.004005605006417667, -0.01026388268283096, 0.000441766789161413, -0.010503561402353867, 0.0028119230155496666, 0.0031314946415781364, -0.004831165040328322, -0.003739295318059277, -0.016735208109933453, -0.0046181172896408995, 0.010827844635125317, 0.014476287365630114, -0.007414369017399558, -0.001475662967015623, 0.00701961609160584, 0.004249995332681777, -0.009092120054056352, -0.00429854566361243, -0.0035262475673736304, 0.0010542790723855333, -0.010397037527011044, 0.0024390894518466766, -0.0025142707516119245, 0.010108808476559261, 0.010641427853274266, -0.015643338387664407, 0.012319178889929283, 0.007818545156679235, 0.0011608029477283566, 0.005288603117278079, 0.009283248442649494, 0.0040902095196670984, 0.005288603117278079, 0.0017733152309515887, -0.0005968409954340004, 0.010135439445393857, 0.007498973530648989, -0.0046447482584772715, -0.006189344450953094, -0.014791147384918268, 0.01223928598342372, 0.007925069032022947, 0.0040635785508307265, 0.008670736159425374, -0.00030390033824101437, -0.002088175250238855, 0.012186024045750976, 0.006779937372082934, 0.0039304237066524195, 0.010747951728617977, -0.030103954465507066, 0.0019863629816390116, 0.0008412313216989986, -0.013033503441755911, 0.008031592907364882, 0.0025189823583549042, -0.02001081727673526, -0.0025675326892855566, 0.004942400522412349, 0.001746684262116105, 0.008351164533396904, -0.023073378692854973, 0.0022260417011583655, -0.005630094105401717, 0.0008678622905353706, -0.007680678705757948, 0.001427112636086747, -0.01393895638217213, 0.003211387548085476, -0.0026740565646274916, -0.02190161606407859, 0.010108808476559261, -0.004005605006417667, -0.015057457073276659, -0.002833842377643059, -0.0057898799184172844, -0.0031534140036706404, 0.0010542790723855333, 0.0018798391062953002, 0.0045695669587120236, 0.016686657779001912, -0.01010409686981717, -0.005709987011909057, 0.015541526119063676, -0.0004903171200911771, -0.00975789427495144, -0.020090710183244376, 0.017379062968733372, 0.0011874339165647285, -0.0029137352841503983, -0.003978974037582184, 0.001560267480265054, -0.0018484965307168366, -0.008213298082475617, -0.011089442716741615, -0.000863150683793279, 0.009150093598469411, 0.007818545156681012, -0.001342508122837316, 0.0040635785508307265, -0.0017153416865394178, 0.012851798266646064, 0.0011075410100565009, -0.015616707418828923, 0.00451630502103928]\n"
     ]
    }
   ],
   "source": [
    "# The difference in the means for Permutation1 (0.001103) now looks hugely different to our observed difference of 0.14206. \n",
    "# It's sure starting to look like our observed difference is significant, and that the Null is false; platform does impact on ratings\n",
    "# But to be sure, let's create 10,000 permutations, calculate the mean ratings for Google and Apple apps and the difference between these for each one, and then take the average of all of these differences.\n",
    "# Let's create a vector with the differences - that will be the distibution of the Null.\n",
    "\n",
    "# First, make a list called difference.\n",
    "difference = []\n",
    "\n",
    "# Now make a for loop that does the following 10,000 times:\n",
    "# 1. makes a permutation of the 'Rating' as you did above\n",
    "# 2. calculates the difference in the mean rating for apple and the mean rating for google. \n",
    "\n",
    "for i in range(10000):\n",
    "    df['new'] = np.random.permutation(df['Rating'])\n",
    "    applemean = np.mean(df['new'][df['platform']=='apple'])\n",
    "    googlemean = np.mean(df['new'][df['platform']=='google'])\n",
    "    sample = applemean - googlemean\n",
    "    difference.append(sample)\n",
    "\n"
   ]
  },
  {
   "cell_type": "code",
   "execution_count": 143,
   "metadata": {
    "colab": {},
    "colab_type": "code",
    "id": "VlzpYTkYFcv_"
   },
   "outputs": [
    {
     "data": {
      "image/png": "[encoded data removed]",
      "text/plain": [
       "<Figure size 432x288 with 1 Axes>"
      ]
     },
     "metadata": {
      "needs_background": "light"
     },
     "output_type": "display_data"
    }
   ],
   "source": [
    "# Make a variable called 'histo', and assign to it the result of plotting a histogram of the difference list. \n",
    "histo = plt.hist(difference)"
   ]
  },
  {
   "cell_type": "code",
   "execution_count": 144,
   "metadata": {
    "colab": {},
    "colab_type": "code",
    "id": "KhqgDFd3FcwB"
   },
   "outputs": [
    {
     "name": "stdout",
     "output_type": "stream",
     "text": [
      "0.1420605474512291\n"
     ]
    }
   ],
   "source": [
    "# Now make a variable called obs_difference, and assign it the result of the mean of our 'apple' variable and the mean of our 'google variable'\n",
    "obs_difference = np.mean(apple) - np.mean(google)\n",
    "\n",
    "# Make this difference absolute with the built-in abs() function. \n",
    "obs_difference = abs(obs_difference)\n",
    "\n",
    "# Print out this value; it should be 0.1420605474512291. \n",
    "print(obs_difference)\n"
   ]
  },
  {
   "cell_type": "markdown",
   "metadata": {
    "colab_type": "text",
    "id": "QUNuuSgDFcwE"
   },
   "source": [
    "## Stage 4 -  Evaluating and concluding\n",
    "### 4a. What is our conclusion?"
   ]
  },
  {
   "cell_type": "code",
   "execution_count": 147,
   "metadata": {
    "colab": {},
    "colab_type": "code",
    "id": "XMQHnqx1FcwF"
   },
   "outputs": [
    {
     "name": "stdout",
     "output_type": "stream",
     "text": [
      "0\n",
      "0\n"
     ]
    }
   ],
   "source": [
    "'''\n",
    "What do we know? \n",
    "\n",
    "Recall: The p-value of our observed data is just the proportion of the data given the null that's at least as extreme as that observed data.\n",
    "\n",
    "As a result, we're going to count how many of the differences in our difference list are at least as extreme as our observed difference.\n",
    "\n",
    "If less than or equal to 5% of them are, then we will reject the Null. \n",
    "'''\n",
    "positiveExtremes = []\n",
    "negativeExtremes = []\n",
    "for i in range(len(difference)):\n",
    "    if (difference[i] >= obs_difference):\n",
    "        positiveExtremes.append(difference[i])\n",
    "    elif (difference[i] <= -obs_difference):\n",
    "        negativeExtremes.append(difference[i])\n",
    "\n",
    "print(len(positiveExtremes))\n",
    "print(len(negativeExtremes))"
   ]
  },
  {
   "cell_type": "markdown",
   "metadata": {
    "colab_type": "text",
    "id": "4RTofY9wFcwI"
   },
   "source": [
    "### 4b. What is our decision?\n",
    "So actually, zero differences are at least as extreme as our observed difference!\n",
    "\n",
    "So the p-value of our observed data is 0. \n",
    "\n",
    "It doesn't matter which significance level we pick; our observed data is statistically significant, and we reject the Null.\n",
    "\n",
    "We conclude that platform does impact on ratings. Specifically, we should advise our client to integrate **only Google Play** into their operating system interface. "
   ]
  },
  {
   "cell_type": "markdown",
   "metadata": {
    "colab_type": "text",
    "id": "Cu_eh7fTFcwJ"
   },
   "source": [
    "### 4c. Other statistical tests, and next steps\n",
    "The test we used here is the Permutation test. This was appropriate because our data were not normally distributed! \n",
    "\n",
    "As we've seen in Professor Spiegelhalter's book, there are actually many different statistical tests, all with different assumptions. How many of these different statistical tests can you remember? How much do you remember about what the appropriate conditions are under which to use them? \n",
    "\n",
    "Make a note of your answers to these questions, and discuss them with your mentor at your next call. \n"
   ]
  }
 ],
 "metadata": {
  "colab": {
   "collapsed_sections": [
    "5fbRq2MZFcvq",
    "4RTofY9wFcwI",
    "Cu_eh7fTFcwJ"
   ],
   "name": "Springboard Apps project - Tier 3 - Complete.ipynb",
   "provenance": []
  },
  "kernelspec": {
   "display_name": "Python 3",
   "language": "python",
   "name": "python3"
  },
  "language_info": {
   "codemirror_mode": {
    "name": "ipython",
    "version": 2
   },
   "file_extension": ".py",
   "mimetype": "text/x-python",
   "name": "python",
   "nbconvert_exporter": "python",
   "pygments_lexer": "ipython2",
   "version": "2.7.17"
  }
 },
 "nbformat": 4,
 "nbformat_minor": 1
}
